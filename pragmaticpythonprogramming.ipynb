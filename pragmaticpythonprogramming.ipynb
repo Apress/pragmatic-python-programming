{
 "cells": [
  {
   "cell_type": "markdown",
   "metadata": {},
   "source": [
    "# Pragmatic Python Programming\n",
    "\n",
    "2022 (C) Copyright, Gabor Guta"
   ]
  },
  {
   "cell_type": "markdown",
   "metadata": {},
   "source": [
    "The cell below is to check Python version."
   ]
  },
  {
   "cell_type": "code",
   "execution_count": null,
   "metadata": {},
   "outputs": [],
   "source": [
    "import sys\n",
    "print(sys.version)"
   ]
  },
  {
   "cell_type": "markdown",
   "metadata": {},
   "source": [
    "## The expression"
   ]
  },
  {
   "cell_type": "markdown",
   "metadata": {},
   "source": [
    "### Listing 1-1"
   ]
  },
  {
   "cell_type": "code",
   "execution_count": null,
   "metadata": {},
   "outputs": [],
   "source": [
    "500*2 + 200"
   ]
  },
  {
   "cell_type": "markdown",
   "metadata": {},
   "source": [
    "### Listing 1-2"
   ]
  },
  {
   "cell_type": "code",
   "execution_count": null,
   "metadata": {},
   "outputs": [],
   "source": [
    "((500*2) + 200)"
   ]
  },
  {
   "cell_type": "markdown",
   "metadata": {},
   "source": [
    "###  Listing 1-3"
   ]
  },
  {
   "cell_type": "code",
   "execution_count": null,
   "metadata": {},
   "outputs": [],
   "source": [
    "500*2 + 200 >= 1000"
   ]
  },
  {
   "cell_type": "markdown",
   "metadata": {},
   "source": [
    "### Listing 1-4"
   ]
  },
  {
   "cell_type": "code",
   "execution_count": null,
   "metadata": {},
   "outputs": [],
   "source": [
    "'no' + ' ' + 'discount'"
   ]
  },
  {
   "cell_type": "markdown",
   "metadata": {},
   "source": [
    "### Listing 1-5"
   ]
  },
  {
   "cell_type": "code",
   "execution_count": null,
   "metadata": {},
   "outputs": [],
   "source": [
    "'5%' if 500*2+200 >= 1000 else 'none'"
   ]
  },
  {
   "cell_type": "markdown",
   "metadata": {},
   "source": [
    "### Listing 1-6"
   ]
  },
  {
   "cell_type": "code",
   "execution_count": null,
   "metadata": {},
   "outputs": [],
   "source": [
    "0.05 == 5e-2"
   ]
  },
  {
   "cell_type": "markdown",
   "metadata": {},
   "source": [
    "### Listing 1-7"
   ]
  },
  {
   "cell_type": "code",
   "execution_count": null,
   "metadata": {},
   "outputs": [],
   "source": [
    "(0+1j)**2 == -1"
   ]
  },
  {
   "cell_type": "markdown",
   "metadata": {},
   "source": [
    "### Listing 1-8"
   ]
  },
  {
   "cell_type": "code",
   "execution_count": null,
   "metadata": {},
   "outputs": [],
   "source": [
    "PRICE = 500\n",
    "QUANTITY = 2\n",
    "LIMIT = 1000\n",
    "total_amount = PRICE * QUANTITY\n",
    "d_available = total_amount >= LIMIT\n",
    "discount = '5%' if d_available else 'none'"
   ]
  },
  {
   "cell_type": "markdown",
   "metadata": {},
   "source": [
    "### Listing 1-9"
   ]
  },
  {
   "cell_type": "code",
   "execution_count": null,
   "metadata": {},
   "outputs": [],
   "source": [
    "difference = 550 - 500\n",
    "del difference"
   ]
  },
  {
   "cell_type": "markdown",
   "metadata": {},
   "source": [
    "### Listing 1-10"
   ]
  },
  {
   "cell_type": "code",
   "execution_count": null,
   "metadata": {},
   "outputs": [],
   "source": [
    "PRICE: int = 500\n",
    "QUANTITY: int = 2\n",
    "LIMIT: int = 1000\n",
    "total_amount: int = PRICE * QUANTITY\n",
    "d_available: bool = total_amount >= LIMIT\n",
    "discount: str = '5%' if d_available else 'none'"
   ]
  },
  {
   "cell_type": "markdown",
   "metadata": {},
   "source": [
    "### Listing 1-11"
   ]
  },
  {
   "cell_type": "code",
   "execution_count": null,
   "metadata": {},
   "outputs": [],
   "source": [
    "PRICE1 = 10\n",
    "PRICE2 = 2500\n",
    "f'Difference of {PRICE1} and {PRICE2} is {PRICE2-PRICE1}'"
   ]
  },
  {
   "cell_type": "markdown",
   "metadata": {},
   "source": [
    "### Listing 1-12"
   ]
  },
  {
   "cell_type": "code",
   "execution_count": null,
   "metadata": {},
   "outputs": [],
   "source": [
    "f'{PRICE1:.2f}, {PRICE2:05d}'"
   ]
  },
  {
   "cell_type": "markdown",
   "metadata": {},
   "source": [
    "## The function"
   ]
  },
  {
   "cell_type": "markdown",
   "metadata": {},
   "source": [
    "### Listing 2-1"
   ]
  },
  {
   "cell_type": "code",
   "execution_count": null,
   "metadata": {},
   "outputs": [],
   "source": [
    "abs(-1)"
   ]
  },
  {
   "cell_type": "markdown",
   "metadata": {},
   "source": [
    "### Listing 2-2"
   ]
  },
  {
   "cell_type": "code",
   "execution_count": null,
   "metadata": {
    "scrolled": true
   },
   "outputs": [],
   "source": [
    "round(3499 * 1.1)"
   ]
  },
  {
   "cell_type": "code",
   "execution_count": null,
   "metadata": {},
   "outputs": [],
   "source": [
    "print(f\"{3499 * 1.1:.40}\")"
   ]
  },
  {
   "cell_type": "markdown",
   "metadata": {},
   "source": [
    "### Listing 2-3"
   ]
  },
  {
   "cell_type": "code",
   "execution_count": null,
   "metadata": {},
   "outputs": [],
   "source": [
    "OLD_NET = 5000\n",
    "NEW_NET = 6500\n",
    "VAT_RATE = 1.1\n",
    "difference_gross = abs(round(OLD_NET*1.1)\n",
    "                       -round(NEW_NET*1.1))"
   ]
  },
  {
   "cell_type": "markdown",
   "metadata": {},
   "source": [
    "### Listing 2-4"
   ]
  },
  {
   "cell_type": "code",
   "execution_count": null,
   "metadata": {},
   "outputs": [],
   "source": [
    "print('Hello World!')"
   ]
  },
  {
   "cell_type": "markdown",
   "metadata": {},
   "source": [
    "### Listing 2-5"
   ]
  },
  {
   "cell_type": "code",
   "execution_count": null,
   "metadata": {},
   "outputs": [],
   "source": [
    "total_amount = 1000\n",
    "print('Order total:', total_amount)"
   ]
  },
  {
   "cell_type": "markdown",
   "metadata": {},
   "source": [
    "### Listing 2-6"
   ]
  },
  {
   "cell_type": "code",
   "execution_count": null,
   "metadata": {},
   "outputs": [],
   "source": [
    "product_name = input('Please, enter the name of the product')\n",
    "print('The name of the product:', product_name)"
   ]
  },
  {
   "cell_type": "markdown",
   "metadata": {},
   "source": [
    "### Listing 2-7"
   ]
  },
  {
   "cell_type": "code",
   "execution_count": null,
   "metadata": {},
   "outputs": [],
   "source": [
    "PRODUCT_NAME = 'Cube'\n",
    "PRICE = 100\n",
    "print('The product:', PRODUCT_NAME, end=' ')\n",
    "print('(', PRICE, ' USD)', sep='')"
   ]
  },
  {
   "cell_type": "markdown",
   "metadata": {},
   "source": [
    "### Listing 2-8"
   ]
  },
  {
   "cell_type": "code",
   "execution_count": null,
   "metadata": {},
   "outputs": [],
   "source": [
    "def total_sum(price, quantity):\n",
    "    return price * quantity"
   ]
  },
  {
   "cell_type": "markdown",
   "metadata": {},
   "source": [
    "### Listing 2-9"
   ]
  },
  {
   "cell_type": "code",
   "execution_count": null,
   "metadata": {},
   "outputs": [],
   "source": [
    "total_sum(1000, 8)"
   ]
  },
  {
   "cell_type": "markdown",
   "metadata": {},
   "source": [
    "### Listing 2-10"
   ]
  },
  {
   "cell_type": "code",
   "execution_count": null,
   "metadata": {},
   "outputs": [],
   "source": [
    "total_sum(price=1000, quantity=8)\n",
    "total_sum(1000, quantity=8)"
   ]
  },
  {
   "cell_type": "markdown",
   "metadata": {},
   "source": [
    "### Listing 2-11"
   ]
  },
  {
   "cell_type": "code",
   "execution_count": null,
   "metadata": {},
   "outputs": [],
   "source": [
    "def total_sum_v2(price=500, quantity=5):\n",
    "    return price * quantity"
   ]
  },
  {
   "cell_type": "markdown",
   "metadata": {},
   "source": [
    "### Listing 2-12"
   ]
  },
  {
   "cell_type": "code",
   "execution_count": null,
   "metadata": {},
   "outputs": [],
   "source": [
    "total_sum_v2(1000, 8)\n",
    "total_sum_v2(1000, quantity=8)\n",
    "total_sum_v2(price=1000, quantity=8)\n",
    "total_sum_v2(quantity=8, price=1000)\n",
    "total_sum_v2(1000)\n",
    "total_sum_v2(price=1000)\n",
    "total_sum_v2(quantity=8)\n",
    "total_sum_v2()"
   ]
  },
  {
   "cell_type": "markdown",
   "metadata": {},
   "source": [
    "### Listing 2-13"
   ]
  },
  {
   "cell_type": "code",
   "execution_count": null,
   "metadata": {},
   "outputs": [],
   "source": [
    "PRICE = 2000\n",
    "\n",
    "def total_sum_v3(quantity):\n",
    "    return PRICE * quantity\n",
    "\n",
    "total_sum_v3(100)"
   ]
  },
  {
   "cell_type": "markdown",
   "metadata": {},
   "source": [
    "### Listing 2-14"
   ]
  },
  {
   "cell_type": "code",
   "execution_count": null,
   "metadata": {},
   "outputs": [],
   "source": [
    "PRICE = 2000\n",
    "def total_sum_v4(quantity):\n",
    "    PRICE = 3000\n",
    "    return PRICE * quantity\n",
    "total_sum_v4(100)"
   ]
  },
  {
   "cell_type": "markdown",
   "metadata": {},
   "source": [
    "### Listing 2-15"
   ]
  },
  {
   "cell_type": "code",
   "execution_count": null,
   "metadata": {},
   "outputs": [],
   "source": [
    "def discount_30(price, quantity):\n",
    "    return 0.3 if price>500 else 0\n",
    "\n",
    "def discount_4p1(price, quantity):\n",
    "    return ((quantity//5) / quantity)\n",
    "\n",
    "def reduced_price_p(price, quantity, discount):\n",
    "    total_value = price * quantity\n",
    "    discount_in_fraction = discount(price, quantity)\n",
    "    return total_value * (1-discount_in_fraction)\n",
    "\n",
    "print(reduced_price_p(1000, 5, discount_30))\n",
    "print(reduced_price_p(1000, 5, discount_4p1))"
   ]
  },
  {
   "cell_type": "markdown",
   "metadata": {},
   "source": [
    "### Listing 2-16"
   ]
  },
  {
   "cell_type": "code",
   "execution_count": null,
   "metadata": {},
   "outputs": [],
   "source": [
    "def reduced_price_e(price, quantity, discount, limit = 5000):\n",
    "    def total_sum():\n",
    "         return price * quantity\n",
    "\n",
    "    def d_available(total_value):\n",
    "        return total_value >= limit\n",
    "\n",
    "    multiplier = 1.0 - (discount \n",
    "                    if d_available(total_sum()) \n",
    "                    else 0.0)\n",
    "    return round(total_sum() * multiplier)"
   ]
  },
  {
   "cell_type": "markdown",
   "metadata": {},
   "source": [
    "### Listing 2-17"
   ]
  },
  {
   "cell_type": "code",
   "execution_count": null,
   "metadata": {},
   "outputs": [],
   "source": [
    "def total_sum(price: int, quantity: int) -> int:\n",
    "    \"\"\"Calculates the total sum\n",
    "    \n",
    "    The total sum is the product of the price and quantity.\n",
    "    \n",
    "    Args:\n",
    "        price: the unit price\n",
    "        quantity: the quantity of the product\n",
    "    Returns:\n",
    "        the result of the computation, which is the the value of the product\n",
    "    \"\"\"\n",
    "    assert price >= 0, \"the price cannot be negativ\"\n",
    "    assert quantity >= 0, \"the quantity cannot be negativ\"\n",
    "    total_sum = price * quantity\n",
    "    return total_sum\n",
    "\n",
    "def discount_available(value: int, limit: int = 5000) -> bool:\n",
    "    \"\"\"Checks whether any discount is available\n",
    "    \n",
    "    Based on the limit it decides whether the dicount can be applied\n",
    "    \n",
    "    Args:\n",
    "        value: the total price of the product\n",
    "        limit: a new limit if it differs from 5000\n",
    "        \n",
    "    Returns:\n",
    "        True if discount is available, otherwise False\n",
    "    \"\"\"\n",
    "    assert value >= 0, \"the value cannot be negative\"\n",
    "    assert limit >= 0, \"the limit cannot be negative\"\n",
    "    return value >= limit\n",
    "\n",
    "def reduced_price(value: int, discount: float) -> int:\n",
    "    \"\"\"Calculate the discounted price\n",
    "    \n",
    "    Calcualtes the final price according to value and discount variables,\n",
    "    which will be the discounted price if discount is available\n",
    "    \n",
    "    Args:\n",
    "        value:     the total price of the product\n",
    "        discount:  amount of the discount in fraction\n",
    "                   (e.g.  0.5 equals 50%)\n",
    "    \n",
    "    Returns:\n",
    "        The discounted price if discount is available, otherwise the original value\n",
    "    \"\"\"\n",
    "    assert value >= 0, \"the value cannot be negative\"\n",
    "    assert 1 >= discount >= 0, \"discount is not in the valid range\"\n",
    "    multiplier = 1.0 - (discount \n",
    "                    if discount_available(value) \n",
    "                    else 0.0)\n",
    "    return round(value * multiplier)"
   ]
  },
  {
   "cell_type": "markdown",
   "metadata": {},
   "source": [
    "### Listing 2-18"
   ]
  },
  {
   "cell_type": "code",
   "execution_count": null,
   "metadata": {},
   "outputs": [],
   "source": [
    "PRICE: int = 5500 # unit price\n",
    "QUANTITY: int = 5 # quantity\n",
    "total_value = total_sum(PRICE, QUANTITY)\n",
    "print('Total sum: ', reduced_price(total_value, 0.5))\n",
    "print('5%' if discount_available(total_value) else 'None')"
   ]
  },
  {
   "cell_type": "markdown",
   "metadata": {},
   "source": [
    "### Listing 2-19"
   ]
  },
  {
   "cell_type": "code",
   "execution_count": null,
   "metadata": {},
   "outputs": [],
   "source": [
    "def f(a, /, b, *, c):\n",
    "    print('positional-only parameter:', a)\n",
    "    print('positional or keyword parameter:', b)\n",
    "    print('keyword-only parameter:', c)\n",
    "    \n",
    "f(1, 2, c=3)\n",
    "f(1, b=2, c=3)"
   ]
  },
  {
   "cell_type": "markdown",
   "metadata": {},
   "source": [
    "### Listing 2-20"
   ]
  },
  {
   "cell_type": "code",
   "execution_count": null,
   "metadata": {
    "tags": []
   },
   "outputs": [],
   "source": [
    "def f(*args, **kwargs):\n",
    "    print('positional arguments', args)\n",
    "    print('keyword arguments', kwargs)\n",
    "    \n",
    "f(1, 2, 3, a=1, b=2, c=3)"
   ]
  },
  {
   "cell_type": "markdown",
   "metadata": {
    "tags": []
   },
   "source": [
    "### Listing 2-21"
   ]
  },
  {
   "cell_type": "code",
   "execution_count": null,
   "metadata": {},
   "outputs": [],
   "source": [
    "def discount_50(price, quantity):\n",
    "    return 0.5 if quantity>10 else 0\n",
    "\n",
    "print(reduced_price_p(1000, 15, discount_50))"
   ]
  },
  {
   "cell_type": "markdown",
   "metadata": {},
   "source": [
    "### Listing 2-22"
   ]
  },
  {
   "cell_type": "code",
   "execution_count": null,
   "metadata": {
    "scrolled": true
   },
   "outputs": [],
   "source": [
    "print(reduced_price_p(1000, 15, lambda price, quantity: 0.5 if quantity>10 else 0))"
   ]
  },
  {
   "cell_type": "markdown",
   "metadata": {},
   "source": [
    "### Listing 2-23"
   ]
  },
  {
   "cell_type": "code",
   "execution_count": null,
   "metadata": {},
   "outputs": [],
   "source": [
    "def limit_discount(discount):\n",
    "    def check(price, quantity):\n",
    "        pre_calculation = discount(price, quantity)\n",
    "        return pre_calculation if pre_calculation<0.75 else 0.75\n",
    "    return check\n",
    "\n",
    "@limit_discount\n",
    "def discount_40(price, quantity):\n",
    "    rate = 0.4 if price*quantity > 500 else 0\n",
    "    return rate\n",
    "\n",
    "@limit_discount\n",
    "def sell_for_free(price, quantity):\n",
    "    rate = 1.0 if quantity == 1 else 0\n",
    "    return rate\n",
    "\n",
    "print(reduced_price_p(1000, 1, discount_40))\n",
    "print(reduced_price_p(1000, 1, sell_for_free))"
   ]
  },
  {
   "cell_type": "markdown",
   "metadata": {},
   "source": [
    "## The class"
   ]
  },
  {
   "cell_type": "markdown",
   "metadata": {},
   "source": [
    "### Listing 3-1"
   ]
  },
  {
   "cell_type": "code",
   "execution_count": null,
   "metadata": {},
   "outputs": [],
   "source": [
    "INTEGER_NUMBER_0 = int()\n",
    "INTEGER_NUMBER_5 = int('5')"
   ]
  },
  {
   "cell_type": "markdown",
   "metadata": {},
   "source": [
    "### Listing 3-2"
   ]
  },
  {
   "cell_type": "code",
   "execution_count": null,
   "metadata": {},
   "outputs": [],
   "source": [
    "I = complex(0, 1) # 0+1j\n",
    "real_part = I.real\n",
    "imaginary_part = I.imag\n",
    "conjugate_value = I.conjugate()"
   ]
  },
  {
   "cell_type": "markdown",
   "metadata": {},
   "source": [
    "### Listing 3-3"
   ]
  },
  {
   "cell_type": "code",
   "execution_count": null,
   "metadata": {},
   "outputs": [],
   "source": [
    "class Product:\n",
    "    def __init__(self, code, name, price):\n",
    "        self.code = code\n",
    "        self.name = name\n",
    "        self.price = price\n",
    "        self.old_price = price\n",
    "        \n",
    "    def discount(self, percentage):\n",
    "        self.old_price = self.price\n",
    "        new_price = self.price * (1 - percentage/100)\n",
    "        self.price = round(new_price)"
   ]
  },
  {
   "cell_type": "markdown",
   "metadata": {},
   "source": [
    "### Listing 3-4"
   ]
  },
  {
   "cell_type": "code",
   "execution_count": null,
   "metadata": {},
   "outputs": [],
   "source": [
    "k01 = Product('K01', 'cube', 1000)"
   ]
  },
  {
   "cell_type": "markdown",
   "metadata": {},
   "source": [
    "### Listing 3-5"
   ]
  },
  {
   "cell_type": "code",
   "execution_count": null,
   "metadata": {},
   "outputs": [],
   "source": [
    "k02 = Product('K02', 'small cube', 500)\n",
    "print(k01.name, k01.price, k02.name, k02.price)\n",
    "k01.price = 1100\n",
    "k02.name = 'mid cube'\n",
    "print(k01.name, k01.price, k02.name, k02.price)"
   ]
  },
  {
   "cell_type": "markdown",
   "metadata": {},
   "source": [
    "### Listing 3-6"
   ]
  },
  {
   "cell_type": "code",
   "execution_count": null,
   "metadata": {},
   "outputs": [],
   "source": [
    "print(k01.name, k01.price, k02.name, k02.price)\n",
    "k01.discount(30)\n",
    "print(k01.name, k01.price, k02.name, k02.price)"
   ]
  },
  {
   "cell_type": "markdown",
   "metadata": {},
   "source": [
    "### Listing 3-7"
   ]
  },
  {
   "cell_type": "code",
   "execution_count": null,
   "metadata": {},
   "outputs": [],
   "source": [
    "class Address:\n",
    "    def __init__(self, country, zip_code, city, address):\n",
    "        self.country = country\n",
    "        self.zip_code = zip_code\n",
    "        self.city = city\n",
    "        self.address = address"
   ]
  },
  {
   "cell_type": "markdown",
   "metadata": {},
   "source": [
    "### Listing 3-8"
   ]
  },
  {
   "cell_type": "code",
   "execution_count": null,
   "metadata": {},
   "outputs": [],
   "source": [
    "product = Product('K01', 'cube', 1000)\n",
    "print(id(product), dir(product))"
   ]
  },
  {
   "cell_type": "markdown",
   "metadata": {},
   "source": [
    "### Listing 3-9"
   ]
  },
  {
   "cell_type": "code",
   "execution_count": null,
   "metadata": {},
   "outputs": [],
   "source": [
    "class Customer:\n",
    "    def __init__(self, name, email, phone, \n",
    "                 shipping_address, \n",
    "                 billing_address=None):\n",
    "        self.name = name\n",
    "        self.email = email\n",
    "        self.phone = phone\n",
    "        self.shipping_address = shipping_address\n",
    "        self.billing_address = billing_address"
   ]
  },
  {
   "cell_type": "markdown",
   "metadata": {},
   "source": [
    "### Listing 3-10"
   ]
  },
  {
   "cell_type": "code",
   "execution_count": null,
   "metadata": {},
   "outputs": [],
   "source": [
    "class Order:\n",
    "    def __init__(self, product, quantity, customer):\n",
    "        self.product = product\n",
    "        self.quantity = quantity\n",
    "        self.customer = customer\n",
    "        self.state = 'CREATED'\n",
    "        \n",
    "    def finalize(self):\n",
    "        self.state = 'READYTOPOST'\n",
    "        \n",
    "    def post(self):\n",
    "        self.state = 'SENT'"
   ]
  },
  {
   "cell_type": "markdown",
   "metadata": {},
   "source": [
    "### Listing 3-11"
   ]
  },
  {
   "cell_type": "code",
   "execution_count": null,
   "metadata": {},
   "outputs": [],
   "source": [
    "class Address:\n",
    "    def __init__(self, zip_code, city, address, country):\n",
    "        self._zip_code = zip_code\n",
    "        self.city = city\n",
    "        self.address = address\n",
    "        self.country = country\n",
    "\n",
    "    @property\n",
    "    def teljes_address(self):\n",
    "        return (f'{self.zip_code} {self.city}, '\n",
    "                + f'{self.address}, {self.country}')"
   ]
  },
  {
   "cell_type": "markdown",
   "metadata": {},
   "source": [
    "### Listing 3-12"
   ]
  },
  {
   "cell_type": "code",
   "execution_count": null,
   "metadata": {},
   "outputs": [],
   "source": [
    "class Address:\n",
    "    def __init__(self, zip_code, city, address, country):\n",
    "        self._zip_code = zip_code\n",
    "        self.city = city\n",
    "        self.address = address\n",
    "        self.country = country\n",
    "\n",
    "    @property\n",
    "    def teljes_address(self):\n",
    "        return (f'{self._zip_code} {self.city}, '\n",
    "                + f'{self.address}, {self.country}')\n",
    "    \n",
    "    @property\n",
    "    def zip_code(self):\n",
    "        return str(self._zip_code)\n",
    "    \n",
    "    @zip_code.setter\n",
    "    def zip_code(self, zip_code):\n",
    "        self._zip_code = int(zip_code)"
   ]
  },
  {
   "cell_type": "markdown",
   "metadata": {},
   "source": [
    "### Listing 3-13"
   ]
  },
  {
   "cell_type": "code",
   "execution_count": null,
   "metadata": {},
   "outputs": [],
   "source": [
    "class QuantifiableProduct(Product):\n",
    "    def __init__(self, code, name, price, \n",
    "                 amount, unit):\n",
    "        super().__init__(code, name, price)\n",
    "        self.amount = amount\n",
    "        self.unit = unit"
   ]
  },
  {
   "cell_type": "markdown",
   "metadata": {},
   "source": [
    "### Listing 3-14"
   ]
  },
  {
   "cell_type": "code",
   "execution_count": null,
   "metadata": {},
   "outputs": [],
   "source": [
    "m = QuantifiableProduct('C01', 'Chocolate', 1000, 500, 'g')\n",
    "print(isinstance(m, QuantifiableProduct), \n",
    "      isinstance(m, Product),\n",
    "      issubclass(QuantifiableProduct, Product))"
   ]
  },
  {
   "cell_type": "markdown",
   "metadata": {},
   "source": [
    "### Listing 3-15"
   ]
  },
  {
   "cell_type": "code",
   "execution_count": null,
   "metadata": {},
   "outputs": [],
   "source": [
    "class Order:\n",
    "    class Item:\n",
    "        def __init__(self, product, quantity):\n",
    "            self.product = product\n",
    "            self.quantity = quantity\n",
    "            \n",
    "    def __init__(self, product, \n",
    "                 quantity, customer):\n",
    "        self.item = self.Item(product, quantity)\n",
    "        self.customer = customer\n",
    "        self.state = 'CREATED'\n",
    "        \n",
    "    def finalize(self):\n",
    "        self.state = 'CLOSED'\n",
    "        \n",
    "    def post(self):\n",
    "        self.state = 'SENT'"
   ]
  },
  {
   "cell_type": "markdown",
   "metadata": {},
   "source": [
    "### Listing 3-16"
   ]
  },
  {
   "cell_type": "code",
   "execution_count": null,
   "metadata": {},
   "outputs": [],
   "source": [
    "class Product:\n",
    "    def __init__(self, code, nev, price):\n",
    "        self.code = code\n",
    "        self.name = nev\n",
    "        self.price = price\n",
    "        self.old_price = price\n",
    "        \n",
    "    def reduce_price(self, percentage):\n",
    "        self.old_price = self.price\n",
    "        new_price = self.price * (1 - percentage/100)\n",
    "        self.price = round(new_price)\n",
    "        \n",
    "    def __str__(self):\n",
    "        return f'{self.code}: {self.name}, {self.price}'\n",
    "\n",
    "    def __repr__(self):\n",
    "        return (f'<Termék kód={self.code}, '\n",
    "                + f'név={self.name}, '\n",
    "                + f'ár={self.price}, '\n",
    "                + f'régi ár={self.old_price}>')"
   ]
  },
  {
   "cell_type": "markdown",
   "metadata": {},
   "source": [
    "### Listing 3-17"
   ]
  },
  {
   "cell_type": "code",
   "execution_count": null,
   "metadata": {},
   "outputs": [],
   "source": [
    "class Product:\n",
    "    def __init__(self, code, name, price):\n",
    "        self.code = code\n",
    "        self.name = name\n",
    "        self.price = price\n",
    "        self.old_price = price\n",
    "        \n",
    "    def reduce_price(self, percentage):\n",
    "        self.old_price = self.price\n",
    "        new_price = self.price * (1 - percentage/100)\n",
    "        self.price = round(new_price)\n",
    "        \n",
    "    def __str__(self):\n",
    "        return (f'{self.name} ({self.code}): '\n",
    "                + f'{self.old_price}=>{self.price}')\n",
    "\n",
    "    def __repr__(self):\n",
    "        return (f'<Product {self.name}({self.code}): '\n",
    "                 +f'{self.old_price}=>{self.price}>')\n",
    "    \n",
    "    def __eq__(self, other):\n",
    "        if isinstance(other, self.__class__):\n",
    "            return (self.code == other.code)\n",
    "        return False"
   ]
  },
  {
   "cell_type": "markdown",
   "metadata": {},
   "source": [
    "### Listing 3-18"
   ]
  },
  {
   "cell_type": "code",
   "execution_count": null,
   "metadata": {},
   "outputs": [],
   "source": [
    "class Order:\n",
    "    \"\"\"The data and state belongs to the Order\n",
    "    \n",
    "    This order is consist only the price and quantity of a single product.\n",
    "    \n",
    "    Attributes:\n",
    "        product: ordered product\n",
    "        quantity: the quantity in the order\n",
    "        customer: the customer\n",
    "        state: state of the order; 'CREATED', \n",
    "                 'READYTOSEND' or 'SENT'\n",
    "    \"\"\"\n",
    "    product: Product\n",
    "    quantity: int\n",
    "    customer: Customer\n",
    "    allapot: str\n",
    "\n",
    "    def __init__(self, product: Product, quantity: int, \n",
    "                 customer: Customer):\n",
    "        \"\"\"The state of the order is created\"\"\"\n",
    "        self.product = product\n",
    "        self.quantity = quantity\n",
    "        self.customer = customer\n",
    "        self.state = 'CREATED'\n",
    "        \n",
    "    def finalize(self) -> None:\n",
    "        \"\"\"The order closed by the buyer\"\"\"\n",
    "        self.state = 'READYTOSEND'\n",
    "        \n",
    "    def send(self) -> None:\n",
    "        \"\"\"The order sent by the supplier\"\"\"\n",
    "        self.state = 'SENT'"
   ]
  },
  {
   "cell_type": "markdown",
   "metadata": {},
   "source": [
    "### Listing 3-19"
   ]
  },
  {
   "cell_type": "code",
   "execution_count": 2,
   "metadata": {},
   "outputs": [],
   "source": [
    "class Product:\n",
    "    counter = 1\n",
    "    \n",
    "    def __init__(self, code, name, price):\n",
    "        self.code = code\n",
    "        self.__class__.counter += 1\n",
    "        self.name = name\n",
    "        self.price = price\n",
    "        self.old_price = price\n",
    "        \n",
    "    def reduce_price(self, percentage):\n",
    "        self.old_price = self.price\n",
    "        new_price = self.price * (1 - percentage/100)\n",
    "        self.price = round(new_price)\n",
    "        \n",
    "    @classmethod\n",
    "    def product_count(cls):\n",
    "        return cls.counter\n",
    "\n",
    "    @staticmethod\n",
    "    def generate_str(code, name, price, old_price):\n",
    "        return f'{name} ({code}): {old_price}=>{price}'\n",
    "\n",
    "    def __str__(self):\n",
    "        product_str = self.generate_str(self.code, self.name, \n",
    "                self.price, self.old_price)\n",
    "        return f'{product_str}'\n",
    "\n",
    "    def __repr__(self):\n",
    "        product_str = self.generate_str(self.code, self.name, \n",
    "                self.price, self.old_price)\n",
    "        return f'<Product {product_str}>'\n",
    "    \n",
    "    def __eq__(self, other):\n",
    "        if isinstance(other, self.__class__):\n",
    "            return (self.price == other.price \n",
    "                    and self.code == other.code)\n",
    "        return False"
   ]
  },
  {
   "cell_type": "markdown",
   "metadata": {},
   "source": [
    "### Listing 3-20"
   ]
  },
  {
   "cell_type": "code",
   "execution_count": null,
   "metadata": {},
   "outputs": [],
   "source": [
    "from abc import ABC, abstractmethod\n",
    "\n",
    "\n",
    "class Discount(ABC):\n",
    "    @abstractmethod\n",
    "    def discount_calc(self, price, quantity):\n",
    "        ...\n",
    "    def reduced_price(self, price, quantity):\n",
    "        total_sum = price * quantity\n",
    "        discount = self.discount_calc(price, quantity)\n",
    "        return total_sum * (1-discount)\n",
    "\n",
    "class Discount4p1(Discount):\n",
    "    def discount_calc(price, quantity):\n",
    "        return ((quantity//5) / quantity)"
   ]
  },
  {
   "cell_type": "markdown",
   "metadata": {},
   "source": [
    "### Listing 3-21"
   ]
  },
  {
   "cell_type": "code",
   "execution_count": null,
   "metadata": {},
   "outputs": [],
   "source": [
    "from dataclasses import dataclass, field\n",
    "\n",
    "\n",
    "@dataclass(frozen=True)\n",
    "class Address:\n",
    "    zip_code: int\n",
    "    city: str\n",
    "    address: str\n",
    "    country: str = field(default='HUNGARY')\n",
    "    \n",
    "    @property\n",
    "    def full_address(self):\n",
    "        return (f'{self.zip_code} {self.city}, '\n",
    "                + f'{self.address}, {self.country}')\n",
    "\n",
    "address1 = Address(1020, 'Budapest', 'Wombat street 1st')"
   ]
  },
  {
   "cell_type": "markdown",
   "metadata": {},
   "source": [
    "## The control flow"
   ]
  },
  {
   "cell_type": "markdown",
   "metadata": {},
   "source": [
    "### Listing 4-1"
   ]
  },
  {
   "cell_type": "code",
   "execution_count": null,
   "metadata": {},
   "outputs": [],
   "source": [
    "product = Product('K01', 'cube', 1000)\n",
    "discount_value = int(input('Amount of the discount (in %)?'))\n",
    "if discount_value > 0 and discount_value <= 99:\n",
    "    product.reduce_price(discount_value)\n",
    "else:\n",
    "    print('Discount value is too low or too low')"
   ]
  },
  {
   "cell_type": "markdown",
   "metadata": {},
   "source": [
    "### Listing 4-2"
   ]
  },
  {
   "cell_type": "code",
   "execution_count": null,
   "metadata": {},
   "outputs": [],
   "source": [
    "product = Product('K01', 'cube', 1000)\n",
    "discount_value = int(input('Amount of the discount (in %)?'))\n",
    "if 0 < discount_value <= 99:\n",
    "    product.reduce_price(discount_value)\n",
    "elif discount_value < 0:\n",
    "    print('Discount value is negative')\n",
    "elif discount_value == 0:\n",
    "    print('No discount')\n",
    "elif 99 < discount_value <= 100:\n",
    "    print('Discount value is too high')\n",
    "else:\n",
    "    print('Price will be negative')"
   ]
  },
  {
   "cell_type": "markdown",
   "metadata": {},
   "source": [
    "### Listing 4-3"
   ]
  },
  {
   "cell_type": "code",
   "execution_count": null,
   "metadata": {},
   "outputs": [],
   "source": [
    "product = Product('K01', 'cube', 1000)\n",
    "discount_value = int(input('Amount of the discount (in %)?'))\n",
    "match discount_value:\n",
    "    case 0:\n",
    "        print('No discount')\n",
    "    case 1:\n",
    "        print('Only 1%')\n",
    "        product.reduce_price(discount_value)\n",
    "    case 5|10:\n",
    "        print(f'{discount_value}% is reasonable')\n",
    "        product.reduce_price(discount_value)\n",
    "    case _:\n",
    "        print('We allow only 0%, 1%, 5% or 10% discounts')\n"
   ]
  },
  {
   "cell_type": "markdown",
   "metadata": {},
   "source": [
    "### Listing 4-4"
   ]
  },
  {
   "cell_type": "code",
   "execution_count": null,
   "metadata": {},
   "outputs": [],
   "source": [
    "product = Product('K01', 'cube', 1000)\n",
    "discount_value = int(input('Amount of the discount (in %)?'))\n",
    "match discount_value:\n",
    "    case 0:\n",
    "        print('No discount')\n",
    "    case x if 0 < x <= 99:\n",
    "        print(f'Within allowed range: {x}%')\n",
    "        product.reduce_price(discount_value)\n",
    "    case x if x <= 0:\n",
    "        print('Discount value is negative')\n",
    "    case x if 99 < x <= 100:\n",
    "        print('Discount value is too high')\n",
    "    case _:\n",
    "        print('Price will be negative')\n"
   ]
  },
  {
   "cell_type": "markdown",
   "metadata": {},
   "source": [
    "### Listing 4-5"
   ]
  },
  {
   "cell_type": "code",
   "execution_count": null,
   "metadata": {},
   "outputs": [],
   "source": [
    "product = Product('K01', 'cube', 1000)\n",
    "discount_value = int(input('Amount of the discount (in %)?'))\n",
    "while not 0 < discount_value <= 99:\n",
    "    print('Discount abount is too low or too high')\n",
    "    discount_value = int(input('Amount of the discount (in %)?'))\n",
    "product.reduce_price(discount_value)"
   ]
  },
  {
   "cell_type": "markdown",
   "metadata": {},
   "source": [
    "### Listing 4-6"
   ]
  },
  {
   "cell_type": "code",
   "execution_count": null,
   "metadata": {},
   "outputs": [],
   "source": [
    "product = Product('K01', 'cube', 1000)\n",
    "read_next = True\n",
    "while read_next:\n",
    "    discount_value = int(input('Amount of the discount (in %)?'))\n",
    "    if 0 < discount_value <= 99:\n",
    "        read_next = False\n",
    "    else:\n",
    "        print('Discount abount is too low or too high')\n",
    "product.reduce_price(discount_value)"
   ]
  },
  {
   "cell_type": "markdown",
   "metadata": {},
   "source": [
    "### Listing 4-7"
   ]
  },
  {
   "cell_type": "code",
   "execution_count": null,
   "metadata": {},
   "outputs": [],
   "source": [
    "product = Product('K01', 'cube', 1000)\n",
    "while not 0 < (discount_value \n",
    "        := int(input('Amount of the discount (in %)?'))) <= 99:\n",
    "    print('Discount abount is too low or too high')\n",
    "product.reduce_price(discount_value)"
   ]
  },
  {
   "cell_type": "markdown",
   "metadata": {},
   "source": [
    "### Listing 4-8"
   ]
  },
  {
   "cell_type": "code",
   "execution_count": null,
   "metadata": {},
   "outputs": [],
   "source": [
    "product = Product('K01', 'cube', 1000)\n",
    "while True:\n",
    "    discount_value = int(input('Amount of the discount (in %)?'))\n",
    "    if 0 < discount_value <= 99:\n",
    "        break\n",
    "    else:\n",
    "        print('Discount abount is too low or too high')\n",
    "product.reduce_price(discount_value)"
   ]
  },
  {
   "cell_type": "markdown",
   "metadata": {},
   "source": [
    "### Listing 4-9"
   ]
  },
  {
   "cell_type": "code",
   "execution_count": null,
   "metadata": {},
   "outputs": [],
   "source": [
    "product = Product('K01', 'cube', 1000)\n",
    "while True:\n",
    "    discount_value = int(input('Amount of the discount (in %)?'))\n",
    "    if discount_value <= 0:\n",
    "        print('Discount abount is too low')\n",
    "        continue\n",
    "    if discount_value > 99:\n",
    "        print('Discount abount is too high')\n",
    "        continue\n",
    "    break\n",
    "        \n",
    "product.reduce_price(discount_value)"
   ]
  },
  {
   "cell_type": "markdown",
   "metadata": {},
   "source": [
    "### Listing 4-10"
   ]
  },
  {
   "cell_type": "code",
   "execution_count": null,
   "metadata": {},
   "outputs": [],
   "source": [
    "product = Product('K01', 'cube', 1000)\n",
    "probak = 0\n",
    "while probak < 3:\n",
    "    discount_value = int(input('Amount of the discount (in %)?'))\n",
    "    if 0 < discount_value <= 99:\n",
    "        break\n",
    "    else:\n",
    "        print('Discount abount is too low or too high')\n",
    "    probak += 1\n",
    "else:\n",
    "    print('No more try')\n",
    "    discount_value = 0\n",
    "product.reduce_price(discount_value)"
   ]
  },
  {
   "cell_type": "markdown",
   "metadata": {},
   "source": [
    "### Listing 4-11"
   ]
  },
  {
   "cell_type": "code",
   "execution_count": null,
   "metadata": {},
   "outputs": [],
   "source": [
    "for discount_value in range(10):\n",
    "    product = Product('K01', 'cube', 1000)\n",
    "    product.reduce_price(discount_value)\n",
    "    print('Cost of the product:', product.price)"
   ]
  },
  {
   "cell_type": "markdown",
   "metadata": {},
   "source": [
    "### Listing 4-12"
   ]
  },
  {
   "cell_type": "code",
   "execution_count": null,
   "metadata": {},
   "outputs": [],
   "source": [
    "for discount_value in range(1,11):\n",
    "    product = Product('K01', 'cube', 1000)\n",
    "    product.reduce_price(discount_value)\n",
    "    print('Cost of the product:', product.price)"
   ]
  },
  {
   "cell_type": "markdown",
   "metadata": {},
   "source": [
    "### Listing 4-13"
   ]
  },
  {
   "cell_type": "code",
   "execution_count": null,
   "metadata": {},
   "outputs": [],
   "source": [
    "for discount_value in range(1,11, 2):\n",
    "    product = Product('K01', 'cube', 1000)\n",
    "    product.reduce_price(discount_value)\n",
    "    print('Cost of the product:', product.price)"
   ]
  },
  {
   "cell_type": "markdown",
   "metadata": {},
   "source": [
    "### Listing 4-14"
   ]
  },
  {
   "cell_type": "code",
   "execution_count": null,
   "metadata": {},
   "outputs": [],
   "source": [
    "try:\n",
    "    discount_value = int(input('Amount of the discount (in %)?'))\n",
    "except ValueError as e:\n",
    "    discount_value = 0"
   ]
  },
  {
   "cell_type": "markdown",
   "metadata": {},
   "source": [
    "### Listing 4-15"
   ]
  },
  {
   "cell_type": "code",
   "execution_count": null,
   "metadata": {},
   "outputs": [],
   "source": [
    "def lediscountzas(product):\n",
    "    try:\n",
    "        bemenet = input('Amount of the discount (in %)?')\n",
    "        discount_value = int(bemenet)\n",
    "    except ValueError as e:\n",
    "        raise ValueError('Not an integer')\n",
    "    if discount_value > 0 and discount_value <= 99:\n",
    "        product.reduce_price(discount_value)\n",
    "    else:\n",
    "        raise ValueError('Discount abount is too low or too high')\n",
    "try:\n",
    "    product = Product('K01', 'cube', 1000)\n",
    "    lediscountzas(product)\n",
    "except ValueError as e:\n",
    "    print('Modification is failed for the following reason:', e.message)"
   ]
  },
  {
   "cell_type": "markdown",
   "metadata": {},
   "source": [
    "### Listing 4-16"
   ]
  },
  {
   "cell_type": "code",
   "execution_count": null,
   "metadata": {},
   "outputs": [],
   "source": [
    "with open('orders.txt', 'wt') as orders_doc:\n",
    "    orders_doc.write('Orders:')"
   ]
  },
  {
   "cell_type": "markdown",
   "metadata": {},
   "source": [
    "### Listing 4-17"
   ]
  },
  {
   "cell_type": "code",
   "execution_count": null,
   "metadata": {
    "scrolled": true
   },
   "outputs": [],
   "source": [
    "def how_many(single_pass_value, total_value, \n",
    "             actual_value=None, count=0):\n",
    "    print(actual_value, count)\n",
    "    if actual_value is None:\n",
    "        actual_value = single_pass_value\n",
    "    if actual_value>=total_value:\n",
    "        return count\n",
    "    else:\n",
    "        return how_many(single_pass_value, total_value, \n",
    "                        actual_value*single_pass_value, count+1)\n",
    "print(how_many(1.1, 1.5))"
   ]
  },
  {
   "cell_type": "markdown",
   "metadata": {},
   "source": [
    "### Listing 4-18"
   ]
  },
  {
   "cell_type": "code",
   "execution_count": null,
   "metadata": {},
   "outputs": [],
   "source": [
    "product = Product('K01', 'cube', 1000)\n",
    "read_next = True\n",
    "while read_next:\n",
    "    # Stop condition: we assume that once\n",
    "    # a valide diccount value will be specified\n",
    "    # Invariant: 0 < discount_value <= 99 \n",
    "    #            or read_next\n",
    "    discount_value = int(input('Amount of the discount (in %)?'))\n",
    "    if 0 < discount_value <= 99:\n",
    "        read_next = False\n",
    "    else:\n",
    "        print('Discount value to high/low')\n",
    "product.reduce_price(discount_value)"
   ]
  },
  {
   "cell_type": "markdown",
   "metadata": {},
   "source": [
    "### Listing 4-19"
   ]
  },
  {
   "cell_type": "code",
   "execution_count": null,
   "metadata": {},
   "outputs": [],
   "source": [
    "class Product:\n",
    "    __match_args__ = (\"code\", \"name\", \"price\")\n",
    "    def __init__(self, code, name, price):\n",
    "        self.code = code\n",
    "        self.name = name\n",
    "        self.price = price\n",
    "        self.old_price = price\n",
    "    \n",
    "product = Product('K01', 'cube', 1000)\n",
    "product.name = input('Default name?')\n",
    "product.price = int(input('Default price?'))\n",
    "match product:\n",
    "    case Product('K01', 'cube', 1000):\n",
    "        print('No changes')\n",
    "    case Product('K01', name, 1000):\n",
    "        print('Has new name')\n",
    "    case Product('K01', 'cube', value):\n",
    "        print('Same old name, but different price:', value)\n",
    "    case Product('K01', name, value):\n",
    "        print('Everything has changed')  "
   ]
  },
  {
   "cell_type": "markdown",
   "metadata": {},
   "source": [
    "### Listing 4-20"
   ]
  },
  {
   "cell_type": "code",
   "execution_count": null,
   "metadata": {},
   "outputs": [],
   "source": [
    "default_product_values = ['K01', 'cube', 1000]\n",
    "default_product_values[1] = input('Default name?')\n",
    "default_product_values[2] = int(input('Default price?'))\n",
    "match default_product_values:\n",
    "    case ['K01', 'cube', 1000]:\n",
    "        print('No changes')\n",
    "    case ['K01', name, 1000]:\n",
    "        print('Has new name')\n",
    "    case ['K01', 'cube', value]:\n",
    "        print('Same old name, but different price:', value)\n",
    "    case ['K01', name, value]:\n",
    "        print('everything is changed')"
   ]
  },
  {
   "cell_type": "markdown",
   "metadata": {},
   "source": [
    "### Listing 4-21"
   ]
  },
  {
   "cell_type": "code",
   "execution_count": null,
   "metadata": {},
   "outputs": [],
   "source": [
    "default_product_values = {'id': 'K01', 'name': 'cube', 'price': 1000}\n",
    "default_product_values['id'] = input('Default name?')\n",
    "default_product_values['name'] = int(input('Default price?'))\n",
    "match default_product_values:\n",
    "    case {'id': 'K01', 'name': 'cube', 'price': 1000}:\n",
    "        print('No changes')\n",
    "    case {'id': 'K01', 'name': name, 'price': 1000}:\n",
    "        print('Has new name')\n",
    "    case {'id': 'K01', 'name': 'cube', 'price': value}:\n",
    "        print('Same old name, but different price:', value)\n",
    "    case {'id': 'K01', 'name': name, 'price': value}:\n",
    "        print('everything is changed')    "
   ]
  },
  {
   "cell_type": "markdown",
   "metadata": {},
   "source": [
    "### Listing 4-22"
   ]
  },
  {
   "cell_type": "code",
   "execution_count": null,
   "metadata": {},
   "outputs": [],
   "source": [
    "class ProductCodeError(Exception):\n",
    "    def __init__(self, code):\n",
    "        self.code = code\n",
    "        self.message = f'Code {code} does not exists'"
   ]
  },
  {
   "cell_type": "markdown",
   "metadata": {
    "tags": []
   },
   "source": [
    "### Listing 4-23"
   ]
  },
  {
   "cell_type": "code",
   "execution_count": null,
   "metadata": {},
   "outputs": [],
   "source": [
    "class PriceReductionTry:\n",
    "    def __init__(self, product):\n",
    "        self.product = product\n",
    "\n",
    "    def __enter__(self):\n",
    "        self.price = self.product.price\n",
    "        self.old_price = self.product.old_price\n",
    "        return self.product\n",
    "        \n",
    "    def __exit__(self, exc_type, exc_val, exc_tb):\n",
    "        self.product.price = self.price\n",
    "        self.product.old_price = self.old_price\n",
    "\n",
    "sub_cube = Product('T01', 'Substitute cube', 300)\n",
    "with PriceReductionTry(sub_cube):\n",
    "    sub_cube.reduce_price(20)\n",
    "    print(sub_cube)\n",
    "print(sub_cube)"
   ]
  },
  {
   "cell_type": "markdown",
   "metadata": {
    "tags": []
   },
   "source": [
    "### Listing 4-24"
   ]
  },
  {
   "cell_type": "code",
   "execution_count": null,
   "metadata": {},
   "outputs": [],
   "source": [
    "eval('5000 * 2 + 2000')"
   ]
  },
  {
   "cell_type": "markdown",
   "metadata": {},
   "source": [
    "## The sequence"
   ]
  },
  {
   "cell_type": "markdown",
   "metadata": {},
   "source": [
    "### Listing 5-1"
   ]
  },
  {
   "cell_type": "code",
   "execution_count": null,
   "metadata": {},
   "outputs": [],
   "source": [
    "products = [Product('K1', 'cube', 1000), \n",
    "            Product('K2', 'small cube', 500),\n",
    "            Product('K3', 'tiny cube', 50),\n",
    "            Product('K4', 'large cube', 1500),\n",
    "            Product('K5', 'XL cube', 5000)]"
   ]
  },
  {
   "cell_type": "markdown",
   "metadata": {},
   "source": [
    "### Listing 5-2"
   ]
  },
  {
   "cell_type": "code",
   "execution_count": null,
   "metadata": {},
   "outputs": [],
   "source": [
    "mixed_list = [\n",
    "    1, \n",
    "    'Message', \n",
    "    Product('K9', 'super cube', 1_000_000)\n",
    "]"
   ]
  },
  {
   "cell_type": "markdown",
   "metadata": {},
   "source": [
    "### Listing 5-3"
   ]
  },
  {
   "cell_type": "code",
   "execution_count": null,
   "metadata": {},
   "outputs": [],
   "source": [
    "print(products[0], products[1], products[4])"
   ]
  },
  {
   "cell_type": "markdown",
   "metadata": {},
   "source": [
    "### Listing 5-4"
   ]
  },
  {
   "cell_type": "code",
   "execution_count": null,
   "metadata": {},
   "outputs": [],
   "source": [
    "print(products[-1], products[-5])"
   ]
  },
  {
   "cell_type": "markdown",
   "metadata": {},
   "source": [
    "### Listing 5-5"
   ]
  },
  {
   "cell_type": "code",
   "execution_count": null,
   "metadata": {},
   "outputs": [],
   "source": [
    "print(products[0:3], products[:3], \n",
    "      products[2:], sep=\"\\n\")"
   ]
  },
  {
   "cell_type": "markdown",
   "metadata": {},
   "source": [
    "### Listing 5-6"
   ]
  },
  {
   "cell_type": "code",
   "execution_count": null,
   "metadata": {},
   "outputs": [],
   "source": [
    "print(products[1:4:2], products[3:0:-2], \n",
    "      products[:], sep=\"\\n\")"
   ]
  },
  {
   "cell_type": "markdown",
   "metadata": {},
   "source": [
    "### Listing 5-7"
   ]
  },
  {
   "cell_type": "code",
   "execution_count": null,
   "metadata": {},
   "outputs": [],
   "source": [
    "print(len(products))\n",
    "products.append(Product('K6', 'pluss cube', 1000))\n",
    "products.extend([\n",
    "    Product('K7', 'cube v2.0', 2000), \n",
    "    Product('K8', 'cube v3.0', 2900)\n",
    "])"
   ]
  },
  {
   "cell_type": "markdown",
   "metadata": {},
   "source": [
    "### Listing 5-8"
   ]
  },
  {
   "cell_type": "code",
   "execution_count": null,
   "metadata": {},
   "outputs": [],
   "source": [
    "print('Proudcts for sale:')\n",
    "for product in products:\n",
    "    print(product)"
   ]
  },
  {
   "cell_type": "markdown",
   "metadata": {},
   "source": [
    "### Listing 5-9"
   ]
  },
  {
   "cell_type": "code",
   "execution_count": null,
   "metadata": {},
   "outputs": [],
   "source": [
    "nested_list = [\n",
    "    1, \n",
    "    'Message', \n",
    "    Product('K9', 'super cube', 1_000_000), \n",
    "    [2, 3, 4]\n",
    "]\n",
    "print(nested_list[3][0])"
   ]
  },
  {
   "cell_type": "markdown",
   "metadata": {},
   "source": [
    "### Listing 5-10"
   ]
  },
  {
   "cell_type": "code",
   "execution_count": null,
   "metadata": {},
   "outputs": [],
   "source": [
    "names = []\n",
    "for product in products:\n",
    "    names.append(product.name)\n",
    "names_v2 = [product.name for product in products]\n",
    "print(names, names_v2)"
   ]
  },
  {
   "cell_type": "markdown",
   "metadata": {},
   "source": [
    "### Listing 5-11"
   ]
  },
  {
   "cell_type": "code",
   "execution_count": null,
   "metadata": {},
   "outputs": [],
   "source": [
    "[t.name for t in products]"
   ]
  },
  {
   "cell_type": "markdown",
   "metadata": {},
   "source": [
    "### Listing 5-12"
   ]
  },
  {
   "cell_type": "code",
   "execution_count": null,
   "metadata": {
    "scrolled": true
   },
   "outputs": [],
   "source": [
    "[t.name for t in products \n",
    "       if t.price >= 1000]"
   ]
  },
  {
   "cell_type": "markdown",
   "metadata": {},
   "source": [
    "### Listing 5-13"
   ]
  },
  {
   "cell_type": "code",
   "execution_count": null,
   "metadata": {},
   "outputs": [],
   "source": [
    "[(t.name, t2.name) for t in products \n",
    "                 for t2 in products \n",
    "                 if t.price < t2.price]"
   ]
  },
  {
   "cell_type": "markdown",
   "metadata": {},
   "source": [
    "### Listing 5-14"
   ]
  },
  {
   "cell_type": "code",
   "execution_count": null,
   "metadata": {},
   "outputs": [],
   "source": [
    "all(['cube' in t.name for t in products])\n",
    "any(['cube' in t.name for t in products])"
   ]
  },
  {
   "cell_type": "markdown",
   "metadata": {},
   "source": [
    "### Listing 5-15"
   ]
  },
  {
   "cell_type": "code",
   "execution_count": null,
   "metadata": {},
   "outputs": [],
   "source": [
    "max([t.price for t in products])\n",
    "min([t.price for t in products])\n",
    "sum([t.price for t in products])/len(products)"
   ]
  },
  {
   "cell_type": "markdown",
   "metadata": {},
   "source": [
    "### Listing 5-16"
   ]
  },
  {
   "cell_type": "code",
   "execution_count": null,
   "metadata": {
    "scrolled": true
   },
   "outputs": [],
   "source": [
    "for i, t in enumerate(products, start=1):\n",
    "    print(i, t.name)\n",
    "for t1, t2 in zip(products, products[1:]):\n",
    "    print(abs(t1.price-t2.price), t1.name, \n",
    "          '<' if t1.price < t2.price else '>', t2.name)\n"
   ]
  },
  {
   "cell_type": "markdown",
   "metadata": {},
   "source": [
    "### Listing 5-17"
   ]
  },
  {
   "cell_type": "code",
   "execution_count": null,
   "metadata": {},
   "outputs": [],
   "source": [
    "products_fix = (Product('K1', 'cube', 1000), \n",
    "                Product('K2', 'small cube', 500))"
   ]
  },
  {
   "cell_type": "markdown",
   "metadata": {},
   "source": [
    "### Listing 5-18"
   ]
  },
  {
   "cell_type": "code",
   "execution_count": null,
   "metadata": {},
   "outputs": [],
   "source": [
    "products_fix2 = Product('K1', 'cube', 1000), \\\n",
    "                Product('K2', 'small cube', 500)"
   ]
  },
  {
   "cell_type": "markdown",
   "metadata": {},
   "source": [
    "### Listing 5-19"
   ]
  },
  {
   "cell_type": "code",
   "execution_count": null,
   "metadata": {},
   "outputs": [],
   "source": [
    "products_fix2[0]"
   ]
  },
  {
   "cell_type": "markdown",
   "metadata": {},
   "source": [
    "### Listing 5-20"
   ]
  },
  {
   "cell_type": "code",
   "execution_count": null,
   "metadata": {},
   "outputs": [],
   "source": [
    "k1, k2 = products_fix\n",
    "k1, k2, *k_rest = products"
   ]
  },
  {
   "cell_type": "markdown",
   "metadata": {},
   "source": [
    "### Listing 5-21"
   ]
  },
  {
   "cell_type": "code",
   "execution_count": null,
   "metadata": {},
   "outputs": [],
   "source": [
    "codes = {'K1': Product('K1', 'cube', 1000), \n",
    "         'K2': Product('K2', 'small cube', 500),\n",
    "         'K3': Product('K3', 'tiny cube', 50),\n",
    "         'K4': Product('K4', 'large cube', 1500),\n",
    "         'K5': Product('K5', 'XL cube', 5000)}"
   ]
  },
  {
   "cell_type": "markdown",
   "metadata": {},
   "source": [
    "### Listing 5-22"
   ]
  },
  {
   "cell_type": "code",
   "execution_count": null,
   "metadata": {},
   "outputs": [],
   "source": [
    "codes['K1']"
   ]
  },
  {
   "cell_type": "markdown",
   "metadata": {},
   "source": [
    "### Listing 5-23"
   ]
  },
  {
   "cell_type": "code",
   "execution_count": null,
   "metadata": {},
   "outputs": [],
   "source": [
    "codes['K2'] = Product('K2', 'mini cube', 600)\n",
    "codes['K6'] = Product('K6', '+ cube', 1000)"
   ]
  },
  {
   "cell_type": "markdown",
   "metadata": {},
   "source": [
    "### Listing 5-24"
   ]
  },
  {
   "cell_type": "code",
   "execution_count": null,
   "metadata": {},
   "outputs": [],
   "source": [
    "new_codes = {'K1': Product('K1', 'starter cube', 900),\n",
    "             'K10': Product('K10', 'premium cube', 90000)}\n",
    "codes | new_codes"
   ]
  },
  {
   "cell_type": "markdown",
   "metadata": {},
   "source": [
    "### Listing 5-25"
   ]
  },
  {
   "cell_type": "code",
   "execution_count": null,
   "metadata": {},
   "outputs": [],
   "source": [
    "codes.update({\n",
    "    'K7': Product('K7', 'cube v2.0', 2000), \n",
    "    'K8': Product('K8', 'cube v3.0', 2900)\n",
    "})\n",
    "codes |= ({\n",
    "    'K17': Product('K17', 'cube v12.0', 12000), \n",
    "    'K18': Product('K18', 'cube v13.0', 12900)\n",
    "})"
   ]
  },
  {
   "cell_type": "markdown",
   "metadata": {},
   "source": [
    "### Listing 5-26"
   ]
  },
  {
   "cell_type": "code",
   "execution_count": null,
   "metadata": {},
   "outputs": [],
   "source": [
    "print(codes.keys())\n",
    "print(codes.values())\n",
    "print(codes.items())"
   ]
  },
  {
   "cell_type": "markdown",
   "metadata": {},
   "source": [
    "### Listing 5-27"
   ]
  },
  {
   "cell_type": "code",
   "execution_count": null,
   "metadata": {},
   "outputs": [],
   "source": [
    "{t.code: t.name for t in products}"
   ]
  },
  {
   "cell_type": "markdown",
   "metadata": {},
   "source": [
    "### Listing 5-28"
   ]
  },
  {
   "cell_type": "code",
   "execution_count": null,
   "metadata": {},
   "outputs": [],
   "source": [
    "SIZES = {'LARGE', 'SMALL'}\n",
    "OTHER = {'DISCOUNTED', 'LASTONES'}\n",
    "THE_PRODUCT = {'LARGE', 'DISCOUNTED'}"
   ]
  },
  {
   "cell_type": "markdown",
   "metadata": {},
   "source": [
    "### Listing 5-29"
   ]
  },
  {
   "cell_type": "code",
   "execution_count": null,
   "metadata": {},
   "outputs": [],
   "source": [
    "labels = SIZES | OTHER\n",
    "the_size = THE_PRODUCT & SIZES\n",
    "print(the_size)\n",
    "opposite = labels - THE_PRODUCT\n",
    "print(opposite)"
   ]
  },
  {
   "cell_type": "markdown",
   "metadata": {},
   "source": [
    "### Listing 5-30"
   ]
  },
  {
   "cell_type": "code",
   "execution_count": null,
   "metadata": {},
   "outputs": [],
   "source": [
    "labels = SIZES.union(OTHER)\n",
    "the_size = THE_PRODUCT.intersection(SIZES)\n",
    "print(the_size)\n",
    "opposite = labels.difference(THE_PRODUCT)\n",
    "print(opposite)"
   ]
  },
  {
   "cell_type": "markdown",
   "metadata": {},
   "source": [
    "### Listing 5-31"
   ]
  },
  {
   "cell_type": "code",
   "execution_count": null,
   "metadata": {},
   "outputs": [],
   "source": [
    "categories = {\n",
    "    frozenset({'DISCOUNTED', 'SMALL'}),\n",
    "    frozenset({'DISCOUNTED', 'LARGE'}),\n",
    "    frozenset({'LARGE'}),\n",
    "    frozenset({'SMALL'}),\n",
    "    frozenset()}\n",
    "frozenset({'LARGE', 'DISCOUNTED'}) in categories"
   ]
  },
  {
   "cell_type": "markdown",
   "metadata": {},
   "source": [
    "### Listing 5-32"
   ]
  },
  {
   "cell_type": "code",
   "execution_count": null,
   "metadata": {},
   "outputs": [],
   "source": [
    "# unordered positive integers\n",
    "daily_sales = [1, 2, 4, 7]\n",
    "# monotonly increasing positive integers\n",
    "cummulative_daily_sales = [1, 3, 7, 14]\n",
    "# unordered signed integers\n",
    "changes_in_daily_sales = [1, 1, 2, 3]"
   ]
  },
  {
   "cell_type": "markdown",
   "metadata": {},
   "source": [
    "### Listing 5-33"
   ]
  },
  {
   "cell_type": "code",
   "execution_count": null,
   "metadata": {},
   "outputs": [],
   "source": [
    "a = [1, 3, 7, [1, 2], 2]\n",
    "b = a\n",
    "c = list(a)\n",
    "d = a[:]\n",
    "print(a is b, a is c, a is d)"
   ]
  },
  {
   "cell_type": "markdown",
   "metadata": {},
   "source": [
    "### Listing 5-34"
   ]
  },
  {
   "cell_type": "code",
   "execution_count": null,
   "metadata": {},
   "outputs": [],
   "source": [
    "class Items:\n",
    "    \n",
    "    class Item_iter:\n",
    "        def __init__(self, item):\n",
    "            self.i=iter(item)\n",
    "        def __iter__(self):\n",
    "            return self\n",
    "        def __next__(self):\n",
    "            return next(self.i)\n",
    "        \n",
    "    def __init__(self, items):\n",
    "        self.items = list(items)\n",
    "        \n",
    "    def __iter__(self):\n",
    "        return Items.Item_iter(self.items)"
   ]
  },
  {
   "cell_type": "markdown",
   "metadata": {},
   "source": [
    "### Listing 5-35"
   ]
  },
  {
   "cell_type": "code",
   "execution_count": 3,
   "metadata": {},
   "outputs": [
    {
     "name": "stdout",
     "output_type": "stream",
     "text": [
      "1000\n",
      "990\n",
      "980\n",
      "970\n",
      "960\n",
      "950\n",
      "940\n",
      "930\n",
      "920\n",
      "910\n"
     ]
    }
   ],
   "source": [
    "def discount_price():\n",
    "    for discount_value in range(10):\n",
    "        product = Product('K01', 'cube', 1000)\n",
    "        product.reduce_price(discount_value)\n",
    "        yield product.price\n",
    "        \n",
    "for price in discount_price():\n",
    "    print(price)"
   ]
  },
  {
   "cell_type": "markdown",
   "metadata": {},
   "source": [
    "### Listing 5-36"
   ]
  },
  {
   "cell_type": "code",
   "execution_count": null,
   "metadata": {},
   "outputs": [],
   "source": [
    "((t.code, t.name) for t in products)"
   ]
  },
  {
   "cell_type": "markdown",
   "metadata": {},
   "source": [
    "### Listing 5-37"
   ]
  },
  {
   "cell_type": "code",
   "execution_count": null,
   "metadata": {},
   "outputs": [],
   "source": [
    "def discount_price():\n",
    "    product = Product('K01', 'cube', 1000)\n",
    "    discount_value = 0\n",
    "    while True:\n",
    "        product.reduce_price(discount_value)\n",
    "        discount_value = yield product.price\n",
    "        if discount_value is None:\n",
    "            return"
   ]
  },
  {
   "cell_type": "markdown",
   "metadata": {},
   "source": [
    "### Listing 5-38"
   ]
  },
  {
   "cell_type": "code",
   "execution_count": null,
   "metadata": {},
   "outputs": [],
   "source": [
    "(list(filter(lambda t: t.price >= 1000, products)),\n",
    "list(map(lambda t: t.name, products)))"
   ]
  },
  {
   "cell_type": "markdown",
   "metadata": {},
   "source": [
    "## The module"
   ]
  },
  {
   "cell_type": "markdown",
   "metadata": {},
   "source": [
    "### Listing 6-1"
   ]
  },
  {
   "cell_type": "code",
   "execution_count": null,
   "metadata": {},
   "outputs": [],
   "source": [
    "import datetime\n",
    "datetime.date(2020,2,2).strftime('%Y.%m.%d.')"
   ]
  },
  {
   "cell_type": "markdown",
   "metadata": {},
   "source": [
    "### Listing 6-2"
   ]
  },
  {
   "cell_type": "code",
   "execution_count": null,
   "metadata": {},
   "outputs": [],
   "source": [
    "import datetime as dt\n",
    "dt.date(2020,2,2).strftime('%Y.%m.%d.')"
   ]
  },
  {
   "cell_type": "markdown",
   "metadata": {},
   "source": [
    "### Listing 6-3"
   ]
  },
  {
   "cell_type": "code",
   "execution_count": null,
   "metadata": {},
   "outputs": [],
   "source": [
    "from datetime import date\n",
    "date(2020,2,2).strftime('%Y.%m.%d.')"
   ]
  },
  {
   "cell_type": "markdown",
   "metadata": {},
   "source": [
    "### Listing 6-4"
   ]
  },
  {
   "cell_type": "code",
   "execution_count": null,
   "metadata": {},
   "outputs": [],
   "source": [
    "from datetime import date as Datum\n",
    "Datum(2020,2,2).strftime('%Y.%m.%d.')"
   ]
  },
  {
   "cell_type": "markdown",
   "metadata": {},
   "source": [
    "### Listing 6-5"
   ]
  },
  {
   "cell_type": "code",
   "execution_count": null,
   "metadata": {},
   "outputs": [],
   "source": [
    "from datetime import date, timedelta\n",
    "date(2020,2,2)-date(2020,1,1) > timedelta(days=30)"
   ]
  },
  {
   "cell_type": "markdown",
   "metadata": {},
   "source": [
    "### Listing 6-6"
   ]
  },
  {
   "cell_type": "code",
   "execution_count": null,
   "metadata": {},
   "outputs": [],
   "source": [
    "from decimal import Decimal\n",
    "VALUE_DEC = Decimal('9.45')"
   ]
  },
  {
   "cell_type": "markdown",
   "metadata": {},
   "source": [
    "### Listing 6-7"
   ]
  },
  {
   "cell_type": "code",
   "execution_count": null,
   "metadata": {},
   "outputs": [],
   "source": [
    "FLOAT_NUM = 1.1\n",
    "FINANCIAL_NUM = Decimal('1.1')\n",
    "print(f'{FLOAT_NUM:.50f}, {FINANCIAL_NUM:.50f},')"
   ]
  },
  {
   "cell_type": "markdown",
   "metadata": {},
   "source": [
    "### Listing 6-8"
   ]
  },
  {
   "cell_type": "code",
   "execution_count": null,
   "metadata": {},
   "outputs": [],
   "source": [
    "from decimal import getcontext, ROUND_HALF_UP\n",
    "getcontext().rounding = ROUND_HALF_UP\n",
    "getcontext().prec=28\n",
    "AR=Decimal('33')\n",
    "AFA=Decimal('1.27')\n",
    "osszeg=(AR*AFA).quantize(Decimal('0.01'))\n",
    "print(f'{osszeg:.20f}')"
   ]
  },
  {
   "cell_type": "markdown",
   "metadata": {},
   "source": [
    "### Listing 6-9"
   ]
  },
  {
   "cell_type": "code",
   "execution_count": null,
   "metadata": {},
   "outputs": [],
   "source": [
    "from collections import deque"
   ]
  },
  {
   "cell_type": "markdown",
   "metadata": {},
   "source": [
    "### Listing 6-10"
   ]
  },
  {
   "cell_type": "code",
   "execution_count": null,
   "metadata": {},
   "outputs": [],
   "source": [
    "index_numbers = deque((1, 2, 3, 4))\n",
    "index_numbers.append(5)\n",
    "index_numbers.popleft()"
   ]
  },
  {
   "cell_type": "markdown",
   "metadata": {},
   "source": [
    "### The Order object used for the examples"
   ]
  },
  {
   "cell_type": "code",
   "execution_count": 9,
   "metadata": {},
   "outputs": [],
   "source": [
    "class Customer:\n",
    "    def __init__(self, name, email, phone, \n",
    "                 shipping_address, \n",
    "                 billing_address=None):\n",
    "        self.name = name\n",
    "        self.email = email\n",
    "        self.phone = phone\n",
    "        self.shipping_address = shipping_address\n",
    "        self.billing_address = billing_address\n",
    "        \n",
    "class Product:\n",
    "    def __init__(self, code, name, price):\n",
    "        self.code = code\n",
    "        self.name = name\n",
    "        self.price = price\n",
    "        self.old_price = price\n",
    "        \n",
    "    def reduce_price(self, percentage):\n",
    "        self.old_price = self.price\n",
    "        new_price = self.price * (1 - percentage/100)\n",
    "        self.price = round(new_price)\n",
    "        \n",
    "    def __str__(self):\n",
    "        return (f'{self.name} ({self.code}): '\n",
    "                + f'{self.old_price}=>{self.price}')\n",
    "\n",
    "    def __repr__(self):\n",
    "        return (f'<Product {self.name}({self.code}): '\n",
    "                 +f'{self.old_price}=>{self.price}>')\n",
    "    \n",
    "    def __eq__(self, other):\n",
    "        if isinstance(other, self.__class__):\n",
    "            return (self.code == other.code)\n",
    "        return False\n",
    "    \n",
    "class Order:\n",
    "    \"\"\"This order can contains products and its\n",
    "    ordered quantities\n",
    "    \n",
    "    Attributes:\n",
    "        products: the ordered product and their quantities\n",
    "        customer: the customer\n",
    "        state: the state of the order; 'CREATED', \n",
    "                 'READYTOPOST' or 'SENT'\n",
    "    \"\"\"\n",
    "    class Item:\n",
    "        def __init__(self, product: Product, quantity: int):\n",
    "            self.product = product\n",
    "            self.quantity = quantity\n",
    "\n",
    "    products: list\n",
    "    customer: Customer\n",
    "    allapot: str\n",
    "\n",
    "    def __init__(self, products: list, \n",
    "                 customer: Customer):\n",
    "        \"\"\"The state of the order is created\"\"\"\n",
    "        self.products = products\n",
    "        self.customer = customer\n",
    "        self.state = 'CREATED'\n",
    "        \n",
    "    def total_sum(self) -> int:\n",
    "        return sum((product.quantity*product.product.price \n",
    "                    for product in self.products))\n",
    "    \n",
    "    def spreadsheet_of_items(self) -> str:\n",
    "        spreadsheet = ''\n",
    "        for product in self.products:\n",
    "            sub_total = prodct.quantity*product.product.price\n",
    "            spreadsheet += (f'{product.product.name} '\n",
    "                        + f'({product.quantity}db)\\t{sub_total}\\n')\n",
    "        return spreadsheet\n",
    "    \n",
    "    def closed(self) -> None:\n",
    "        \"\"\"Finalize the order\"\"\"\n",
    "        self.state = 'READYTOPOST'\n",
    "        \n",
    "    def post(self) -> None:\n",
    "        \"\"\"The order is posted to the customer\"\"\"\n",
    "        self.state = 'SENT'\n",
    "        \n",
    "class Address:\n",
    "    def __init__(self, zip_code, city, address, country):\n",
    "        self._zip_code = zip_code\n",
    "        self.city = city\n",
    "        self.address = address\n",
    "        self.country = country\n",
    "\n",
    "    @property\n",
    "    def teljes_address(self):\n",
    "        return (f'{self._zip_code} {self.city}, '\n",
    "                + f'{self.address}, {self.country}')\n",
    "    \n",
    "    @property\n",
    "    def zip_code(self):\n",
    "        return str(self._zip_code)\n",
    "    \n",
    "    @zip_code.setter\n",
    "    def zip_code(self, zip_code):\n",
    "        self._zip_code = int(zip_code)"
   ]
  },
  {
   "cell_type": "markdown",
   "metadata": {},
   "source": [
    "### Listing 6-11"
   ]
  },
  {
   "cell_type": "code",
   "execution_count": 3,
   "metadata": {},
   "outputs": [
    {
     "name": "stdout",
     "output_type": "stream",
     "text": [
      "<__main__.Order object at 0x00000277D54F7340>\n"
     ]
    }
   ],
   "source": [
    "if __name__=='__main__':\n",
    "    customer = Customer('X Y',\n",
    "        'xy@axonmatics.com',\n",
    "        '1/1234567',\n",
    "        Address('1011', 'Budapest',\n",
    "            'Wombat street 1st', 'HUNGARY'))\n",
    "    products = [\n",
    "        Order.Item(Product('A', 'cubE', 1), 2), \n",
    "        Order.Item(Product('B', 'cubF', 3), 5)\n",
    "    ]\n",
    "    order = Order(products, customer)\n",
    "    print(order)"
   ]
  },
  {
   "cell_type": "markdown",
   "metadata": {},
   "source": [
    "### Listing 6-14"
   ]
  },
  {
   "cell_type": "code",
   "execution_count": null,
   "metadata": {},
   "outputs": [],
   "source": [
    "import requests\n",
    "from bs4 import BeautifulSoup"
   ]
  },
  {
   "cell_type": "markdown",
   "metadata": {},
   "source": [
    "### Listing 6-15"
   ]
  },
  {
   "cell_type": "code",
   "execution_count": null,
   "metadata": {},
   "outputs": [],
   "source": [
    "Q = 'http://smartpython.axonmatics.com/quotes.html'\n",
    "r = requests.get(Q)\n",
    "print(r.status_code, r.headers['content-type'], \n",
    "      r.encoding)\n",
    "site = BeautifulSoup(r.text, 'html.parser')"
   ]
  },
  {
   "cell_type": "markdown",
   "metadata": {},
   "source": [
    "### Listing 6-16"
   ]
  },
  {
   "cell_type": "code",
   "execution_count": null,
   "metadata": {},
   "outputs": [],
   "source": [
    "site.head.title"
   ]
  },
  {
   "cell_type": "markdown",
   "metadata": {},
   "source": [
    "### Listing 6-17"
   ]
  },
  {
   "cell_type": "code",
   "execution_count": null,
   "metadata": {},
   "outputs": [],
   "source": [
    "site.head.title.text"
   ]
  },
  {
   "cell_type": "markdown",
   "metadata": {},
   "source": [
    "### Listing 6-19"
   ]
  },
  {
   "cell_type": "code",
   "execution_count": null,
   "metadata": {},
   "outputs": [],
   "source": [
    "for row in site.find_all('tr', \n",
    "        class_='book'):\n",
    "    cells = row.find_all('td')\n",
    "    print(cells[0].text, ': ', \n",
    "          cells[1].text, sep='')"
   ]
  },
  {
   "cell_type": "markdown",
   "metadata": {},
   "source": [
    "### Listing 6-20"
   ]
  },
  {
   "cell_type": "code",
   "execution_count": null,
   "metadata": {},
   "outputs": [],
   "source": [
    "import pandas as pd\n",
    "orders = pd.read_excel('orders.xlsx', \n",
    "                       index_col=0)"
   ]
  },
  {
   "cell_type": "markdown",
   "metadata": {},
   "source": [
    "### Listing 6-21"
   ]
  },
  {
   "cell_type": "code",
   "execution_count": null,
   "metadata": {
    "scrolled": true
   },
   "outputs": [],
   "source": [
    "orders.sort_values(by='Order value')"
   ]
  },
  {
   "cell_type": "markdown",
   "metadata": {},
   "source": [
    "### Listing 6-22"
   ]
  },
  {
   "cell_type": "code",
   "execution_count": null,
   "metadata": {},
   "outputs": [],
   "source": [
    "orders.groupby('Customer code').sum()"
   ]
  },
  {
   "cell_type": "markdown",
   "metadata": {},
   "source": [
    "### Listing 6-23"
   ]
  },
  {
   "cell_type": "code",
   "execution_count": 5,
   "metadata": {},
   "outputs": [],
   "source": [
    "\"\"\"Model of the order management\n",
    "\n",
    "The domain model of order management system is\n",
    "modeled by these classes. They can be used\n",
    "to represent an actual order.\n",
    "\n",
    "  Example usage:\n",
    "\n",
    "  product = Product('T1', 'A product', 100)\n",
    "  product.reduce_price(10)\n",
    "\"\"\"\n",
    "__version__ = '1.0.0'\n",
    "...\n",
    "if __name__=='__main__':\n",
    "    ..."
   ]
  },
  {
   "cell_type": "markdown",
   "metadata": {},
   "source": [
    "### Listing 6-27"
   ]
  },
  {
   "cell_type": "code",
   "execution_count": 21,
   "metadata": {},
   "outputs": [],
   "source": [
    "from unittest import TestCase\n",
    "\n",
    "class TestProduct(TestCase):\n",
    "    def setUp(self):\n",
    "        self.prod = Product('K01', 'Standard Cube', 1000)\n",
    "    \n",
    "    def test_product_creation(self):\n",
    "        self.assertEqual(self.prod.code, 'K01')\n",
    "        self.assertEqual(self.prod.name, 'Standard Cube')\n",
    "        self.assertEqual(self.prod.price, 1000)\n",
    "        self.assertEqual(self.prod.old_price, 1000)\n",
    "\n",
    "    def test_price_reduction(self):\n",
    "        self.prod.reduce_price(10)\n",
    "        self.assertEqual(self.prod.price, 900)\n",
    "        self.assertEqual(self.prod.old_price, 1000)\n",
    "        \n",
    "    def test_invalid_input(self):\n",
    "        with self.assertRaises(TypeError):\n",
    "            self.prod.reduce_price(\"A\")\n"
   ]
  },
  {
   "cell_type": "code",
   "execution_count": 23,
   "metadata": {},
   "outputs": [
    {
     "data": {
      "text/plain": [
       "<unittest.result.TestResult run=3 errors=0 failures=0>"
      ]
     },
     "execution_count": 23,
     "metadata": {},
     "output_type": "execute_result"
    }
   ],
   "source": [
    "from unittest import TestLoader, TestResult\n",
    "test_suite = TestLoader().loadTestsFromTestCase(TestProduct)\n",
    "result = test_suite.run(TestResult())\n",
    "result"
   ]
  },
  {
   "cell_type": "markdown",
   "metadata": {},
   "source": [
    "## Binary data representation"
   ]
  },
  {
   "cell_type": "markdown",
   "metadata": {},
   "source": [
    "### Listing A-1"
   ]
  },
  {
   "cell_type": "code",
   "execution_count": null,
   "metadata": {},
   "outputs": [],
   "source": [
    "print(bin(42))\n",
    "print(0b101010, int('101010', 2))"
   ]
  },
  {
   "cell_type": "markdown",
   "metadata": {},
   "source": [
    "### Listing A-2"
   ]
  },
  {
   "cell_type": "code",
   "execution_count": null,
   "metadata": {},
   "outputs": [],
   "source": [
    "print('A:', bin(42), '~:', bin(~42%256), \n",
    "      '<<:', bin(42<<1), '>>:', bin(42>>1), )"
   ]
  },
  {
   "cell_type": "markdown",
   "metadata": {},
   "source": [
    "### Listing A-3"
   ]
  },
  {
   "cell_type": "code",
   "execution_count": null,
   "metadata": {},
   "outputs": [],
   "source": [
    "print('A:', bin(42), 'B:', bin(15), \n",
    "      '&:', bin(42&15),'|:',  bin(42|15),\n",
    "      '^:',  bin(42^15))"
   ]
  },
  {
   "cell_type": "markdown",
   "metadata": {},
   "source": [
    "### Listing A-4"
   ]
  },
  {
   "cell_type": "code",
   "execution_count": null,
   "metadata": {},
   "outputs": [],
   "source": [
    "DATA = b'temp'\n",
    "data_rw = bytearray()\n",
    "data_rw.extend(DATA)\n",
    "data_rw.append(5)\n",
    "print(DATA, data_rw)"
   ]
  },
  {
   "cell_type": "markdown",
   "metadata": {},
   "source": [
    "### Listing A-5"
   ]
  },
  {
   "cell_type": "code",
   "execution_count": null,
   "metadata": {},
   "outputs": [],
   "source": [
    "print(ord('t'), chr(116))"
   ]
  },
  {
   "cell_type": "markdown",
   "metadata": {},
   "source": [
    "### Listing A-6"
   ]
  },
  {
   "cell_type": "code",
   "execution_count": null,
   "metadata": {},
   "outputs": [],
   "source": [
    "print(b'temp'.decode())\n",
    "print('temp ÁÉÍÓÚ'.encode())"
   ]
  },
  {
   "cell_type": "markdown",
   "metadata": {},
   "source": [
    "### Listing A-7"
   ]
  },
  {
   "cell_type": "code",
   "execution_count": null,
   "metadata": {},
   "outputs": [],
   "source": [
    "INTEGER = 768\n",
    "byte_repr = INTEGER.to_bytes(2, byteorder='little')\n",
    "reverse = int.from_bytes(byte_repr, byteorder='little')\n",
    "print(byte_repr, reverse)"
   ]
  },
  {
   "cell_type": "markdown",
   "metadata": {},
   "source": [
    "### Listing A-8"
   ]
  },
  {
   "cell_type": "code",
   "execution_count": null,
   "metadata": {},
   "outputs": [],
   "source": [
    "from struct import pack, unpack\n",
    "print(pack('B', (42)), \n",
    "      pack('>H', (42)), pack('<H', (42)))\n",
    "print(unpack('>H', b'\\x00*'), \n",
    "      unpack('<H', b'\\x00*')) #42*256"
   ]
  },
  {
   "cell_type": "markdown",
   "metadata": {},
   "source": [
    "## Type hints"
   ]
  },
  {
   "cell_type": "markdown",
   "metadata": {},
   "source": [
    "### Listing B-1"
   ]
  },
  {
   "cell_type": "code",
   "execution_count": 1,
   "metadata": {},
   "outputs": [],
   "source": [
    "from typing import (Optional, Union, Any)\n",
    "a: list[int] = [1, 2, 4, 8]\n",
    "b: set[str] = {'a', 'b', 'c'}\n",
    "c: dict[str, float] = {'a': 2.3, 'b': 5.5}\n",
    "d: tuple[str, int] = ('a', 1)\n",
    "e: Optional[int] = None\n",
    "e = 3\n",
    "f: Union[int, str] = 3\n",
    "f = 'hello'\n",
    "g: Any = 3\n",
    "g = 'hello'"
   ]
  },
  {
   "cell_type": "markdown",
   "metadata": {},
   "source": [
    "### Listing B-2"
   ]
  },
  {
   "cell_type": "code",
   "execution_count": null,
   "metadata": {},
   "outputs": [],
   "source": [
    "ProductRekord = Tuple[str, str, int]"
   ]
  },
  {
   "cell_type": "markdown",
   "metadata": {},
   "source": [
    "### Listing B-3"
   ]
  },
  {
   "cell_type": "code",
   "execution_count": null,
   "metadata": {},
   "outputs": [],
   "source": [
    "from typing import NewType\n",
    "ProductId = NewType('ProductId', str)"
   ]
  },
  {
   "cell_type": "markdown",
   "metadata": {},
   "source": [
    "### Listing B-4"
   ]
  },
  {
   "cell_type": "code",
   "execution_count": null,
   "metadata": {},
   "outputs": [],
   "source": [
    "from typing import Protocol\n",
    "class Discountable(Protocol):\n",
    "    def discount(self, szazalek: int) -> int:\n",
    "        ..."
   ]
  },
  {
   "cell_type": "markdown",
   "metadata": {},
   "source": [
    "### Listing B-5"
   ]
  },
  {
   "cell_type": "code",
   "execution_count": null,
   "metadata": {},
   "outputs": [],
   "source": [
    "from decimal import Decimal\n",
    "from typing import TypeVar, Callable\n",
    "\n",
    "\n",
    "#Number for financle calculation\n",
    "FN = TypeVar('FN', int, Decimal)\n",
    "\n",
    "\n",
    "def discount_value(price: FN, quantity: int, \n",
    "        discount: Callable[[FN, int], FN]) -> FN:\n",
    "    value: FN = price * quantity\n",
    "    discount: FN = discount(price, quantity)\n",
    "    return value*(1-discount)"
   ]
  },
  {
   "cell_type": "markdown",
   "metadata": {},
   "source": [
    "## Asynchronous programming overview"
   ]
  },
  {
   "cell_type": "markdown",
   "metadata": {},
   "source": [
    "### Listing C-1"
   ]
  },
  {
   "cell_type": "code",
   "execution_count": 4,
   "metadata": {},
   "outputs": [
    {
     "data": {
      "text/plain": [
       "<Task pending name='Task-3' coro=<main() running at C:\\Users\\gaboo\\AppData\\Local\\Temp\\ipykernel_25784\\1293524653.py:3>>"
      ]
     },
     "execution_count": 4,
     "metadata": {},
     "output_type": "execute_result"
    },
    {
     "name": "stdout",
     "output_type": "stream",
     "text": [
      "Hello World!\n"
     ]
    }
   ],
   "source": [
    "import asyncio\n",
    "\n",
    "async def main():\n",
    "    print('Hello World!')\n",
    "    \n",
    "#asyncio.run(main())\n",
    "loop = asyncio.get_event_loop()\n",
    "loop.create_task(main())"
   ]
  },
  {
   "cell_type": "markdown",
   "metadata": {},
   "source": [
    "### Listing C-2"
   ]
  },
  {
   "cell_type": "code",
   "execution_count": 5,
   "metadata": {},
   "outputs": [
    {
     "data": {
      "text/plain": [
       "<Task pending name='Task-4' coro=<main() running at C:\\Users\\gaboo\\AppData\\Local\\Temp\\ipykernel_25784\\751403202.py:7>>"
      ]
     },
     "execution_count": 5,
     "metadata": {},
     "output_type": "execute_result"
    },
    {
     "name": "stdout",
     "output_type": "stream",
     "text": [
      "Hello World! (x 1)\n"
     ]
    }
   ],
   "source": [
    "import asyncio\n",
    "\n",
    "async def hello(name, count=10):\n",
    "    for i in range(1, count+1):\n",
    "        print(f'Hello {name}! (x {i})')\n",
    "\n",
    "async def main():\n",
    "    await hello(\"World\", 1)\n",
    "\n",
    "\n",
    "#asyncio.run(main())\n",
    "loop = asyncio.get_event_loop()\n",
    "loop.create_task(main())"
   ]
  },
  {
   "cell_type": "markdown",
   "metadata": {},
   "source": [
    "### Listing C-3"
   ]
  },
  {
   "cell_type": "code",
   "execution_count": 6,
   "metadata": {},
   "outputs": [
    {
     "data": {
      "text/plain": [
       "<Task pending name='Task-5' coro=<main() running at C:\\Users\\gaboo\\AppData\\Local\\Temp\\ipykernel_25784\\1712134888.py:7>>"
      ]
     },
     "execution_count": 6,
     "metadata": {},
     "output_type": "execute_result"
    },
    {
     "name": "stdout",
     "output_type": "stream",
     "text": [
      "Hello Alice! (x 1)\n",
      "Hello Alice! (x 2)\n",
      "Hello Alice! (x 3)\n",
      "Hello Alice! (x 4)\n",
      "Hello Alice! (x 5)\n",
      "Hello Alice! (x 6)\n",
      "Hello Alice! (x 7)\n",
      "Hello Alice! (x 8)\n",
      "Hello Alice! (x 9)\n",
      "Hello Alice! (x 10)\n",
      "Hello Bob! (x 1)\n",
      "Hello Bob! (x 2)\n",
      "Hello Bob! (x 3)\n",
      "Hello Bob! (x 4)\n",
      "Hello Bob! (x 5)\n",
      "Hello Bob! (x 6)\n",
      "Hello Bob! (x 7)\n",
      "Hello Bob! (x 8)\n",
      "Hello Bob! (x 9)\n",
      "Hello Bob! (x 10)\n"
     ]
    }
   ],
   "source": [
    "import asyncio\n",
    "\n",
    "async def hello(name, count=10):\n",
    "    for i in range(1, count+1):\n",
    "        print(f'Hello {name}! (x {i})')\n",
    "\n",
    "async def main():\n",
    "    await asyncio.gather(hello(\"Alice\"), hello(\"Bob\"))\n",
    "\n",
    "\n",
    "#asyncio.run(main())\n",
    "loop = asyncio.get_event_loop()\n",
    "loop.create_task(main())"
   ]
  },
  {
   "cell_type": "markdown",
   "metadata": {},
   "source": [
    "### Listing C-4"
   ]
  },
  {
   "cell_type": "code",
   "execution_count": 7,
   "metadata": {},
   "outputs": [
    {
     "data": {
      "text/plain": [
       "<Task pending name='Task-8' coro=<main() running at C:\\Users\\gaboo\\AppData\\Local\\Temp\\ipykernel_25784\\2727175203.py:8>>"
      ]
     },
     "execution_count": 7,
     "metadata": {},
     "output_type": "execute_result"
    },
    {
     "name": "stdout",
     "output_type": "stream",
     "text": [
      "Hello Alice! (x 1)\n",
      "Hello Bob! (x 1)\n",
      "Hello Alice! (x 2)\n",
      "Hello Bob! (x 2)\n",
      "Hello Alice! (x 3)\n",
      "Hello Bob! (x 3)\n",
      "Hello Alice! (x 4)\n",
      "Hello Bob! (x 4)\n",
      "Hello Alice! (x 5)\n",
      "Hello Bob! (x 5)\n",
      "Hello Alice! (x 6)\n",
      "Hello Bob! (x 6)\n",
      "Hello Alice! (x 7)\n",
      "Hello Bob! (x 7)\n",
      "Hello Alice! (x 8)\n",
      "Hello Bob! (x 8)\n",
      "Hello Alice! (x 9)\n",
      "Hello Bob! (x 9)\n",
      "Hello Alice! (x 10)\n",
      "Hello Bob! (x 10)\n"
     ]
    }
   ],
   "source": [
    "import asyncio\n",
    "\n",
    "async def hello(name, count=10, delay=0):\n",
    "    for i in range(1, count+1):\n",
    "        print(f'Hello {name}! (x {i})')\n",
    "        await asyncio.sleep(delay)\n",
    "\n",
    "async def main():\n",
    "    await asyncio.gather(hello(\"Alice\"), hello(\"Bob\"))\n",
    "\n",
    "\n",
    "#asyncio.run(main())\n",
    "loop = asyncio.get_event_loop()\n",
    "loop.create_task(main())"
   ]
  },
  {
   "cell_type": "markdown",
   "metadata": {},
   "source": [
    "### Listing C-5"
   ]
  },
  {
   "cell_type": "code",
   "execution_count": 10,
   "metadata": {},
   "outputs": [
    {
     "data": {
      "text/plain": [
       "<Task pending name='Task-11' coro=<main() running at C:\\Users\\gaboo\\AppData\\Local\\Temp\\ipykernel_25784\\1342134538.py:9>>"
      ]
     },
     "execution_count": 10,
     "metadata": {},
     "output_type": "execute_result"
    },
    {
     "name": "stdout",
     "output_type": "stream",
     "text": [
      "False False\n",
      "Hello Alice! (x 1)\n",
      "Hello Bob! (x 1)\n",
      "Hello Alice! (x 2)\n",
      "Hello Bob! (x 2)\n",
      "Hello Alice! (x 3)\n",
      "Hello Bob! (x 3)\n",
      "Hello Alice! (x 4)\n",
      "Hello Bob! (x 4)\n",
      "Hello Alice! (x 5)\n",
      "Hello Bob! (x 5)\n",
      "Hello Alice! (x 6)\n",
      "False True\n",
      "Hello Alice! (x 7)\n",
      "Hello Alice! (x 8)\n",
      "Hello Alice! (x 9)\n",
      "Hello Alice! (x 10)\n",
      "True True\n"
     ]
    }
   ],
   "source": [
    "import asyncio\n",
    "\n",
    "async def hello(name, count=10, delay=0):\n",
    "    for i in range(1, count+1):\n",
    "        print(f'Hello {name}! (x {i})')\n",
    "        await asyncio.sleep(delay)\n",
    "\n",
    "        \n",
    "async def main():\n",
    "    task_a = asyncio.create_task(hello(\"Alice\", count=10, delay=1))\n",
    "    task_b = asyncio.create_task(hello(\"Bob\", count=5, delay=1))\n",
    "    print(task_a.done(), task_b.done())\n",
    "    await task_b # approx. 5 sec\n",
    "    print(task_a.done(), task_b.done())\n",
    "    await asyncio.sleep(10) # approx. 2+4 sec\n",
    "    print(task_a.done(), task_b.done())\n",
    "\n",
    "\n",
    "#asyncio.run(main())\n",
    "loop = asyncio.get_event_loop()\n",
    "loop.create_task(main())"
   ]
  },
  {
   "cell_type": "code",
   "execution_count": 12,
   "metadata": {},
   "outputs": [
    {
     "data": {
      "text/plain": [
       "<Task pending name='Task-14' coro=<main() running at C:\\Users\\gaboo\\AppData\\Local\\Temp\\ipykernel_25784\\2537516848.py:15>>"
      ]
     },
     "execution_count": 12,
     "metadata": {},
     "output_type": "execute_result"
    },
    {
     "name": "stdout",
     "output_type": "stream",
     "text": [
      "Returned a value {count} (x {i})\n",
      "Hello Bob! (x 1)\n",
      "Hello Alice! (x 1)\n",
      "Returned a value {count} (x {i})\n",
      "Hello Bob! (x 2)\n",
      "Hello Alice! (x 2)\n",
      "Returned a value {count} (x {i})\n",
      "Hello Bob! (x 3)\n",
      "Hello Alice! (x 3)\n",
      "Returned a value {count} (x {i})\n",
      "Hello Bob! (x 4)\n",
      "Hello Alice! (x 4)\n",
      "Returned a value {count} (x {i})\n",
      "Hello Bob! (x 5)\n",
      "Hello Alice! (x 5)\n",
      "Returned a value {count} (x {i})\n",
      "Hello Bob! (x 6)\n",
      "Hello Alice! (x 6)\n",
      "Returned a value {count} (x {i})\n",
      "Hello Bob! (x 7)\n",
      "Hello Alice! (x 7)\n",
      "Returned a value {count} (x {i})\n",
      "Hello Bob! (x 8)\n",
      "Hello Alice! (x 8)\n",
      "Returned a value {count} (x {i})\n",
      "Hello Bob! (x 9)\n",
      "Hello Alice! (x 9)\n",
      "Returned a value {count} (x {i})\n",
      "Hello Bob! (x 10)\n",
      "Hello Alice! (x 10)\n"
     ]
    }
   ],
   "source": [
    "import asyncio\n",
    "\n",
    "async def hello(name, count=10, delay=0):\n",
    "    for i in range(1, count+1):\n",
    "        print(f'Hello {name}! (x {i})')\n",
    "        await asyncio.sleep(delay)\n",
    "\n",
    "async def hello_gen(name, count=10, delay=0):\n",
    "    for i in range(1, count+1):\n",
    "        print('Returned a value {count} (x {i})')\n",
    "        yield f'Hello {name}! (x {i})'\n",
    "        await asyncio.sleep(delay)\n",
    "\n",
    "        \n",
    "async def main():\n",
    "    task_a = asyncio.create_task(hello(\"Alice\", 10, delay=1))\n",
    "    async for message_b in hello_gen(\"Bob\", 10, delay=1):\n",
    "        print(message_b)\n",
    "    await task_a\n",
    "\n",
    "#asyncio.run(main())\n",
    "loop = asyncio.get_event_loop()\n",
    "loop.create_task(main())"
   ]
  },
  {
   "cell_type": "code",
   "execution_count": null,
   "metadata": {},
   "outputs": [],
   "source": []
  }
 ],
 "metadata": {
  "kernelspec": {
   "display_name": "Python 3 (ipykernel)",
   "language": "python",
   "name": "python3"
  },
  "language_info": {
   "codemirror_mode": {
    "name": "ipython",
    "version": 3
   },
   "file_extension": ".py",
   "mimetype": "text/x-python",
   "name": "python",
   "nbconvert_exporter": "python",
   "pygments_lexer": "ipython3",
   "version": "3.10.2"
  }
 },
 "nbformat": 4,
 "nbformat_minor": 4
}
