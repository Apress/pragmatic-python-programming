{
 "cells": [
  {
   "cell_type": "markdown",
   "metadata": {
    "tags": []
   },
   "source": [
    "# Pragmatic Python Programming\n",
    "\n",
    "2022 (C) Copyright, Gabor Guta"
   ]
  },
  {
   "cell_type": "markdown",
   "metadata": {
    "tags": []
   },
   "source": [
    "The cell below is to check Python version."
   ]
  },
  {
   "cell_type": "code",
   "execution_count": null,
   "metadata": {
    "tags": []
   },
   "outputs": [],
   "source": [
    "import sys\n",
    "print(sys.version)"
   ]
  },
  {
   "cell_type": "markdown",
   "metadata": {},
   "source": [
    "## The function"
   ]
  },
  {
   "cell_type": "markdown",
   "metadata": {},
   "source": [
    "### Listing 2-1"
   ]
  },
  {
   "cell_type": "code",
   "execution_count": null,
   "metadata": {},
   "outputs": [],
   "source": [
    "abs(-1)"
   ]
  },
  {
   "cell_type": "markdown",
   "metadata": {},
   "source": [
    "### Listing 2-2"
   ]
  },
  {
   "cell_type": "code",
   "execution_count": null,
   "metadata": {
    "scrolled": true
   },
   "outputs": [],
   "source": [
    "round(3499 * 1.1)"
   ]
  },
  {
   "cell_type": "markdown",
   "metadata": {},
   "source": [
    "### Listing 2-3"
   ]
  },
  {
   "cell_type": "code",
   "execution_count": null,
   "metadata": {},
   "outputs": [],
   "source": [
    "OLD_NET = 5000\n",
    "NEW_NET = 6500\n",
    "VAT_RATE = 1.1\n",
    "difference_gross = abs(round(OLD_NET*1.1)-round(NEW_NET*1.1))"
   ]
  },
  {
   "cell_type": "markdown",
   "metadata": {},
   "source": [
    "### Listing 2-4"
   ]
  },
  {
   "cell_type": "code",
   "execution_count": null,
   "metadata": {},
   "outputs": [],
   "source": [
    "print('Hello World!')"
   ]
  },
  {
   "cell_type": "markdown",
   "metadata": {},
   "source": [
    "### Listing 2-5"
   ]
  },
  {
   "cell_type": "code",
   "execution_count": null,
   "metadata": {},
   "outputs": [],
   "source": [
    "total_amount = 1000\n",
    "print('Order total:', total_amount)"
   ]
  },
  {
   "cell_type": "markdown",
   "metadata": {},
   "source": [
    "### Listing 2-6"
   ]
  },
  {
   "cell_type": "code",
   "execution_count": null,
   "metadata": {},
   "outputs": [],
   "source": [
    "product_name = input('Please, enter the name of the product')\n",
    "print('The name of the product:', product_name)"
   ]
  },
  {
   "cell_type": "markdown",
   "metadata": {},
   "source": [
    "### Listing 2-7"
   ]
  },
  {
   "cell_type": "code",
   "execution_count": null,
   "metadata": {},
   "outputs": [],
   "source": [
    "PRODUCT_NAME = 'Cube'\n",
    "PRICE = 100\n",
    "print('The product:', PRODUCT_NAME, end=' ')\n",
    "print('(', PRICE, ' USD)', sep='')"
   ]
  },
  {
   "cell_type": "markdown",
   "metadata": {},
   "source": [
    "### Listing 2-8"
   ]
  },
  {
   "cell_type": "code",
   "execution_count": null,
   "metadata": {},
   "outputs": [],
   "source": [
    "def total_sum(price, quantity):\n",
    "    return price * quantity"
   ]
  },
  {
   "cell_type": "markdown",
   "metadata": {},
   "source": [
    "### Listing 2-9"
   ]
  },
  {
   "cell_type": "code",
   "execution_count": null,
   "metadata": {},
   "outputs": [],
   "source": [
    "total_sum(1000, 8)"
   ]
  },
  {
   "cell_type": "markdown",
   "metadata": {},
   "source": [
    "### Listing 2-10"
   ]
  },
  {
   "cell_type": "code",
   "execution_count": null,
   "metadata": {},
   "outputs": [],
   "source": [
    "def total_sum(price, quantity):\n",
    "    total = price * quantity\n",
    "    return total\n",
    "extra_price = 2000"
   ]
  },
  {
   "cell_type": "markdown",
   "metadata": {},
   "source": [
    "### Listing 2-11"
   ]
  },
  {
   "cell_type": "code",
   "execution_count": null,
   "metadata": {
    "tags": []
   },
   "outputs": [],
   "source": [
    "total_sum(price=1000, quantity=8)\n",
    "total_sum(1000, quantity=8)"
   ]
  },
  {
   "cell_type": "markdown",
   "metadata": {},
   "source": [
    "### Listing 2-12"
   ]
  },
  {
   "cell_type": "code",
   "execution_count": null,
   "metadata": {},
   "outputs": [],
   "source": [
    "def total_sum_v2(price=500, quantity=5):\n",
    "    return price * quantity"
   ]
  },
  {
   "cell_type": "markdown",
   "metadata": {},
   "source": [
    "### Listing 2-13"
   ]
  },
  {
   "cell_type": "code",
   "execution_count": null,
   "metadata": {},
   "outputs": [],
   "source": [
    "total_sum_v2(1000, 8)\n",
    "total_sum_v2(1000, quantity=8)\n",
    "total_sum_v2(price=1000, quantity=8)\n",
    "total_sum_v2(quantity=8, price=1000)\n",
    "total_sum_v2(1000)\n",
    "total_sum_v2(price=1000)\n",
    "total_sum_v2(quantity=8)\n",
    "total_sum_v2()"
   ]
  },
  {
   "cell_type": "markdown",
   "metadata": {},
   "source": [
    "### Listing 2-14"
   ]
  },
  {
   "cell_type": "code",
   "execution_count": null,
   "metadata": {},
   "outputs": [],
   "source": [
    "PRICE = 2000\n",
    "\n",
    "def total_sum_v3(quantity):\n",
    "    return PRICE * quantity\n",
    "\n",
    "total_sum_v3(100)"
   ]
  },
  {
   "cell_type": "markdown",
   "metadata": {},
   "source": [
    "### Listing 2-15"
   ]
  },
  {
   "cell_type": "code",
   "execution_count": null,
   "metadata": {},
   "outputs": [],
   "source": [
    "PRICE = 2000\n",
    "def total_sum_v4(quantity):\n",
    "    PRICE = 3000\n",
    "    return PRICE * quantity\n",
    "total_sum_v4(100)"
   ]
  },
  {
   "cell_type": "markdown",
   "metadata": {},
   "source": [
    "### Listing 2-16"
   ]
  },
  {
   "cell_type": "code",
   "execution_count": null,
   "metadata": {},
   "outputs": [],
   "source": [
    "def discount_30(price, quantity):\n",
    "    return 0.3 if price>500 else 0\n",
    "\n",
    "def discount_4p1(price, quantity):\n",
    "    return ((quantity//5) / quantity)\n",
    "\n",
    "def reduced_price_p(price, quantity, discount):\n",
    "    total_value = price * quantity\n",
    "    discount_in_fraction = discount(price, quantity)\n",
    "    return total_value * (1-discount_in_fraction)\n",
    "\n",
    "print(reduced_price_p(1000, 5, discount_30))\n",
    "print(reduced_price_p(1000, 5, discount_4p1))"
   ]
  },
  {
   "cell_type": "markdown",
   "metadata": {},
   "source": [
    "### Listing 2-17"
   ]
  },
  {
   "cell_type": "code",
   "execution_count": null,
   "metadata": {},
   "outputs": [],
   "source": [
    "def reduced_price_e(price, quantity, discount, limit = 5000):\n",
    "    def total_sum():\n",
    "         return price * quantity\n",
    "\n",
    "    def d_available(total_value):\n",
    "        return total_value >= limit\n",
    "\n",
    "    multiplier = 1.0 - (discount \n",
    "                    if d_available(total_sum()) \n",
    "                    else 0.0)\n",
    "    return round(total_sum() * multiplier)"
   ]
  },
  {
   "cell_type": "markdown",
   "metadata": {},
   "source": [
    "### Listing 2-18"
   ]
  },
  {
   "cell_type": "code",
   "execution_count": null,
   "metadata": {},
   "outputs": [],
   "source": [
    "def total_sum(price: int, quantity: int) -> int:\n",
    "    \"\"\"Calculates the total sum\n",
    "    \n",
    "    The total sum is the product of the price and quantity.\n",
    "    \n",
    "    Args:\n",
    "        price: the unit price\n",
    "        quantity: the quantity of the product\n",
    "    Returns:\n",
    "        the result of the computation, which is the value of the product\n",
    "    \"\"\"\n",
    "    assert price >= 0, \"the price cannot be negative\"\n",
    "    assert quantity >= 0, \"the quantity cannot be negative\"\n",
    "    total_sum = price * quantity\n",
    "    return total_sum\n",
    "\n",
    "def discount_available(value: int, limit: int = 5000) -> bool:\n",
    "    \"\"\"Checks whether any discount is available\n",
    "    \n",
    "    Based on the limit it decides whether the dicount can be applied\n",
    "    \n",
    "    Args:\n",
    "        value: the total price of the product\n",
    "        limit: a new limit if it differs from 5000\n",
    "        \n",
    "    Returns:\n",
    "        True if discount is available, otherwise False\n",
    "    \"\"\"\n",
    "    assert value >= 0, \"the value cannot be negative\"\n",
    "    assert limit >= 0, \"the limit cannot be negative\"\n",
    "    return value >= limit\n",
    "\n",
    "def reduced_price(value: int, discount: float) -> int:\n",
    "    \"\"\"Calculate the discounted price\n",
    "    \n",
    "    Calcualtes the final price according to value and discount variables,\n",
    "    which will be the discounted price if discount is available\n",
    "    \n",
    "    Args:\n",
    "        value:     the total price of the product\n",
    "        discount:  amount of the discount in fraction\n",
    "                   (e.g.  0.5 equals 50%)\n",
    "    \n",
    "    Returns:\n",
    "        The discounted price if discount is available, otherwise the original value\n",
    "    \"\"\"\n",
    "    assert value >= 0, \"the value cannot be negative\"\n",
    "    assert 1 >= discount >= 0, \"discount is not in the valid range\"\n",
    "    multiplier = 1.0 - (discount \n",
    "                    if discount_available(value) \n",
    "                    else 0.0)\n",
    "    return round(value * multiplier)"
   ]
  },
  {
   "cell_type": "markdown",
   "metadata": {},
   "source": [
    "### Listing 2-19"
   ]
  },
  {
   "cell_type": "code",
   "execution_count": null,
   "metadata": {},
   "outputs": [],
   "source": [
    "PRICE: int = 5500 # unit price\n",
    "QUANTITY: int = 5 # quantity\n",
    "total_value = total_sum(PRICE, QUANTITY)\n",
    "print('Total sum: ', reduced_price(total_value, 0.5))\n",
    "print('5%' if discount_available(total_value) else 'None')"
   ]
  },
  {
   "cell_type": "markdown",
   "metadata": {},
   "source": [
    "### Listing 2-20"
   ]
  },
  {
   "cell_type": "code",
   "execution_count": null,
   "metadata": {},
   "outputs": [],
   "source": [
    "def f(a, /, b, *, c):\n",
    "    print('positional-only parameter:', a)\n",
    "    print('positional or keyword parameter:', b)\n",
    "    print('keyword-only parameter:', c)\n",
    "    \n",
    "f(1, 2, c=3)\n",
    "f(1, b=2, c=3)"
   ]
  },
  {
   "cell_type": "markdown",
   "metadata": {},
   "source": [
    "### Listing 2-21"
   ]
  },
  {
   "cell_type": "code",
   "execution_count": null,
   "metadata": {
    "tags": []
   },
   "outputs": [],
   "source": [
    "def f(*args, **kwargs):\n",
    "    print('positional arguments', args)\n",
    "    print('keyword arguments', kwargs)\n",
    "    \n",
    "f(1, 2, 3, a=1, b=2, c=3)"
   ]
  },
  {
   "cell_type": "markdown",
   "metadata": {
    "tags": []
   },
   "source": [
    "### Listing 2-22"
   ]
  },
  {
   "cell_type": "code",
   "execution_count": null,
   "metadata": {},
   "outputs": [],
   "source": [
    "def discount_50(price, quantity):\n",
    "    return 0.5 if quantity>10 else 0\n",
    "\n",
    "print(reduced_price_p(1000, 15, discount_50))"
   ]
  },
  {
   "cell_type": "markdown",
   "metadata": {},
   "source": [
    "### Listing 2-23"
   ]
  },
  {
   "cell_type": "code",
   "execution_count": null,
   "metadata": {
    "scrolled": true
   },
   "outputs": [],
   "source": [
    "print(reduced_price_p(1000, 15, lambda price, quantity: 0.5 if quantity>10 else 0))"
   ]
  },
  {
   "cell_type": "markdown",
   "metadata": {},
   "source": [
    "### Listing 2-24"
   ]
  },
  {
   "cell_type": "code",
   "execution_count": null,
   "metadata": {},
   "outputs": [],
   "source": [
    "def limit_discount(discount):\n",
    "    def check(price, quantity):\n",
    "        pre_calculation = discount(price, quantity)\n",
    "        return pre_calculation if pre_calculation<0.75 else 0.75\n",
    "    return check\n",
    "\n",
    "@limit_discount\n",
    "def discount_40(price, quantity):\n",
    "    rate = 0.4 if price*quantity > 500 else 0\n",
    "    return rate\n",
    "\n",
    "@limit_discount\n",
    "def sell_for_free(price, quantity):\n",
    "    rate = 1.0 if quantity == 1 else 0\n",
    "    return rate\n",
    "\n",
    "print(reduced_price_p(1000, 1, discount_40))\n",
    "print(reduced_price_p(1000, 1, sell_for_free))"
   ]
  },
  {
   "cell_type": "code",
   "execution_count": null,
   "metadata": {},
   "outputs": [],
   "source": []
  }
 ],
 "metadata": {
  "kernelspec": {
   "display_name": "Python 3 (ipykernel)",
   "language": "python",
   "name": "python3"
  },
  "language_info": {
   "codemirror_mode": {
    "name": "ipython",
    "version": 3
   },
   "file_extension": ".py",
   "mimetype": "text/x-python",
   "name": "python",
   "nbconvert_exporter": "python",
   "pygments_lexer": "ipython3",
   "version": "3.10.4"
  }
 },
 "nbformat": 4,
 "nbformat_minor": 4
}
