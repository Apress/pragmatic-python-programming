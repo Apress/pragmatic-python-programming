{
 "cells": [
  {
   "cell_type": "markdown",
   "metadata": {
    "tags": []
   },
   "source": [
    "# Pragmatic Python Programming\n",
    "\n",
    "2022 (C) Copyright, Gabor Guta"
   ]
  },
  {
   "cell_type": "markdown",
   "metadata": {},
   "source": [
    "The cell below is to check Python version."
   ]
  },
  {
   "cell_type": "code",
   "execution_count": null,
   "metadata": {},
   "outputs": [],
   "source": [
    "import sys\n",
    "print(sys.version)"
   ]
  },
  {
   "cell_type": "markdown",
   "metadata": {},
   "source": [
    "Definition needed from the preceeding chapters: Listing 3-20"
   ]
  },
  {
   "cell_type": "code",
   "execution_count": null,
   "metadata": {},
   "outputs": [],
   "source": [
    "class Product:\n",
    "    def __init__(self, code, name, price):\n",
    "        self.code = code\n",
    "        self.name = name\n",
    "        self.price = price\n",
    "        self.old_price = price\n",
    "        \n",
    "    def reduce_price(self, percentage):\n",
    "        self.old_price = self.price\n",
    "        new_price = self.price * (1 - percentage/100)\n",
    "        self.price = round(new_price)\n",
    "        \n",
    "    def __str__(self):\n",
    "        return (f'{self.name} ({self.code}): '\n",
    "                + f'{self.old_price}=>{self.price}')\n",
    "\n",
    "    def __repr__(self):\n",
    "        return (f'<Product code={self.code}, '\n",
    "                + f'name={self.name}, '\n",
    "                + f'price={self.price}, '\n",
    "                + f'old price={self.old_price}>')\n",
    "    \n",
    "    def __eq__(self, other):\n",
    "        if isinstance(other, self.__class__):\n",
    "            return (self.code == other.code)\n",
    "        return False"
   ]
  },
  {
   "cell_type": "markdown",
   "metadata": {},
   "source": [
    "## The control flow"
   ]
  },
  {
   "cell_type": "markdown",
   "metadata": {},
   "source": [
    "### Listing 4-1"
   ]
  },
  {
   "cell_type": "code",
   "execution_count": null,
   "metadata": {},
   "outputs": [],
   "source": [
    "product = Product('K01', 'cube', 1000)\n",
    "discount_value = int(input('Amount of the discount (in %)?'))\n",
    "if discount_value > 0 and discount_value <= 99:\n",
    "    product.reduce_price(discount_value)\n",
    "else:\n",
    "    print('Discount value is too low or too high')"
   ]
  },
  {
   "cell_type": "markdown",
   "metadata": {},
   "source": [
    "### Listing 4-2"
   ]
  },
  {
   "cell_type": "code",
   "execution_count": null,
   "metadata": {},
   "outputs": [],
   "source": [
    "product = Product('K01', 'cube', 1000)\n",
    "discount_value = int(input('Amount of the discount (in %)?'))\n",
    "if 0 < discount_value <= 99:\n",
    "    product.reduce_price(discount_value)\n",
    "elif discount_value < 0:\n",
    "    print('Discount value is negative')\n",
    "elif discount_value == 0:\n",
    "    print('No discount')\n",
    "elif 99 < discount_value <= 100:\n",
    "    print('Discount value is too high')\n",
    "else:\n",
    "    print('Price will be negative')"
   ]
  },
  {
   "cell_type": "markdown",
   "metadata": {},
   "source": [
    "### Listing 4-3"
   ]
  },
  {
   "cell_type": "code",
   "execution_count": null,
   "metadata": {},
   "outputs": [],
   "source": [
    "product = Product('K01', 'cube', 1000)\n",
    "discount_value = int(input('Amount of the discount (in %)?'))\n",
    "if discount_value > 0 and discount_value <= 99:\n",
    "    product.reduce_price(discount_value)\n",
    "else:\n",
    "    if discount_value <= 0:\n",
    "        print('Discount value is too low')\n",
    "    else:\n",
    "        print('Discount value is too high')"
   ]
  },
  {
   "cell_type": "markdown",
   "metadata": {},
   "source": [
    "### Listing 4-4"
   ]
  },
  {
   "cell_type": "code",
   "execution_count": null,
   "metadata": {},
   "outputs": [],
   "source": [
    "product = Product('K01', 'cube', 1000)\n",
    "discount_value = int(input('Amount of the discount (in %)?'))\n",
    "match discount_value:\n",
    "    case 0:\n",
    "        print('No discount')\n",
    "    case 1:\n",
    "        print('Only 1%')\n",
    "        product.reduce_price(discount_value)\n",
    "    case 5|10:\n",
    "        print(f'{discount_value}% is reasonable')\n",
    "        product.reduce_price(discount_value)\n",
    "    case _:\n",
    "        print('We allow only 0%, 1%, 5% or 10% discounts')\n"
   ]
  },
  {
   "cell_type": "markdown",
   "metadata": {},
   "source": [
    "### Listing 4-5"
   ]
  },
  {
   "cell_type": "code",
   "execution_count": null,
   "metadata": {},
   "outputs": [],
   "source": [
    "product = Product('K01', 'cube', 1000)\n",
    "discount_value = int(input('Amount of the discount (in %)?'))\n",
    "match discount_value:\n",
    "    case 0:\n",
    "        print('No discount')\n",
    "    case x if 0 < x <= 99:\n",
    "        print(f'Within allowed range: {x}%')\n",
    "        product.reduce_price(discount_value)\n",
    "    case x if x <= 0:\n",
    "        print('Discount value is negative')\n",
    "    case x if 99 < x <= 100:\n",
    "        print('Discount value is too high')\n",
    "    case _:\n",
    "        print('Price will be negative')\n"
   ]
  },
  {
   "cell_type": "markdown",
   "metadata": {},
   "source": [
    "### Listing 4-6"
   ]
  },
  {
   "cell_type": "code",
   "execution_count": null,
   "metadata": {},
   "outputs": [],
   "source": [
    "product = Product('K01', 'cube', 1000)\n",
    "discount_value = int(input('Amount of the discount (in %)?'))\n",
    "while not 0 < discount_value <= 99:\n",
    "    print('Discount abount is too low or too high')\n",
    "    discount_value = int(input('Amount of the discount (in %)?'))\n",
    "product.reduce_price(discount_value)"
   ]
  },
  {
   "cell_type": "markdown",
   "metadata": {},
   "source": [
    "### Listing 4-7"
   ]
  },
  {
   "cell_type": "code",
   "execution_count": null,
   "metadata": {},
   "outputs": [],
   "source": [
    "product = Product('K01', 'cube', 1000)\n",
    "read_next = True\n",
    "while read_next:\n",
    "    discount_value = int(input('Amount of the discount (in %)?'))\n",
    "    if 0 < discount_value <= 99:\n",
    "        read_next = False\n",
    "    else:\n",
    "        print('Discount abount is too low or too high')\n",
    "product.reduce_price(discount_value)"
   ]
  },
  {
   "cell_type": "markdown",
   "metadata": {},
   "source": [
    "### Listing 4-8"
   ]
  },
  {
   "cell_type": "code",
   "execution_count": null,
   "metadata": {},
   "outputs": [],
   "source": [
    "product = Product('K01', 'cube', 1000)\n",
    "while not 0 < (discount_value \n",
    "        := int(input('Amount of the discount (in %)?'))) <= 99:\n",
    "    print('Discount abount is too low or too high')\n",
    "product.reduce_price(discount_value)"
   ]
  },
  {
   "cell_type": "markdown",
   "metadata": {},
   "source": [
    "### Listing 4-9"
   ]
  },
  {
   "cell_type": "code",
   "execution_count": null,
   "metadata": {},
   "outputs": [],
   "source": [
    "product = Product('K01', 'cube', 1000)\n",
    "while True:\n",
    "    discount_value = int(input('Amount of the discount (in %)?'))\n",
    "    if 0 < discount_value <= 99:\n",
    "        break\n",
    "    else:\n",
    "        print('Discount abount is too low or too high')\n",
    "product.reduce_price(discount_value)"
   ]
  },
  {
   "cell_type": "markdown",
   "metadata": {},
   "source": [
    "### Listing 4-10"
   ]
  },
  {
   "cell_type": "code",
   "execution_count": null,
   "metadata": {},
   "outputs": [],
   "source": [
    "product = Product('K01', 'cube', 1000)\n",
    "while True:\n",
    "    discount_value = int(input('Amount of the discount (in %)?'))\n",
    "    if discount_value <= 0:\n",
    "        print('Discount abount is too low')\n",
    "        continue\n",
    "    if discount_value > 99:\n",
    "        print('Discount abount is too high')\n",
    "        continue\n",
    "    break\n",
    "        \n",
    "product.reduce_price(discount_value)"
   ]
  },
  {
   "cell_type": "markdown",
   "metadata": {},
   "source": [
    "### Listing 4-11"
   ]
  },
  {
   "cell_type": "code",
   "execution_count": null,
   "metadata": {},
   "outputs": [],
   "source": [
    "product = Product('K01', 'cube', 1000)\n",
    "probak = 0\n",
    "while probak < 3:\n",
    "    discount_value = int(input('Amount of the discount (in %)?'))\n",
    "    if 0 < discount_value <= 99:\n",
    "        break\n",
    "    else:\n",
    "        print('Discount abount is too low or too high')\n",
    "    probak += 1\n",
    "else:\n",
    "    print('No more try')\n",
    "    discount_value = 0\n",
    "product.reduce_price(discount_value)"
   ]
  },
  {
   "cell_type": "markdown",
   "metadata": {},
   "source": [
    "### Listing 4-12"
   ]
  },
  {
   "cell_type": "code",
   "execution_count": null,
   "metadata": {},
   "outputs": [],
   "source": [
    "for discount_value in range(10):\n",
    "    product = Product('K01', 'cube', 1000)\n",
    "    product.reduce_price(discount_value)\n",
    "    print('Cost of the product:', product.price)"
   ]
  },
  {
   "cell_type": "markdown",
   "metadata": {},
   "source": [
    "### Listing 4-13"
   ]
  },
  {
   "cell_type": "code",
   "execution_count": null,
   "metadata": {},
   "outputs": [],
   "source": [
    "for discount_value in range(1,11):\n",
    "    product = Product('K01', 'cube', 1000)\n",
    "    product.reduce_price(discount_value)\n",
    "    print('Cost of the product:', product.price)"
   ]
  },
  {
   "cell_type": "markdown",
   "metadata": {},
   "source": [
    "### Listing 4-14"
   ]
  },
  {
   "cell_type": "code",
   "execution_count": null,
   "metadata": {},
   "outputs": [],
   "source": [
    "for discount_value in range(1,11, 2):\n",
    "    product = Product('K01', 'cube', 1000)\n",
    "    product.reduce_price(discount_value)\n",
    "    print('Cost of the product:', product.price)"
   ]
  },
  {
   "cell_type": "markdown",
   "metadata": {},
   "source": [
    "### Listing 4-15"
   ]
  },
  {
   "cell_type": "code",
   "execution_count": null,
   "metadata": {},
   "outputs": [],
   "source": [
    "TOO_LOW_PRICE = 900\n",
    "for discount_value in range(10):\n",
    "    product = Product('K01', 'cube', 1000)\n",
    "    product.reduce_price(discount_value)\n",
    "    if product.price < TOO_LOW_PRICE:\n",
    "        break\n",
    "    print('Cost of the product:', product.price)\n",
    "else:\n",
    "    print('All discount values are acceptable')"
   ]
  },
  {
   "cell_type": "markdown",
   "metadata": {},
   "source": [
    "### Listing 4-16"
   ]
  },
  {
   "cell_type": "code",
   "execution_count": null,
   "metadata": {},
   "outputs": [],
   "source": [
    "try:\n",
    "    discount_value = int(input('Amount of the discount (in %)?'))\n",
    "except ValueError as e:\n",
    "    print(f'Error: {e}')\n",
    "    discount_value = 0"
   ]
  },
  {
   "cell_type": "markdown",
   "metadata": {},
   "source": [
    "### Listing 4-17"
   ]
  },
  {
   "cell_type": "code",
   "execution_count": null,
   "metadata": {},
   "outputs": [],
   "source": [
    "try:\n",
    "    discount_value = int(input('Amount of the discount (in %)?'))\n",
    "except ValueError as e:\n",
    "    print(f'Error converting the input: {e}')\n",
    "    discount_value = 0\n",
    "except Exception as e:\n",
    "    print(f'Error: {e}')\n",
    "    discount_value = 0\n",
    "else:\n",
    "    print(f'The input value is a valid integer')\n",
    "finally:\n",
    "    print(f'The amount of discount will be {discount_value}')"
   ]
  },
  {
   "cell_type": "markdown",
   "metadata": {},
   "source": [
    "### Listing 4-18"
   ]
  },
  {
   "cell_type": "code",
   "execution_count": null,
   "metadata": {},
   "outputs": [],
   "source": [
    "def lediscountzas(product):\n",
    "    try:\n",
    "        bemenet = input('Amount of the discount (in %)?')\n",
    "        discount_value = int(bemenet)\n",
    "    except ValueError as e:\n",
    "        raise ValueError('Not an integer')\n",
    "    if discount_value > 0 and discount_value <= 99:\n",
    "        product.reduce_price(discount_value)\n",
    "    else:\n",
    "        raise ValueError('Discount abount is too low or too high')\n",
    "try:\n",
    "    product = Product('K01', 'cube', 1000)\n",
    "    lediscountzas(product)\n",
    "except ValueError as e:\n",
    "    print('Modification is failed for the following reason:', e.message)"
   ]
  },
  {
   "cell_type": "markdown",
   "metadata": {},
   "source": [
    "### Listing 4-19"
   ]
  },
  {
   "cell_type": "code",
   "execution_count": null,
   "metadata": {},
   "outputs": [],
   "source": [
    "with open('orders.txt', 'w') as orders_doc:\n",
    "    orders_doc.write('Orders:')"
   ]
  },
  {
   "cell_type": "markdown",
   "metadata": {},
   "source": [
    "### Listing 4-20"
   ]
  },
  {
   "cell_type": "code",
   "execution_count": null,
   "metadata": {
    "scrolled": true
   },
   "outputs": [],
   "source": [
    "def how_many(single_pass_value, total_value, \n",
    "             actual_value=None, count=0):\n",
    "    print(actual_value, count)\n",
    "    if actual_value is None:\n",
    "        actual_value = single_pass_value\n",
    "    if actual_value>=total_value:\n",
    "        return count\n",
    "    else:\n",
    "        return how_many(single_pass_value, total_value, \n",
    "                        actual_value*single_pass_value, count+1)\n",
    "print(how_many(1.1, 1.5))"
   ]
  },
  {
   "cell_type": "markdown",
   "metadata": {},
   "source": [
    "### Listing 4-21"
   ]
  },
  {
   "cell_type": "code",
   "execution_count": null,
   "metadata": {},
   "outputs": [],
   "source": [
    "product = Product('K01', 'cube', 1000)\n",
    "read_next = True\n",
    "while read_next:\n",
    "    # Stop condition: we assume that once\n",
    "    # a valid diccount value will be specified\n",
    "    # Invariant: 0 < discount_value <= 99 \n",
    "    #            or read_next\n",
    "    discount_value = int(input('Amount of the discount (in %)?'))\n",
    "    if 0 < discount_value <= 99:\n",
    "        read_next = False\n",
    "    else:\n",
    "        print('Discount value to high/low')\n",
    "product.reduce_price(discount_value)"
   ]
  },
  {
   "cell_type": "markdown",
   "metadata": {},
   "source": [
    "### Listing 4-22"
   ]
  },
  {
   "cell_type": "code",
   "execution_count": null,
   "metadata": {},
   "outputs": [],
   "source": [
    "product = Product('K01', 'cube', 1000)\n",
    "read_next = True\n",
    "attempts = 1\n",
    "while read_next:\n",
    "    # Stop condition: will terminate after 3 attempts in worst case\n",
    "    # Invariant: 0 < discount_value <= 99 \n",
    "    #            or read_next\n",
    "    discount_value = int(input('Amount of the discount (in %)?'))\n",
    "    if 0 < discount_value <= 99:\n",
    "        read_next = False\n",
    "    else:\n",
    "        print('Discount value to high/low')\n",
    "        if attempts >= 3:\n",
    "            raise ValueError('No valid discount value after 3 attempt')\n",
    "        attempts += 1\n",
    "product.reduce_price(discount_value)"
   ]
  },
  {
   "cell_type": "markdown",
   "metadata": {},
   "source": [
    "### Listing 4-23"
   ]
  },
  {
   "cell_type": "code",
   "execution_count": null,
   "metadata": {},
   "outputs": [],
   "source": [
    "class Product:\n",
    "    __match_args__ = (\"code\", \"name\", \"price\")\n",
    "    def __init__(self, code, name, price):\n",
    "        self.code = code\n",
    "        self.name = name\n",
    "        self.price = price\n",
    "        self.old_price = price\n",
    "    \n",
    "product = Product('K01', 'cube', 1000)\n",
    "product.name = input('Default name?')\n",
    "product.price = int(input('Default price?'))\n",
    "match product:\n",
    "    case Product('K01', 'cube', 1000):\n",
    "        print('No changes')\n",
    "    case Product('K01', name, 1000):\n",
    "        print('Has new name')\n",
    "    case Product('K01', 'cube', value):\n",
    "        print('Same old name, but different price:', value)\n",
    "    case Product('K01', name, value):\n",
    "        print('Everything has changed')  "
   ]
  },
  {
   "cell_type": "markdown",
   "metadata": {},
   "source": [
    "### Listing 4-24"
   ]
  },
  {
   "cell_type": "code",
   "execution_count": null,
   "metadata": {},
   "outputs": [],
   "source": [
    "default_product_values = ['K01', 'cube', 1000]\n",
    "default_product_values[1] = input('Default name?')\n",
    "default_product_values[2] = int(input('Default price?'))\n",
    "match default_product_values:\n",
    "    case ['K01', 'cube', 1000]:\n",
    "        print('No changes')\n",
    "    case ['K01', name, 1000]:\n",
    "        print('Has new name')\n",
    "    case ['K01', 'cube', value]:\n",
    "        print('Same old name, but different price:', value)\n",
    "    case ['K01', name, value]:\n",
    "        print('everything is changed')"
   ]
  },
  {
   "cell_type": "markdown",
   "metadata": {},
   "source": [
    "### Listing 4-25"
   ]
  },
  {
   "cell_type": "code",
   "execution_count": null,
   "metadata": {},
   "outputs": [],
   "source": [
    "default_product_values = {'id': 'K01', 'name': 'cube', 'price': 1000}\n",
    "default_product_values['name'] = input('Default name?')\n",
    "default_product_values['price'] = int(input('Default price?'))\n",
    "match default_product_values:\n",
    "    case {'id': 'K01', 'name': 'cube', 'price': 1000}:\n",
    "        print('No changes')\n",
    "    case {'id': 'K01', 'name': name, 'price': 1000}:\n",
    "        print('Has new name')\n",
    "    case {'id': 'K01', 'name': 'cube', 'price': value}:\n",
    "        print('Same old name, but different price:', value)\n",
    "    case {'id': 'K01', 'name': name, 'price': value}:\n",
    "        print('everything is changed')    "
   ]
  },
  {
   "cell_type": "markdown",
   "metadata": {},
   "source": [
    "### Listing 4-26"
   ]
  },
  {
   "cell_type": "code",
   "execution_count": null,
   "metadata": {},
   "outputs": [],
   "source": [
    "class ProductCodeError(Exception):\n",
    "    def __init__(self, code):\n",
    "        self.code = code\n",
    "        self.message = f'Code {code} does not exists'\n",
    "        super().__init__(self.message)"
   ]
  },
  {
   "cell_type": "markdown",
   "metadata": {},
   "source": [
    "### Listing 4-27"
   ]
  },
  {
   "cell_type": "code",
   "execution_count": null,
   "metadata": {},
   "outputs": [],
   "source": [
    "try:\n",
    "    raise ProductCodeError('B1')\n",
    "except ProductCodeError as e:\n",
    "    print(f'Error: {e}')"
   ]
  },
  {
   "cell_type": "markdown",
   "metadata": {
    "tags": []
   },
   "source": [
    "### Listing 4-28"
   ]
  },
  {
   "cell_type": "code",
   "execution_count": null,
   "metadata": {},
   "outputs": [],
   "source": [
    "class PriceReductionTry:\n",
    "    def __init__(self, product):\n",
    "        self.product = product\n",
    "\n",
    "    def __enter__(self):\n",
    "        self.price = self.product.price\n",
    "        self.old_price = self.product.old_price\n",
    "        return self.product\n",
    "        \n",
    "    def __exit__(self, exc_type, exc_val, exc_tb):\n",
    "        self.product.price = self.price\n",
    "        self.product.old_price = self.old_price\n",
    "\n",
    "sub_cube = Product('T01', 'Substitute cube', 300)\n",
    "with PriceReductionTry(sub_cube):\n",
    "    sub_cube.reduce_price(20)\n",
    "    print(sub_cube)\n",
    "print(sub_cube)"
   ]
  },
  {
   "cell_type": "markdown",
   "metadata": {
    "tags": []
   },
   "source": [
    "### Listing 4-29"
   ]
  },
  {
   "cell_type": "code",
   "execution_count": null,
   "metadata": {},
   "outputs": [],
   "source": [
    "eval('5000 * 2 + 2000')"
   ]
  },
  {
   "cell_type": "code",
   "execution_count": null,
   "metadata": {},
   "outputs": [],
   "source": []
  }
 ],
 "metadata": {
  "kernelspec": {
   "display_name": "Python 3 (ipykernel)",
   "language": "python",
   "name": "python3"
  },
  "language_info": {
   "codemirror_mode": {
    "name": "ipython",
    "version": 3
   },
   "file_extension": ".py",
   "mimetype": "text/x-python",
   "name": "python",
   "nbconvert_exporter": "python",
   "pygments_lexer": "ipython3",
   "version": "3.10.4"
  }
 },
 "nbformat": 4,
 "nbformat_minor": 4
}
