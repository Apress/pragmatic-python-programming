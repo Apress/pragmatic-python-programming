{
 "cells": [
  {
   "cell_type": "markdown",
   "metadata": {},
   "source": [
    "## The sequence"
   ]
  },
  {
   "cell_type": "code",
   "execution_count": null,
   "metadata": {},
   "outputs": [],
   "source": [
    "class Product:\n",
    "    def __init__(self, code, name, price):\n",
    "        self.code = code\n",
    "        self.name = name\n",
    "        self.price = price\n",
    "        self.old_price = price\n",
    "        \n",
    "    def reduce_price(self, percentage):\n",
    "        self.old_price = self.price\n",
    "        new_price = self.price * (1 - percentage/100)\n",
    "        self.price = round(new_price)\n",
    "        \n",
    "    def __str__(self):\n",
    "        return (f'{self.name} ({self.code}): '\n",
    "                + f'{self.old_price}=>{self.price}')\n",
    "\n",
    "    def __repr__(self):\n",
    "        return (f'<Product code={self.code}, '\n",
    "                + f'name={self.name}, '\n",
    "                + f'price={self.price}, '\n",
    "                + f'old price={self.old_price}>')\n",
    "    \n",
    "    def __eq__(self, other):\n",
    "        if isinstance(other, self.__class__):\n",
    "            return (self.code == other.code)\n",
    "        return False"
   ]
  },
  {
   "cell_type": "markdown",
   "metadata": {},
   "source": [
    "### Listing 5-1"
   ]
  },
  {
   "cell_type": "code",
   "execution_count": null,
   "metadata": {},
   "outputs": [],
   "source": [
    "product_names = ['cube', 'small cube', 'tiny cube', \n",
    "                 'large cube', 'XL cube']"
   ]
  },
  {
   "cell_type": "markdown",
   "metadata": {},
   "source": [
    "### Listing 5-2"
   ]
  },
  {
   "cell_type": "code",
   "execution_count": null,
   "metadata": {},
   "outputs": [],
   "source": [
    "products = [Product('K1', 'cube', 1000), \n",
    "            Product('K2', 'small cube', 500),\n",
    "            Product('K3', 'tiny cube', 50),\n",
    "            Product('K4', 'large cube', 1500),\n",
    "            Product('K5', 'XL cube', 5000)]"
   ]
  },
  {
   "cell_type": "markdown",
   "metadata": {},
   "source": [
    "### Listing 5-3"
   ]
  },
  {
   "cell_type": "code",
   "execution_count": null,
   "metadata": {},
   "outputs": [],
   "source": [
    "mixed_list = [\n",
    "    1, \n",
    "    'cube', \n",
    "    Product('K1', 'cube', 1000)\n",
    "]"
   ]
  },
  {
   "cell_type": "markdown",
   "metadata": {},
   "source": [
    "### Listing 5-4"
   ]
  },
  {
   "cell_type": "code",
   "execution_count": null,
   "metadata": {},
   "outputs": [],
   "source": [
    "print('First element:', product_names[0])\n",
    "print('Second element:', product_names[1])\n",
    "print('Fifth element:', product_names[4])"
   ]
  },
  {
   "cell_type": "markdown",
   "metadata": {},
   "source": [
    "### Listing 5-5"
   ]
  },
  {
   "cell_type": "code",
   "execution_count": null,
   "metadata": {},
   "outputs": [],
   "source": [
    "print('Last element:', product_names[-1])\n",
    "print('Fifth element from the end:', product_names[-5])"
   ]
  },
  {
   "cell_type": "markdown",
   "metadata": {},
   "source": [
    "### Listing 5-6"
   ]
  },
  {
   "cell_type": "code",
   "execution_count": null,
   "metadata": {},
   "outputs": [],
   "source": [
    "print('Elements from the index 0 to the index 2:', product_names[0:3])\n",
    "print('Elements from the beginning to the index 2:', product_names[:3])\n",
    "print('Elements from the index 2 to the end:', product_names[2:])"
   ]
  },
  {
   "cell_type": "markdown",
   "metadata": {},
   "source": [
    "### Listing 5-7"
   ]
  },
  {
   "cell_type": "code",
   "execution_count": null,
   "metadata": {},
   "outputs": [],
   "source": [
    "print('Every second elements from the index 1 to index 3:', product_names[1:4:2])\n",
    "print('Every second elements reversed from the index 3 to index 1:', product_names[3:0:-2])\n",
    "print('All of the elements:', product_names[:])"
   ]
  },
  {
   "cell_type": "markdown",
   "metadata": {},
   "source": [
    "### Listing 5-8"
   ]
  },
  {
   "cell_type": "code",
   "execution_count": null,
   "metadata": {},
   "outputs": [],
   "source": [
    "print('The product names list:', product_names)\n",
    "print('Length of the products list:', len(product_names))\n",
    "product_names.append('pluss cube')\n",
    "product_names.extend(['cube v2.0', 'cube v3.0'])\n",
    "print('The list after the inplace modification:', product_names)\n",
    "print('The concatenated lists:', product_names + ['CUBE 4++'])\n",
    "print('The product names list:', product_names)"
   ]
  },
  {
   "cell_type": "markdown",
   "metadata": {},
   "source": [
    "### Listing 5-9"
   ]
  },
  {
   "cell_type": "code",
   "execution_count": null,
   "metadata": {},
   "outputs": [],
   "source": [
    "print('The product names list:', product_names)\n",
    "del product_names[0]\n",
    "product_names.remove('cube v2.0')\n",
    "print('The product names list:', product_names)"
   ]
  },
  {
   "cell_type": "markdown",
   "metadata": {},
   "source": [
    "### Listing 5-10"
   ]
  },
  {
   "cell_type": "code",
   "execution_count": null,
   "metadata": {
    "tags": []
   },
   "outputs": [],
   "source": [
    "print('Products for sale:')\n",
    "for product in products:\n",
    "    print(product)"
   ]
  },
  {
   "cell_type": "markdown",
   "metadata": {},
   "source": [
    "### Listing 5-11"
   ]
  },
  {
   "cell_type": "code",
   "execution_count": null,
   "metadata": {},
   "outputs": [],
   "source": [
    "product_name_groups = [\n",
    "    ['small cube', 'tiny cube'], \n",
    "    ['cube'], \n",
    "    ['large cube', 'XL cube'],\n",
    "]\n",
    "print('First group:', product_name_groups[0])\n",
    "print('First element of the first group:', \n",
    "      product_name_groups[0][0])\n",
    "product_name_groups[1].append(\"Cube M+\")\n",
    "print('2nd group:', product_name_groups[1])\n",
    "print('First and second elements of the 2nd group:', \n",
    "      product_name_groups[1][0], 'and',\n",
    "      product_name_groups[1][1])"
   ]
  },
  {
   "cell_type": "markdown",
   "metadata": {},
   "source": [
    "### Listing 5-12"
   ]
  },
  {
   "cell_type": "code",
   "execution_count": null,
   "metadata": {},
   "outputs": [],
   "source": [
    "names = []\n",
    "for product in products:\n",
    "    names.append(product.name)\n",
    "names_v2 = [product.name for product in products]\n",
    "print(names, names_v2)"
   ]
  },
  {
   "cell_type": "markdown",
   "metadata": {},
   "source": [
    "### Listing 5-13"
   ]
  },
  {
   "cell_type": "code",
   "execution_count": null,
   "metadata": {},
   "outputs": [],
   "source": [
    "[p.name for p in products]"
   ]
  },
  {
   "cell_type": "markdown",
   "metadata": {},
   "source": [
    "### Listing 5-14"
   ]
  },
  {
   "cell_type": "code",
   "execution_count": null,
   "metadata": {
    "scrolled": true
   },
   "outputs": [],
   "source": [
    "[p.name for p in products \n",
    "       if p.price >= 1000]"
   ]
  },
  {
   "cell_type": "markdown",
   "metadata": {},
   "source": [
    "### Listing 5-15"
   ]
  },
  {
   "cell_type": "code",
   "execution_count": null,
   "metadata": {},
   "outputs": [],
   "source": [
    "[(p.name, p2.name) for p in products \n",
    "                 for p2 in products \n",
    "                 if p.price < p2.price]"
   ]
  },
  {
   "cell_type": "markdown",
   "metadata": {},
   "source": [
    "### Listing 5-16"
   ]
  },
  {
   "cell_type": "code",
   "execution_count": null,
   "metadata": {},
   "outputs": [],
   "source": [
    "print('All names contains \"cube\":', \n",
    "      all(['cube' in p.name for p in products]))\n",
    "print('Any names contains \"cube\":', \n",
    "      any(['cube' in p.name for p in products]))"
   ]
  },
  {
   "cell_type": "markdown",
   "metadata": {},
   "source": [
    "### Listing 5-17"
   ]
  },
  {
   "cell_type": "code",
   "execution_count": null,
   "metadata": {},
   "outputs": [],
   "source": [
    "print('Highest price:',\n",
    "      max([p.price for p in products]))\n",
    "print('Lowest price:',\n",
    "      min([p.price for p in products]))\n",
    "print('Avarage price:',\n",
    "      sum([p.price for p in products])/len(products))"
   ]
  },
  {
   "cell_type": "markdown",
   "metadata": {},
   "source": [
    "### Listing 5-18"
   ]
  },
  {
   "cell_type": "code",
   "execution_count": null,
   "metadata": {
    "scrolled": true
   },
   "outputs": [],
   "source": [
    "for i, p in enumerate(products, start=1):\n",
    "    print(i, p.name)\n",
    "for p1, p2 in zip(products, products[1:]):\n",
    "    print(abs(p1.price-p2.price), p1.name, \n",
    "          '<' if p1.price < p2.price else '>', p2.name)"
   ]
  },
  {
   "cell_type": "markdown",
   "metadata": {},
   "source": [
    "### Listing 5-19"
   ]
  },
  {
   "cell_type": "code",
   "execution_count": null,
   "metadata": {},
   "outputs": [],
   "source": [
    "products_fix = (Product('K1', 'cube', 1000), \n",
    "                Product('K2', 'small cube', 500))"
   ]
  },
  {
   "cell_type": "markdown",
   "metadata": {},
   "source": [
    "### Listing 5-20"
   ]
  },
  {
   "cell_type": "code",
   "execution_count": null,
   "metadata": {},
   "outputs": [],
   "source": [
    "products_fix2 = Product('K1', 'cube', 1000), \\\n",
    "                Product('K2', 'small cube', 500)"
   ]
  },
  {
   "cell_type": "markdown",
   "metadata": {},
   "source": [
    "### Listing 5-21"
   ]
  },
  {
   "cell_type": "code",
   "execution_count": null,
   "metadata": {},
   "outputs": [],
   "source": [
    "products_fix2[0]"
   ]
  },
  {
   "cell_type": "markdown",
   "metadata": {},
   "source": [
    "### Listing 5-22"
   ]
  },
  {
   "cell_type": "code",
   "execution_count": null,
   "metadata": {},
   "outputs": [],
   "source": [
    "k1, k2 = products_fix\n",
    "k1, k2, *k_rest = products"
   ]
  },
  {
   "cell_type": "markdown",
   "metadata": {},
   "source": [
    "### Listing 5-23"
   ]
  },
  {
   "cell_type": "code",
   "execution_count": null,
   "metadata": {},
   "outputs": [],
   "source": [
    "codes = {'K1': Product('K1', 'cube', 1000), \n",
    "         'K2': Product('K2', 'small cube', 500),\n",
    "         'K3': Product('K3', 'tiny cube', 50),\n",
    "         'K4': Product('K4', 'large cube', 1500),\n",
    "         'K5': Product('K5', 'XL cube', 5000)}"
   ]
  },
  {
   "cell_type": "markdown",
   "metadata": {},
   "source": [
    "### Listing 5-24"
   ]
  },
  {
   "cell_type": "code",
   "execution_count": null,
   "metadata": {},
   "outputs": [],
   "source": [
    "codes['K1']"
   ]
  },
  {
   "cell_type": "markdown",
   "metadata": {},
   "source": [
    "### Listing 5-25"
   ]
  },
  {
   "cell_type": "code",
   "execution_count": null,
   "metadata": {},
   "outputs": [],
   "source": [
    "codes['K2'] = Product('K2', 'mini cube', 600)\n",
    "codes['K6'] = Product('K6', '+ cube', 1000)"
   ]
  },
  {
   "cell_type": "markdown",
   "metadata": {},
   "source": [
    "### Listing 5-26"
   ]
  },
  {
   "cell_type": "code",
   "execution_count": null,
   "metadata": {},
   "outputs": [],
   "source": [
    "new_codes = {'K1': Product('K1', 'starter cube', 900),\n",
    "             'K10': Product('K10', 'premium cube', 90000)}\n",
    "codes | new_codes"
   ]
  },
  {
   "cell_type": "markdown",
   "metadata": {},
   "source": [
    "### Listing 5-27"
   ]
  },
  {
   "cell_type": "code",
   "execution_count": null,
   "metadata": {},
   "outputs": [],
   "source": [
    "codes.update({\n",
    "    'K7': Product('K7', 'cube v2.0', 2000), \n",
    "    'K8': Product('K8', 'cube v3.0', 2900)\n",
    "})\n",
    "codes |= ({\n",
    "    'K17': Product('K17', 'cube v12.0', 12000), \n",
    "    'K18': Product('K18', 'cube v13.0', 12900)\n",
    "})"
   ]
  },
  {
   "cell_type": "markdown",
   "metadata": {},
   "source": [
    "### Listing 5-28"
   ]
  },
  {
   "cell_type": "code",
   "execution_count": null,
   "metadata": {},
   "outputs": [],
   "source": [
    "for k in codes.keys():\n",
    "    codes[k].reduce_price(3)\n",
    "    print(f\"New price of the product with {k} code is {codes[k].price}\")"
   ]
  },
  {
   "cell_type": "markdown",
   "metadata": {},
   "source": [
    "### Listing 5-29"
   ]
  },
  {
   "cell_type": "code",
   "execution_count": null,
   "metadata": {},
   "outputs": [],
   "source": [
    "for p in codes.values():\n",
    "    p.reduce_price(3)\n",
    "    print(f\"New price of the product with {p.code} code is {p.price}\")"
   ]
  },
  {
   "cell_type": "markdown",
   "metadata": {},
   "source": [
    "### Listing 5-30"
   ]
  },
  {
   "cell_type": "code",
   "execution_count": null,
   "metadata": {},
   "outputs": [],
   "source": [
    "for k, p in codes.items():\n",
    "    p.reduce_price(3)\n",
    "    print(f\"New price of the product with {k} code is {p.price}\")"
   ]
  },
  {
   "cell_type": "markdown",
   "metadata": {},
   "source": [
    "### Listing 5-31"
   ]
  },
  {
   "cell_type": "code",
   "execution_count": null,
   "metadata": {},
   "outputs": [],
   "source": [
    "{p.code: p.name for p in products}"
   ]
  },
  {
   "cell_type": "markdown",
   "metadata": {},
   "source": [
    "### Listing 5-32"
   ]
  },
  {
   "cell_type": "code",
   "execution_count": null,
   "metadata": {},
   "outputs": [],
   "source": [
    "SIZES = {'LARGE', 'SMALL'}\n",
    "OTHER = {'DISCOUNTED', 'LASTONES'}\n",
    "THE_PRODUCT = {'LARGE', 'DISCOUNTED'}"
   ]
  },
  {
   "cell_type": "markdown",
   "metadata": {},
   "source": [
    "### Listing 5-33"
   ]
  },
  {
   "cell_type": "code",
   "execution_count": null,
   "metadata": {},
   "outputs": [],
   "source": [
    "labels = SIZES | OTHER\n",
    "the_size = THE_PRODUCT & SIZES\n",
    "print(the_size)\n",
    "opposite = labels - THE_PRODUCT\n",
    "print(opposite)"
   ]
  },
  {
   "cell_type": "markdown",
   "metadata": {},
   "source": [
    "### Listing 5-34"
   ]
  },
  {
   "cell_type": "code",
   "execution_count": null,
   "metadata": {},
   "outputs": [],
   "source": [
    "labels = SIZES.union(OTHER)\n",
    "the_size = THE_PRODUCT.intersection(SIZES)\n",
    "print(the_size)\n",
    "opposite = labels.difference(THE_PRODUCT)\n",
    "print(opposite)"
   ]
  },
  {
   "cell_type": "markdown",
   "metadata": {},
   "source": [
    "### Listing 5-35"
   ]
  },
  {
   "cell_type": "code",
   "execution_count": null,
   "metadata": {},
   "outputs": [],
   "source": [
    "categories = {\n",
    "    frozenset({'DISCOUNTED', 'SMALL'}),\n",
    "    frozenset({'DISCOUNTED', 'LARGE'}),\n",
    "    frozenset({'LARGE'}),\n",
    "    frozenset({'SMALL'}),\n",
    "    frozenset()}\n",
    "frozenset({'LARGE', 'DISCOUNTED'}) in categories"
   ]
  },
  {
   "cell_type": "markdown",
   "metadata": {},
   "source": [
    "### Listing 5-36"
   ]
  },
  {
   "cell_type": "code",
   "execution_count": null,
   "metadata": {},
   "outputs": [],
   "source": [
    "a = ['S cube', 'M cube', 'L cube']\n",
    "b = a\n",
    "c = list(a)\n",
    "d = a[:]\n",
    "\n",
    "print('Do a and b reference to the same object?', a is b)\n",
    "print('Do b and c reference to the same object?', a is c)\n",
    "print('Do a and d reference to the same object?', a is d)"
   ]
  },
  {
   "cell_type": "markdown",
   "metadata": {},
   "source": [
    "### Listing 5-37"
   ]
  },
  {
   "cell_type": "code",
   "execution_count": null,
   "metadata": {},
   "outputs": [],
   "source": [
    "orig_names = [['XS cube', 'S cube'], 'M cube', ['L cube', 'XL cube']]\n",
    "copied_names = orig_names[:]\n",
    "orig_names.append('+ cube')\n",
    "orig_names[2].append('XXL cube')\n",
    "\n",
    "print('Original list:', orig_names)\n",
    "print('Copied list:', copied_names)"
   ]
  },
  {
   "cell_type": "markdown",
   "metadata": {},
   "source": [
    "### Listing 5-38"
   ]
  },
  {
   "cell_type": "code",
   "execution_count": null,
   "metadata": {},
   "outputs": [],
   "source": [
    "# unordered positive integers\n",
    "daily_sales = [1, 2, 4, 7]\n",
    "# monotonically increasing positive integers\n",
    "cummulative_daily_sales = [1, 3, 7, 14]\n",
    "# unordered signed integers\n",
    "changes_in_daily_sales = [1, 1, 2, 3]"
   ]
  },
  {
   "cell_type": "markdown",
   "metadata": {},
   "source": [
    "### Listing 5-39"
   ]
  },
  {
   "cell_type": "code",
   "execution_count": null,
   "metadata": {},
   "outputs": [],
   "source": [
    "class Items:\n",
    "    class Item_iter:\n",
    "        def __init__(self, item):\n",
    "            self.i=iter(item)\n",
    "        def __iter__(self):\n",
    "            return self\n",
    "        def __next__(self):\n",
    "            return next(self.i)\n",
    "        \n",
    "    def __init__(self, items):\n",
    "        self.items = list(items)\n",
    "        \n",
    "    def __iter__(self):\n",
    "        return Items.Item_iter(self.items)"
   ]
  },
  {
   "cell_type": "markdown",
   "metadata": {},
   "source": [
    "### Listing 5-40"
   ]
  },
  {
   "cell_type": "code",
   "execution_count": null,
   "metadata": {},
   "outputs": [],
   "source": [
    "items = Items(('K1', 'K2', 'K3'))\n",
    "for item in items:\n",
    "    print(item)"
   ]
  },
  {
   "cell_type": "markdown",
   "metadata": {},
   "source": [
    "### Listing 5-41"
   ]
  },
  {
   "cell_type": "code",
   "execution_count": null,
   "metadata": {},
   "outputs": [],
   "source": [
    "item_iter = iter(items)\n",
    "print(next(item_iter))\n",
    "print(next(item_iter))\n",
    "print(next(item_iter))\n",
    "print(next(item_iter))"
   ]
  },
  {
   "cell_type": "markdown",
   "metadata": {},
   "source": [
    "### Listing 5-42"
   ]
  },
  {
   "cell_type": "code",
   "execution_count": null,
   "metadata": {},
   "outputs": [],
   "source": [
    "from copy import copy, deepcopy\n",
    "orig_names = [['XS cube', 'S cube'], 'M cube', ['L cube', 'XL cube']]\n",
    "shallow_copied_names = copy(orig_names)\n",
    "deep_copied_names = deepcopy(orig_names)\n",
    "orig_names.append('+ cube')\n",
    "orig_names[2].append('XXL cube')\n",
    "\n",
    "print('Original list:', orig_names)\n",
    "print('Shallow copied list:', shallow_copied_names)\n",
    "print('Deep copied list:', deep_copied_names)"
   ]
  },
  {
   "cell_type": "markdown",
   "metadata": {},
   "source": [
    "### Listing 5-43"
   ]
  },
  {
   "cell_type": "code",
   "execution_count": null,
   "metadata": {},
   "outputs": [],
   "source": [
    "def discount_price():\n",
    "    for discount_value in range(10):\n",
    "        product = Product('K01', 'cube', 1000)\n",
    "        product.reduce_price(discount_value)\n",
    "        yield product.price\n",
    "        \n",
    "for price in discount_price():\n",
    "    print(price)"
   ]
  },
  {
   "cell_type": "markdown",
   "metadata": {},
   "source": [
    "### Listing 5-44"
   ]
  },
  {
   "cell_type": "code",
   "execution_count": null,
   "metadata": {},
   "outputs": [],
   "source": [
    "((p.code, p.name) for p in products)"
   ]
  },
  {
   "cell_type": "markdown",
   "metadata": {},
   "source": [
    "### Listing 5-45"
   ]
  },
  {
   "cell_type": "code",
   "execution_count": null,
   "metadata": {},
   "outputs": [],
   "source": [
    "def discount_price():\n",
    "    product = Product('K01', 'cube', 1000)\n",
    "    discount_value = 0\n",
    "    while True:\n",
    "        product.reduce_price(discount_value)\n",
    "        discount_value = yield product.price\n",
    "        if discount_value is None:\n",
    "            return"
   ]
  },
  {
   "cell_type": "markdown",
   "metadata": {},
   "source": [
    "### Listing 5-46"
   ]
  },
  {
   "cell_type": "code",
   "execution_count": null,
   "metadata": {},
   "outputs": [],
   "source": [
    "(list(filter(lambda p: p.price >= 1000, products)),\n",
    "list(map(lambda p: p.name, products)))"
   ]
  },
  {
   "cell_type": "code",
   "execution_count": null,
   "metadata": {},
   "outputs": [],
   "source": []
  }
 ],
 "metadata": {
  "kernelspec": {
   "display_name": "Python 3 (ipykernel)",
   "language": "python",
   "name": "python3"
  },
  "language_info": {
   "codemirror_mode": {
    "name": "ipython",
    "version": 3
   },
   "file_extension": ".py",
   "mimetype": "text/x-python",
   "name": "python",
   "nbconvert_exporter": "python",
   "pygments_lexer": "ipython3",
   "version": "3.10.4"
  }
 },
 "nbformat": 4,
 "nbformat_minor": 4
}
