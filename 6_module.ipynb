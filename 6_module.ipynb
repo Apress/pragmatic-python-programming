{
 "cells": [
  {
   "cell_type": "markdown",
   "metadata": {
    "tags": []
   },
   "source": [
    "# Pragmatic Python Programming\n",
    "\n",
    "2022 (C) Copyright, Gabor Guta"
   ]
  },
  {
   "cell_type": "markdown",
   "metadata": {},
   "source": [
    "The cell below is to check Python version."
   ]
  },
  {
   "cell_type": "code",
   "execution_count": null,
   "metadata": {
    "tags": []
   },
   "outputs": [],
   "source": [
    "import sys\n",
    "print(sys.version)"
   ]
  },
  {
   "cell_type": "markdown",
   "metadata": {
    "tags": []
   },
   "source": [
    "Definitions needed from the preceding chapters: Listing 3-7, 3-13, 3-17, 3-20"
   ]
  },
  {
   "cell_type": "code",
   "execution_count": null,
   "metadata": {},
   "outputs": [],
   "source": [
    "class Customer:\n",
    "    def __init__(self, name, email, phone, \n",
    "                 shipping_address, \n",
    "                 billing_address=None):\n",
    "        self.name = name\n",
    "        self.email = email\n",
    "        self.phone = phone\n",
    "        self.shipping_address = shipping_address\n",
    "        self.billing_address = billing_address\n",
    "\n",
    "\n",
    "class Address:\n",
    "    def __init__(self, zip_code, city, address, country):\n",
    "        self._zip_code = zip_code\n",
    "        self.city = city\n",
    "        self.address = address\n",
    "        self.country = country\n",
    "\n",
    "    @property\n",
    "    def full_address(self):\n",
    "        return (f'{self._zip_code} {self.city}, '\n",
    "                + f'{self.address}, {self.country}')\n",
    "    \n",
    "    @property\n",
    "    def zip_code(self):\n",
    "        return str(self._zip_code)\n",
    "    \n",
    "    @zip_code.setter\n",
    "    def zip_code(self, zip_code):\n",
    "        self._zip_code = int(zip_code)\n",
    "\n",
    "\n",
    "class Product:\n",
    "    def __init__(self, code, name, price):\n",
    "        self.code = code\n",
    "        self.name = name\n",
    "        self.price = price\n",
    "        self.old_price = price\n",
    "        \n",
    "    def reduce_price(self, percentage):\n",
    "        self.old_price = self.price\n",
    "        new_price = self.price * (1 - percentage/100)\n",
    "        self.price = round(new_price)\n",
    "        \n",
    "    def __str__(self):\n",
    "        return (f'{self.name} ({self.code}): '\n",
    "                + f'{self.old_price}=>{self.price}')\n",
    "\n",
    "    def __repr__(self):\n",
    "        return (f'<Product code={self.code}, '\n",
    "                + f'name={self.name}, '\n",
    "                + f'price={self.price}, '\n",
    "                + f'old price={self.old_price}>')\n",
    "    \n",
    "    def __eq__(self, other):\n",
    "        if isinstance(other, self.__class__):\n",
    "            return (self.code == other.code)\n",
    "        return False\n",
    "    \n",
    "\n",
    "class Order:\n",
    "    class Item:\n",
    "        def __init__(self, product, quantity):\n",
    "            self.product = product\n",
    "            self.quantity = quantity\n",
    "            \n",
    "    def __init__(self, product, \n",
    "                 quantity, customer):\n",
    "        self.item = self.Item(product, quantity)\n",
    "        self.customer = customer\n",
    "        self.state = 'CREATED'\n",
    "        \n",
    "    def close(self):\n",
    "        self.state = 'CLOSED'\n",
    "        \n",
    "    def post(self):\n",
    "        self.state = 'SENT'"
   ]
  },
  {
   "cell_type": "markdown",
   "metadata": {},
   "source": [
    "## The module"
   ]
  },
  {
   "cell_type": "markdown",
   "metadata": {},
   "source": [
    "### Listing 6-1"
   ]
  },
  {
   "cell_type": "code",
   "execution_count": null,
   "metadata": {},
   "outputs": [],
   "source": [
    "import datetime\n",
    "datetime.date(2020,2,2).strftime('%Y.%m.%d.')"
   ]
  },
  {
   "cell_type": "markdown",
   "metadata": {},
   "source": [
    "### Listing 6-2"
   ]
  },
  {
   "cell_type": "code",
   "execution_count": null,
   "metadata": {},
   "outputs": [],
   "source": [
    "import datetime as dt\n",
    "dt.date(2020,2,2).strftime('%Y.%m.%d.')"
   ]
  },
  {
   "cell_type": "markdown",
   "metadata": {},
   "source": [
    "### Listing 6-3"
   ]
  },
  {
   "cell_type": "code",
   "execution_count": null,
   "metadata": {},
   "outputs": [],
   "source": [
    "from datetime import date\n",
    "date(2020,2,2).strftime('%Y.%m.%d.')"
   ]
  },
  {
   "cell_type": "markdown",
   "metadata": {},
   "source": [
    "### Listing 6-4"
   ]
  },
  {
   "cell_type": "code",
   "execution_count": null,
   "metadata": {},
   "outputs": [],
   "source": [
    "from datetime import date as Datum\n",
    "Datum(2020,2,2).strftime('%Y.%m.%d.')"
   ]
  },
  {
   "cell_type": "markdown",
   "metadata": {},
   "source": [
    "### Listing 6-5"
   ]
  },
  {
   "cell_type": "code",
   "execution_count": null,
   "metadata": {},
   "outputs": [],
   "source": [
    "from datetime import date, timedelta\n",
    "date(2020,2,2)-date(2020,1,1) > timedelta(days=30)"
   ]
  },
  {
   "cell_type": "markdown",
   "metadata": {},
   "source": [
    "### Listing 6-6"
   ]
  },
  {
   "cell_type": "code",
   "execution_count": null,
   "metadata": {},
   "outputs": [],
   "source": [
    "from decimal import Decimal\n",
    "VALUE_DEC = Decimal('9.45')"
   ]
  },
  {
   "cell_type": "markdown",
   "metadata": {},
   "source": [
    "### Listing 6-7"
   ]
  },
  {
   "cell_type": "code",
   "execution_count": null,
   "metadata": {},
   "outputs": [],
   "source": [
    "FLOAT_NUM = 1.1\n",
    "FINANCIAL_NUM = Decimal('1.1')\n",
    "print(f'{FLOAT_NUM:.50f}, {FINANCIAL_NUM:.50f},')"
   ]
  },
  {
   "cell_type": "markdown",
   "metadata": {},
   "source": [
    "### Listing 6-8"
   ]
  },
  {
   "cell_type": "code",
   "execution_count": null,
   "metadata": {},
   "outputs": [],
   "source": [
    "from decimal import getcontext, ROUND_HALF_UP\n",
    "getcontext().rounding = ROUND_HALF_UP\n",
    "getcontext().prec=28\n",
    "AR=Decimal('33')\n",
    "AFA=Decimal('1.27')\n",
    "osszeg=(AR*AFA).quantize(Decimal('0.01'))\n",
    "print(f'{osszeg:.20f}')"
   ]
  },
  {
   "cell_type": "markdown",
   "metadata": {},
   "source": [
    "### Listing 6-9"
   ]
  },
  {
   "cell_type": "code",
   "execution_count": null,
   "metadata": {},
   "outputs": [],
   "source": [
    "from collections import deque"
   ]
  },
  {
   "cell_type": "markdown",
   "metadata": {},
   "source": [
    "### Listing 6-10"
   ]
  },
  {
   "cell_type": "code",
   "execution_count": null,
   "metadata": {},
   "outputs": [],
   "source": [
    "index_numbers = deque((1, 2, 3, 4))\n",
    "index_numbers.append(5)\n",
    "index_numbers.popleft()"
   ]
  },
  {
   "cell_type": "markdown",
   "metadata": {},
   "source": [
    "### Listing 6-11"
   ]
  },
  {
   "cell_type": "code",
   "execution_count": null,
   "metadata": {},
   "outputs": [],
   "source": [
    "if __name__=='__main__':\n",
    "    customer = Customer('X Y',\n",
    "        'xy@axonmatics.com',\n",
    "        '1/1234567',\n",
    "        Address('1011', 'Budapest',\n",
    "            'Wombat street 1st', 'HUNGARY'))\n",
    "    products = [\n",
    "        Order.Item(Product('A', 'cubE', 1), 2), \n",
    "        Order.Item(Product('B', 'cubF', 3), 5)\n",
    "    ]\n",
    "    order = Order(products, customer)\n",
    "    print(order)"
   ]
  },
  {
   "cell_type": "markdown",
   "metadata": {},
   "source": [
    "### Listing 6-14"
   ]
  },
  {
   "cell_type": "code",
   "execution_count": null,
   "metadata": {},
   "outputs": [],
   "source": [
    "import requests\n",
    "from bs4 import BeautifulSoup"
   ]
  },
  {
   "cell_type": "markdown",
   "metadata": {},
   "source": [
    "### Listing 6-15"
   ]
  },
  {
   "cell_type": "code",
   "execution_count": null,
   "metadata": {},
   "outputs": [],
   "source": [
    "Q = 'http://smartpython.axonmatics.com/quotes.html'\n",
    "r = requests.get(Q)\n",
    "print(r.status_code, r.headers['content-type'], \n",
    "      r.encoding)\n",
    "site = BeautifulSoup(r.text, 'html.parser')"
   ]
  },
  {
   "cell_type": "markdown",
   "metadata": {},
   "source": [
    "### Listing 6-16"
   ]
  },
  {
   "cell_type": "code",
   "execution_count": null,
   "metadata": {},
   "outputs": [],
   "source": [
    "site.head.title"
   ]
  },
  {
   "cell_type": "markdown",
   "metadata": {},
   "source": [
    "### Listing 6-17"
   ]
  },
  {
   "cell_type": "code",
   "execution_count": null,
   "metadata": {},
   "outputs": [],
   "source": [
    "site.head.title.text"
   ]
  },
  {
   "cell_type": "markdown",
   "metadata": {},
   "source": [
    "### Listing 6-19"
   ]
  },
  {
   "cell_type": "code",
   "execution_count": null,
   "metadata": {},
   "outputs": [],
   "source": [
    "for row in site.find_all('tr', \n",
    "        class_='book'):\n",
    "    cells = row.find_all('td')\n",
    "    print(cells[0].text, ': ', \n",
    "          cells[1].text, sep='')"
   ]
  },
  {
   "cell_type": "markdown",
   "metadata": {},
   "source": [
    "### Listing 6-20"
   ]
  },
  {
   "cell_type": "code",
   "execution_count": null,
   "metadata": {},
   "outputs": [],
   "source": [
    "import pandas as pd\n",
    "orders = pd.read_excel('orders.xlsx', \n",
    "                       index_col=0)"
   ]
  },
  {
   "cell_type": "markdown",
   "metadata": {},
   "source": [
    "### Listing 6-21"
   ]
  },
  {
   "cell_type": "code",
   "execution_count": null,
   "metadata": {
    "scrolled": true
   },
   "outputs": [],
   "source": [
    "orders.sort_values(by='Order value')"
   ]
  },
  {
   "cell_type": "markdown",
   "metadata": {},
   "source": [
    "### Listing 6-22"
   ]
  },
  {
   "cell_type": "code",
   "execution_count": null,
   "metadata": {},
   "outputs": [],
   "source": [
    "orders.groupby('Customer id').sum()"
   ]
  },
  {
   "cell_type": "markdown",
   "metadata": {},
   "source": [
    "### Listing 6-23"
   ]
  },
  {
   "cell_type": "code",
   "execution_count": null,
   "metadata": {},
   "outputs": [],
   "source": [
    "\"\"\"Model of the order management\n",
    "\n",
    "The domain model of order management system is\n",
    "modeled by these classes. They can be used\n",
    "to represent an actual order.\n",
    "\n",
    "  Example usage:\n",
    "\n",
    "  product = Product('T1', 'A product', 100)\n",
    "  product.reduce_price(10)\n",
    "\"\"\"\n",
    "__version__ = '1.0.0'\n",
    "...\n",
    "if __name__=='__main__':\n",
    "    ..."
   ]
  },
  {
   "cell_type": "markdown",
   "metadata": {},
   "source": [
    "### Listing 6-27"
   ]
  },
  {
   "cell_type": "code",
   "execution_count": null,
   "metadata": {},
   "outputs": [],
   "source": [
    "from unittest import TestCase\n",
    "\n",
    "class TestProduct(TestCase):\n",
    "    def setUp(self):\n",
    "        self.prod = Product('K01', 'Standard Cube', 1000)\n",
    "    \n",
    "    def test_product_creation(self):\n",
    "        self.assertEqual(self.prod.code, 'K01')\n",
    "        self.assertEqual(self.prod.name, 'Standard Cube')\n",
    "        self.assertEqual(self.prod.price, 1000)\n",
    "        self.assertEqual(self.prod.old_price, 1000)\n",
    "\n",
    "    def test_price_reduction(self):\n",
    "        self.prod.reduce_price(10)\n",
    "        self.assertEqual(self.prod.price, 900)\n",
    "        self.assertEqual(self.prod.old_price, 1000)\n",
    "        \n",
    "    def test_invalid_input(self):\n",
    "        with self.assertRaises(TypeError):\n",
    "            self.prod.reduce_price(\"A\")\n"
   ]
  },
  {
   "cell_type": "code",
   "execution_count": null,
   "metadata": {},
   "outputs": [],
   "source": [
    "from unittest import TestLoader, TestResult\n",
    "test_suite = TestLoader().loadTestsFromTestCase(TestProduct)\n",
    "result = test_suite.run(TestResult())\n",
    "result"
   ]
  },
  {
   "cell_type": "code",
   "execution_count": null,
   "metadata": {},
   "outputs": [],
   "source": []
  }
 ],
 "metadata": {
  "kernelspec": {
   "display_name": "Python 3 (ipykernel)",
   "language": "python",
   "name": "python3"
  },
  "language_info": {
   "codemirror_mode": {
    "name": "ipython",
    "version": 3
   },
   "file_extension": ".py",
   "mimetype": "text/x-python",
   "name": "python",
   "nbconvert_exporter": "python",
   "pygments_lexer": "ipython3",
   "version": "3.10.4"
  }
 },
 "nbformat": 4,
 "nbformat_minor": 4
}
