{
 "cells": [
  {
   "cell_type": "markdown",
   "metadata": {
    "tags": []
   },
   "source": [
    "# Pragmatic Python Programming\n",
    "\n",
    "2022 (C) Copyright, Gabor Guta"
   ]
  },
  {
   "cell_type": "markdown",
   "metadata": {},
   "source": [
    "The cell below is to check Python version."
   ]
  },
  {
   "cell_type": "code",
   "execution_count": 2,
   "metadata": {
    "tags": []
   },
   "outputs": [
    {
     "name": "stdout",
     "output_type": "stream",
     "text": [
      "3.10.4 (main, Jun 29 2022, 12:14:53) [GCC 11.2.0]\n"
     ]
    }
   ],
   "source": [
    "import sys\n",
    "print(sys.version)"
   ]
  },
  {
   "cell_type": "markdown",
   "metadata": {
    "tags": []
   },
   "source": [
    "Definitions needed from the preceding chapters: Listing 3-7, 3-13, 3-17, 3-20"
   ]
  },
  {
   "cell_type": "code",
   "execution_count": 20,
   "metadata": {},
   "outputs": [],
   "source": [
    "class Customer:\n",
    "    def __init__(self, name, email, phone, \n",
    "                 shipping_address, \n",
    "                 billing_address=None):\n",
    "        self.name = name\n",
    "        self.email = email\n",
    "        self.phone = phone\n",
    "        self.shipping_address = shipping_address\n",
    "        self.billing_address = billing_address\n",
    "\n",
    "\n",
    "class Address:\n",
    "    def __init__(self, zip_code, city, address, country):\n",
    "        self._zip_code = zip_code\n",
    "        self.city = city\n",
    "        self.address = address\n",
    "        self.country = country\n",
    "\n",
    "    @property\n",
    "    def full_address(self):\n",
    "        return (f'{self._zip_code} {self.city}, '\n",
    "                + f'{self.address}, {self.country}')\n",
    "    \n",
    "    @property\n",
    "    def zip_code(self):\n",
    "        return str(self._zip_code)\n",
    "    \n",
    "    @zip_code.setter\n",
    "    def zip_code(self, zip_code):\n",
    "        self._zip_code = int(zip_code)\n",
    "\n",
    "\n",
    "class Product:\n",
    "    def __init__(self, code, name, price):\n",
    "        self.code = code\n",
    "        self.name = name\n",
    "        self.price = price\n",
    "        self.old_price = price\n",
    "        \n",
    "    def reduce_price(self, percentage):\n",
    "        self.old_price = self.price\n",
    "        new_price = self.price * (1 - percentage/100)\n",
    "        self.price = round(new_price)\n",
    "        \n",
    "    def __str__(self):\n",
    "        return (f'{self.name} ({self.code}): '\n",
    "                + f'{self.old_price}=>{self.price}')\n",
    "\n",
    "    def __repr__(self):\n",
    "        return (f'<Product code={self.code}, '\n",
    "                + f'name={self.name}, '\n",
    "                + f'price={self.price}, '\n",
    "                + f'old price={self.old_price}>')\n",
    "    \n",
    "    def __eq__(self, other):\n",
    "        if isinstance(other, self.__class__):\n",
    "            return (self.code == other.code)\n",
    "        return False\n",
    "    \n",
    "\n",
    "class Order:\n",
    "    class Item:\n",
    "        def __init__(self, product, quantity):\n",
    "            self.product = product\n",
    "            self.quantity = quantity\n",
    "            \n",
    "    def __init__(self, products, customer):\n",
    "        self.items = list(products)\n",
    "        self.customer = customer\n",
    "        self.state = 'CREATED'\n",
    "        \n",
    "    def close(self):\n",
    "        self.state = 'CLOSED'\n",
    "        \n",
    "    def post(self):\n",
    "        self.state = 'SENT'\n",
    "\n",
    "    def __str__(self):\n",
    "        return (f'Order state: {self.state}, items: {[item.product.name+\" x\"+str(item.quantity) for item in self.items]}')\n",
    "\n",
    "    def __repr__(self):\n",
    "        return (f'<Order state={self.state}, '\n",
    "                + f'items={[item.product.name+\" x\"+str(item.quantity) for item in self.items]}')\n"
   ]
  },
  {
   "cell_type": "markdown",
   "metadata": {},
   "source": [
    "## The module"
   ]
  },
  {
   "cell_type": "markdown",
   "metadata": {},
   "source": [
    "### Listing 6-1"
   ]
  },
  {
   "cell_type": "code",
   "execution_count": 4,
   "metadata": {},
   "outputs": [
    {
     "data": {
      "text/plain": [
       "'2020.02.02.'"
      ]
     },
     "execution_count": 4,
     "metadata": {},
     "output_type": "execute_result"
    }
   ],
   "source": [
    "import datetime\n",
    "datetime.date(2020,2,2).strftime('%Y.%m.%d.')"
   ]
  },
  {
   "cell_type": "markdown",
   "metadata": {},
   "source": [
    "### Listing 6-2"
   ]
  },
  {
   "cell_type": "code",
   "execution_count": 5,
   "metadata": {},
   "outputs": [
    {
     "data": {
      "text/plain": [
       "'2020.02.02.'"
      ]
     },
     "execution_count": 5,
     "metadata": {},
     "output_type": "execute_result"
    }
   ],
   "source": [
    "import datetime as dt\n",
    "dt.date(2020,2,2).strftime('%Y.%m.%d.')"
   ]
  },
  {
   "cell_type": "markdown",
   "metadata": {},
   "source": [
    "### Listing 6-3"
   ]
  },
  {
   "cell_type": "code",
   "execution_count": 6,
   "metadata": {},
   "outputs": [
    {
     "data": {
      "text/plain": [
       "'2020.02.02.'"
      ]
     },
     "execution_count": 6,
     "metadata": {},
     "output_type": "execute_result"
    }
   ],
   "source": [
    "from datetime import date\n",
    "date(2020,2,2).strftime('%Y.%m.%d.')"
   ]
  },
  {
   "cell_type": "markdown",
   "metadata": {},
   "source": [
    "### Listing 6-4"
   ]
  },
  {
   "cell_type": "code",
   "execution_count": 7,
   "metadata": {},
   "outputs": [
    {
     "data": {
      "text/plain": [
       "'2020.02.02.'"
      ]
     },
     "execution_count": 7,
     "metadata": {},
     "output_type": "execute_result"
    }
   ],
   "source": [
    "from datetime import date as Datum\n",
    "Datum(2020,2,2).strftime('%Y.%m.%d.')"
   ]
  },
  {
   "cell_type": "markdown",
   "metadata": {},
   "source": [
    "### Listing 6-5"
   ]
  },
  {
   "cell_type": "code",
   "execution_count": 8,
   "metadata": {},
   "outputs": [
    {
     "data": {
      "text/plain": [
       "True"
      ]
     },
     "execution_count": 8,
     "metadata": {},
     "output_type": "execute_result"
    }
   ],
   "source": [
    "from datetime import date, timedelta\n",
    "date(2020,2,2)-date(2020,1,1) > timedelta(days=30)"
   ]
  },
  {
   "cell_type": "markdown",
   "metadata": {},
   "source": [
    "### Listing 6-6"
   ]
  },
  {
   "cell_type": "code",
   "execution_count": 9,
   "metadata": {},
   "outputs": [],
   "source": [
    "from decimal import Decimal\n",
    "VALUE_DEC = Decimal('9.45')"
   ]
  },
  {
   "cell_type": "markdown",
   "metadata": {},
   "source": [
    "### Listing 6-7"
   ]
  },
  {
   "cell_type": "code",
   "execution_count": null,
   "metadata": {},
   "outputs": [
    {
     "name": "stdout",
     "output_type": "stream",
     "text": [
      "1.10000000000000008881784197001252323389053344726562, 1.10000000000000000000000000000000000000000000000000,\n"
     ]
    }
   ],
   "source": [
    "FLOAT_NUM = 1.1\n",
    "FINANCIAL_NUM = Decimal('1.1')\n",
    "print(f'{FLOAT_NUM:.50f}, {FINANCIAL_NUM:.50f},')"
   ]
  },
  {
   "cell_type": "markdown",
   "metadata": {},
   "source": [
    "### Listing 6-8"
   ]
  },
  {
   "cell_type": "code",
   "execution_count": null,
   "metadata": {},
   "outputs": [
    {
     "name": "stdout",
     "output_type": "stream",
     "text": [
      "41.91000000000000000000\n"
     ]
    }
   ],
   "source": [
    "from decimal import getcontext, ROUND_HALF_UP\n",
    "getcontext().rounding = ROUND_HALF_UP\n",
    "getcontext().prec=28\n",
    "AR=Decimal('33')\n",
    "AFA=Decimal('1.27')\n",
    "osszeg=(AR*AFA).quantize(Decimal('0.01'))\n",
    "print(f'{osszeg:.20f}')"
   ]
  },
  {
   "cell_type": "markdown",
   "metadata": {},
   "source": [
    "### Listing 6-9"
   ]
  },
  {
   "cell_type": "code",
   "execution_count": null,
   "metadata": {},
   "outputs": [],
   "source": [
    "from collections import deque"
   ]
  },
  {
   "cell_type": "markdown",
   "metadata": {},
   "source": [
    "### Listing 6-10"
   ]
  },
  {
   "cell_type": "code",
   "execution_count": null,
   "metadata": {},
   "outputs": [
    {
     "data": {
      "text/plain": [
       "1"
      ]
     },
     "execution_count": 13,
     "metadata": {},
     "output_type": "execute_result"
    }
   ],
   "source": [
    "index_numbers = deque((1, 2, 3, 4))\n",
    "index_numbers.append(5)\n",
    "index_numbers.popleft()"
   ]
  },
  {
   "cell_type": "markdown",
   "metadata": {},
   "source": [
    "### Listing 6-11"
   ]
  },
  {
   "cell_type": "code",
   "execution_count": 21,
   "metadata": {},
   "outputs": [
    {
     "name": "stdout",
     "output_type": "stream",
     "text": [
      "Order state: CREATED, items: ['cubE x2', 'cubF x5']\n"
     ]
    }
   ],
   "source": [
    "if __name__=='__main__':\n",
    "    customer = Customer('X Y',\n",
    "        'xy@axonmatics.com',\n",
    "        '1/1234567',\n",
    "        Address('1011', 'Budapest',\n",
    "            'Wombat street 1st', 'HUNGARY'))\n",
    "    products = [\n",
    "        Order.Item(Product('A', 'cubE', 1), 2), \n",
    "        Order.Item(Product('B', 'cubF', 3), 5)\n",
    "    ]\n",
    "    order = Order(products, customer)\n",
    "    print(order)"
   ]
  },
  {
   "cell_type": "markdown",
   "metadata": {},
   "source": [
    "### Listing 6-14"
   ]
  },
  {
   "cell_type": "code",
   "execution_count": 22,
   "metadata": {},
   "outputs": [],
   "source": [
    "import requests\n",
    "from bs4 import BeautifulSoup"
   ]
  },
  {
   "cell_type": "markdown",
   "metadata": {},
   "source": [
    "### Listing 6-15"
   ]
  },
  {
   "cell_type": "code",
   "execution_count": 39,
   "metadata": {},
   "outputs": [
    {
     "name": "stdout",
     "output_type": "stream",
     "text": [
      "404 text/html; charset=utf-8 utf-8\n"
     ]
    },
    {
     "data": {
      "text/plain": [
       "'https://apress.github.io/pragmatic-python-programming/quotes.html'"
      ]
     },
     "execution_count": 39,
     "metadata": {},
     "output_type": "execute_result"
    }
   ],
   "source": [
    "APRESS = 'https://apress.github.io'\n",
    "Q = APRESS + '/pragmatic-python-programming/quotes.html'\n",
    "r = requests.get(Q, timeout=1)\n",
    "print(r.status_code, r.headers['content-type'], \n",
    "      r.encoding)\n",
    "site = BeautifulSoup(r.text, 'html.parser')\n",
    "Q"
   ]
  },
  {
   "cell_type": "markdown",
   "metadata": {},
   "source": [
    "### Listing 6-16"
   ]
  },
  {
   "cell_type": "code",
   "execution_count": 26,
   "metadata": {},
   "outputs": [
    {
     "ename": "NameError",
     "evalue": "name 'site' is not defined",
     "output_type": "error",
     "traceback": [
      "\u001b[0;31m---------------------------------------------------------------------------\u001b[0m",
      "\u001b[0;31mNameError\u001b[0m                                 Traceback (most recent call last)",
      "Input \u001b[0;32mIn [26]\u001b[0m, in \u001b[0;36m<cell line: 1>\u001b[0;34m()\u001b[0m\n\u001b[0;32m----> 1\u001b[0m \u001b[43msite\u001b[49m\u001b[38;5;241m.\u001b[39mhead\u001b[38;5;241m.\u001b[39mtitle\n",
      "\u001b[0;31mNameError\u001b[0m: name 'site' is not defined"
     ]
    }
   ],
   "source": [
    "site.head.title"
   ]
  },
  {
   "cell_type": "markdown",
   "metadata": {},
   "source": [
    "### Listing 6-17"
   ]
  },
  {
   "cell_type": "code",
   "execution_count": null,
   "metadata": {},
   "outputs": [],
   "source": [
    "site.head.title.text"
   ]
  },
  {
   "cell_type": "markdown",
   "metadata": {},
   "source": [
    "### Listing 6-19"
   ]
  },
  {
   "cell_type": "code",
   "execution_count": 27,
   "metadata": {},
   "outputs": [
    {
     "ename": "NameError",
     "evalue": "name 'site' is not defined",
     "output_type": "error",
     "traceback": [
      "\u001b[0;31m---------------------------------------------------------------------------\u001b[0m",
      "\u001b[0;31mNameError\u001b[0m                                 Traceback (most recent call last)",
      "Input \u001b[0;32mIn [27]\u001b[0m, in \u001b[0;36m<cell line: 1>\u001b[0;34m()\u001b[0m\n\u001b[0;32m----> 1\u001b[0m \u001b[38;5;28;01mfor\u001b[39;00m row \u001b[38;5;129;01min\u001b[39;00m \u001b[43msite\u001b[49m\u001b[38;5;241m.\u001b[39mfind_all(\u001b[38;5;124m'\u001b[39m\u001b[38;5;124mtr\u001b[39m\u001b[38;5;124m'\u001b[39m, \n\u001b[1;32m      2\u001b[0m         class_\u001b[38;5;241m=\u001b[39m\u001b[38;5;124m'\u001b[39m\u001b[38;5;124mbook\u001b[39m\u001b[38;5;124m'\u001b[39m):\n\u001b[1;32m      3\u001b[0m     cells \u001b[38;5;241m=\u001b[39m row\u001b[38;5;241m.\u001b[39mfind_all(\u001b[38;5;124m'\u001b[39m\u001b[38;5;124mtd\u001b[39m\u001b[38;5;124m'\u001b[39m)\n\u001b[1;32m      4\u001b[0m     \u001b[38;5;28mprint\u001b[39m(cells[\u001b[38;5;241m0\u001b[39m]\u001b[38;5;241m.\u001b[39mtext, \u001b[38;5;124m'\u001b[39m\u001b[38;5;124m: \u001b[39m\u001b[38;5;124m'\u001b[39m, \n\u001b[1;32m      5\u001b[0m           cells[\u001b[38;5;241m1\u001b[39m]\u001b[38;5;241m.\u001b[39mtext, sep\u001b[38;5;241m=\u001b[39m\u001b[38;5;124m'\u001b[39m\u001b[38;5;124m'\u001b[39m)\n",
      "\u001b[0;31mNameError\u001b[0m: name 'site' is not defined"
     ]
    }
   ],
   "source": [
    "for row in site.find_all('tr', \n",
    "        class_='book'):\n",
    "    cells = row.find_all('td')\n",
    "    print(cells[0].text, ': ', \n",
    "          cells[1].text, sep='')"
   ]
  },
  {
   "cell_type": "markdown",
   "metadata": {},
   "source": [
    "### Listing 6-20"
   ]
  },
  {
   "cell_type": "code",
   "execution_count": 30,
   "metadata": {},
   "outputs": [],
   "source": [
    "import pandas as pd\n",
    "orders = pd.read_excel('orders.xlsx', \n",
    "                       index_col=0)"
   ]
  },
  {
   "cell_type": "markdown",
   "metadata": {},
   "source": [
    "### Listing 6-21"
   ]
  },
  {
   "cell_type": "code",
   "execution_count": 31,
   "metadata": {
    "scrolled": true
   },
   "outputs": [
    {
     "data": {
      "text/html": [
       "<div>\n",
       "<style scoped>\n",
       "    .dataframe tbody tr th:only-of-type {\n",
       "        vertical-align: middle;\n",
       "    }\n",
       "\n",
       "    .dataframe tbody tr th {\n",
       "        vertical-align: top;\n",
       "    }\n",
       "\n",
       "    .dataframe thead th {\n",
       "        text-align: right;\n",
       "    }\n",
       "</style>\n",
       "<table border=\"1\" class=\"dataframe\">\n",
       "  <thead>\n",
       "    <tr style=\"text-align: right;\">\n",
       "      <th></th>\n",
       "      <th>Customer id</th>\n",
       "      <th>Order value</th>\n",
       "      <th>Order date</th>\n",
       "    </tr>\n",
       "    <tr>\n",
       "      <th>Order id</th>\n",
       "      <th></th>\n",
       "      <th></th>\n",
       "      <th></th>\n",
       "    </tr>\n",
       "  </thead>\n",
       "  <tbody>\n",
       "    <tr>\n",
       "      <th>R013</th>\n",
       "      <td>M001</td>\n",
       "      <td>2000</td>\n",
       "      <td>2020-01-21</td>\n",
       "    </tr>\n",
       "    <tr>\n",
       "      <th>R001</th>\n",
       "      <td>M001</td>\n",
       "      <td>10000</td>\n",
       "      <td>2020-01-15</td>\n",
       "    </tr>\n",
       "    <tr>\n",
       "      <th>R010</th>\n",
       "      <td>M001</td>\n",
       "      <td>11000</td>\n",
       "      <td>2020-01-20</td>\n",
       "    </tr>\n",
       "    <tr>\n",
       "      <th>R002</th>\n",
       "      <td>M002</td>\n",
       "      <td>13000</td>\n",
       "      <td>2020-01-15</td>\n",
       "    </tr>\n",
       "    <tr>\n",
       "      <th>R016</th>\n",
       "      <td>M004</td>\n",
       "      <td>19000</td>\n",
       "      <td>2020-01-22</td>\n",
       "    </tr>\n",
       "    <tr>\n",
       "      <th>R009</th>\n",
       "      <td>M004</td>\n",
       "      <td>22000</td>\n",
       "      <td>2020-01-18</td>\n",
       "    </tr>\n",
       "    <tr>\n",
       "      <th>R019</th>\n",
       "      <td>M001</td>\n",
       "      <td>23000</td>\n",
       "      <td>2020-01-23</td>\n",
       "    </tr>\n",
       "    <tr>\n",
       "      <th>R006</th>\n",
       "      <td>M003</td>\n",
       "      <td>25000</td>\n",
       "      <td>2020-01-17</td>\n",
       "    </tr>\n",
       "    <tr>\n",
       "      <th>R014</th>\n",
       "      <td>M001</td>\n",
       "      <td>28000</td>\n",
       "      <td>2020-01-22</td>\n",
       "    </tr>\n",
       "    <tr>\n",
       "      <th>R008</th>\n",
       "      <td>M001</td>\n",
       "      <td>31000</td>\n",
       "      <td>2020-01-18</td>\n",
       "    </tr>\n",
       "    <tr>\n",
       "      <th>R017</th>\n",
       "      <td>M002</td>\n",
       "      <td>34000</td>\n",
       "      <td>2020-01-22</td>\n",
       "    </tr>\n",
       "    <tr>\n",
       "      <th>R004</th>\n",
       "      <td>M003</td>\n",
       "      <td>37000</td>\n",
       "      <td>2020-01-16</td>\n",
       "    </tr>\n",
       "    <tr>\n",
       "      <th>R011</th>\n",
       "      <td>M002</td>\n",
       "      <td>40000</td>\n",
       "      <td>2020-01-20</td>\n",
       "    </tr>\n",
       "    <tr>\n",
       "      <th>R007</th>\n",
       "      <td>M002</td>\n",
       "      <td>42000</td>\n",
       "      <td>2020-01-17</td>\n",
       "    </tr>\n",
       "    <tr>\n",
       "      <th>R020</th>\n",
       "      <td>M003</td>\n",
       "      <td>46000</td>\n",
       "      <td>2020-01-23</td>\n",
       "    </tr>\n",
       "    <tr>\n",
       "      <th>R015</th>\n",
       "      <td>M005</td>\n",
       "      <td>52000</td>\n",
       "      <td>2020-01-22</td>\n",
       "    </tr>\n",
       "    <tr>\n",
       "      <th>R003</th>\n",
       "      <td>M002</td>\n",
       "      <td>58000</td>\n",
       "      <td>2020-01-16</td>\n",
       "    </tr>\n",
       "    <tr>\n",
       "      <th>R018</th>\n",
       "      <td>M004</td>\n",
       "      <td>61000</td>\n",
       "      <td>2020-01-23</td>\n",
       "    </tr>\n",
       "    <tr>\n",
       "      <th>R012</th>\n",
       "      <td>M003</td>\n",
       "      <td>64000</td>\n",
       "      <td>2020-01-20</td>\n",
       "    </tr>\n",
       "    <tr>\n",
       "      <th>R005</th>\n",
       "      <td>M001</td>\n",
       "      <td>70000</td>\n",
       "      <td>2020-01-16</td>\n",
       "    </tr>\n",
       "  </tbody>\n",
       "</table>\n",
       "</div>"
      ],
      "text/plain": [
       "         Customer id  Order value Order date\n",
       "Order id                                    \n",
       "R013            M001         2000 2020-01-21\n",
       "R001            M001        10000 2020-01-15\n",
       "R010            M001        11000 2020-01-20\n",
       "R002            M002        13000 2020-01-15\n",
       "R016            M004        19000 2020-01-22\n",
       "R009            M004        22000 2020-01-18\n",
       "R019            M001        23000 2020-01-23\n",
       "R006            M003        25000 2020-01-17\n",
       "R014            M001        28000 2020-01-22\n",
       "R008            M001        31000 2020-01-18\n",
       "R017            M002        34000 2020-01-22\n",
       "R004            M003        37000 2020-01-16\n",
       "R011            M002        40000 2020-01-20\n",
       "R007            M002        42000 2020-01-17\n",
       "R020            M003        46000 2020-01-23\n",
       "R015            M005        52000 2020-01-22\n",
       "R003            M002        58000 2020-01-16\n",
       "R018            M004        61000 2020-01-23\n",
       "R012            M003        64000 2020-01-20\n",
       "R005            M001        70000 2020-01-16"
      ]
     },
     "execution_count": 31,
     "metadata": {},
     "output_type": "execute_result"
    }
   ],
   "source": [
    "orders.sort_values(by='Order value')"
   ]
  },
  {
   "cell_type": "markdown",
   "metadata": {},
   "source": [
    "### Listing 6-22"
   ]
  },
  {
   "cell_type": "code",
   "execution_count": 32,
   "metadata": {},
   "outputs": [
    {
     "data": {
      "text/html": [
       "<div>\n",
       "<style scoped>\n",
       "    .dataframe tbody tr th:only-of-type {\n",
       "        vertical-align: middle;\n",
       "    }\n",
       "\n",
       "    .dataframe tbody tr th {\n",
       "        vertical-align: top;\n",
       "    }\n",
       "\n",
       "    .dataframe thead th {\n",
       "        text-align: right;\n",
       "    }\n",
       "</style>\n",
       "<table border=\"1\" class=\"dataframe\">\n",
       "  <thead>\n",
       "    <tr style=\"text-align: right;\">\n",
       "      <th></th>\n",
       "      <th>Order value</th>\n",
       "    </tr>\n",
       "    <tr>\n",
       "      <th>Customer id</th>\n",
       "      <th></th>\n",
       "    </tr>\n",
       "  </thead>\n",
       "  <tbody>\n",
       "    <tr>\n",
       "      <th>M001</th>\n",
       "      <td>175000</td>\n",
       "    </tr>\n",
       "    <tr>\n",
       "      <th>M002</th>\n",
       "      <td>187000</td>\n",
       "    </tr>\n",
       "    <tr>\n",
       "      <th>M003</th>\n",
       "      <td>172000</td>\n",
       "    </tr>\n",
       "    <tr>\n",
       "      <th>M004</th>\n",
       "      <td>102000</td>\n",
       "    </tr>\n",
       "    <tr>\n",
       "      <th>M005</th>\n",
       "      <td>52000</td>\n",
       "    </tr>\n",
       "  </tbody>\n",
       "</table>\n",
       "</div>"
      ],
      "text/plain": [
       "             Order value\n",
       "Customer id             \n",
       "M001              175000\n",
       "M002              187000\n",
       "M003              172000\n",
       "M004              102000\n",
       "M005               52000"
      ]
     },
     "execution_count": 32,
     "metadata": {},
     "output_type": "execute_result"
    }
   ],
   "source": [
    "orders.groupby('Customer id').sum()"
   ]
  },
  {
   "cell_type": "markdown",
   "metadata": {},
   "source": [
    "### Listing 6-23"
   ]
  },
  {
   "cell_type": "code",
   "execution_count": 33,
   "metadata": {},
   "outputs": [],
   "source": [
    "\"\"\"Model of the order management\n",
    "\n",
    "The domain model of order management system is\n",
    "modeled by these classes. They can be used\n",
    "to represent an actual order.\n",
    "\n",
    "  Example usage:\n",
    "\n",
    "  product = Product('T1', 'A product', 100)\n",
    "  product.reduce_price(10)\n",
    "\"\"\"\n",
    "__version__ = '1.0.0'\n",
    "...\n",
    "if __name__=='__main__':\n",
    "    ..."
   ]
  },
  {
   "cell_type": "markdown",
   "metadata": {},
   "source": [
    "### Listing 6-27"
   ]
  },
  {
   "cell_type": "code",
   "execution_count": 34,
   "metadata": {},
   "outputs": [],
   "source": [
    "from unittest import TestCase\n",
    "\n",
    "class TestProduct(TestCase):\n",
    "    def setUp(self):\n",
    "        self.prod = Product('K01', 'Standard Cube', 1000)\n",
    "    \n",
    "    def test_product_creation(self):\n",
    "        self.assertEqual(self.prod.code, 'K01')\n",
    "        self.assertEqual(self.prod.name, 'Standard Cube')\n",
    "        self.assertEqual(self.prod.price, 1000)\n",
    "        self.assertEqual(self.prod.old_price, 1000)\n",
    "\n",
    "    def test_price_reduction(self):\n",
    "        self.prod.reduce_price(10)\n",
    "        self.assertEqual(self.prod.price, 900)\n",
    "        self.assertEqual(self.prod.old_price, 1000)\n",
    "        \n",
    "    def test_invalid_input(self):\n",
    "        with self.assertRaises(TypeError):\n",
    "            self.prod.reduce_price(\"A\")\n"
   ]
  },
  {
   "cell_type": "code",
   "execution_count": 35,
   "metadata": {},
   "outputs": [
    {
     "data": {
      "text/plain": [
       "<unittest.result.TestResult run=3 errors=0 failures=0>"
      ]
     },
     "execution_count": 35,
     "metadata": {},
     "output_type": "execute_result"
    }
   ],
   "source": [
    "from unittest import TestLoader, TestResult\n",
    "test_suite = TestLoader().loadTestsFromTestCase(TestProduct)\n",
    "result = test_suite.run(TestResult())\n",
    "result"
   ]
  },
  {
   "cell_type": "code",
   "execution_count": null,
   "metadata": {},
   "outputs": [],
   "source": []
  }
 ],
 "metadata": {
  "kernelspec": {
   "display_name": "Python 3 (ipykernel)",
   "language": "python",
   "name": "python3"
  },
  "language_info": {
   "codemirror_mode": {
    "name": "ipython",
    "version": 3
   },
   "file_extension": ".py",
   "mimetype": "text/x-python",
   "name": "python",
   "nbconvert_exporter": "python",
   "pygments_lexer": "ipython3",
   "version": "3.10.4"
  }
 },
 "nbformat": 4,
 "nbformat_minor": 4
}
