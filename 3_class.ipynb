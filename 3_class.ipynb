{
 "cells": [
  {
   "cell_type": "markdown",
   "metadata": {
    "tags": []
   },
   "source": [
    "# Pragmatic Python Programming\n",
    "\n",
    "2022 (C) Copyright, Gabor Guta"
   ]
  },
  {
   "cell_type": "markdown",
   "metadata": {},
   "source": [
    "The cell below is to check Python version."
   ]
  },
  {
   "cell_type": "code",
   "execution_count": null,
   "metadata": {},
   "outputs": [],
   "source": [
    "import sys\n",
    "print(sys.version)"
   ]
  },
  {
   "cell_type": "markdown",
   "metadata": {},
   "source": [
    "## The class"
   ]
  },
  {
   "cell_type": "markdown",
   "metadata": {},
   "source": [
    "### Listing 3-1"
   ]
  },
  {
   "cell_type": "code",
   "execution_count": null,
   "metadata": {},
   "outputs": [],
   "source": [
    "INTEGER_NUMBER_0 = int()\n",
    "INTEGER_NUMBER_5 = int('5')"
   ]
  },
  {
   "cell_type": "markdown",
   "metadata": {},
   "source": [
    "### Listing 3-2"
   ]
  },
  {
   "cell_type": "code",
   "execution_count": null,
   "metadata": {},
   "outputs": [],
   "source": [
    "I = complex(0, 1) # 0+1j\n",
    "real_part = I.real\n",
    "imaginary_part = I.imag\n",
    "conjugate_value = I.conjugate()"
   ]
  },
  {
   "cell_type": "markdown",
   "metadata": {},
   "source": [
    "### Listing 3-3"
   ]
  },
  {
   "cell_type": "code",
   "execution_count": null,
   "metadata": {},
   "outputs": [],
   "source": [
    "class Product:\n",
    "    def __init__(self, code, name, price):\n",
    "        self.code = code\n",
    "        self.name = name\n",
    "        self.price = price\n",
    "        self.old_price = price\n",
    "        \n",
    "    def reduce_price(self, percentage):\n",
    "        self.old_price = self.price\n",
    "        new_price = self.price * (1 - percentage/100)\n",
    "        self.price = round(new_price)"
   ]
  },
  {
   "cell_type": "markdown",
   "metadata": {},
   "source": [
    "### Listing 3-4"
   ]
  },
  {
   "cell_type": "code",
   "execution_count": null,
   "metadata": {},
   "outputs": [],
   "source": [
    "k01 = Product('K01', 'cube', 1000)"
   ]
  },
  {
   "cell_type": "markdown",
   "metadata": {},
   "source": [
    "### Listing 3-5"
   ]
  },
  {
   "cell_type": "code",
   "execution_count": null,
   "metadata": {},
   "outputs": [],
   "source": [
    "k02 = Product('K02', 'small cube', 500)\n",
    "print(k01.name, k01.price, k02.name, k02.price)\n",
    "k01.price = 1100\n",
    "k02.name = 'midi cube'\n",
    "print(k01.name, k01.price, k02.name, k02.price)"
   ]
  },
  {
   "cell_type": "markdown",
   "metadata": {},
   "source": [
    "### Listing 3-6"
   ]
  },
  {
   "cell_type": "code",
   "execution_count": null,
   "metadata": {},
   "outputs": [],
   "source": [
    "print(k01.name, k01.price, k02.name, k02.price)\n",
    "k01.reduce_price(30)\n",
    "print(k01.name, k01.price, k02.name, k02.price)"
   ]
  },
  {
   "cell_type": "markdown",
   "metadata": {},
   "source": [
    "### Listing 3-7"
   ]
  },
  {
   "cell_type": "code",
   "execution_count": null,
   "metadata": {},
   "outputs": [],
   "source": [
    "class Address:\n",
    "    def __init__(self, country, zip_code, city, address):\n",
    "        self.country = country\n",
    "        self.zip_code = zip_code\n",
    "        self.city = city\n",
    "        self.address = address"
   ]
  },
  {
   "cell_type": "markdown",
   "metadata": {},
   "source": [
    "### Listing 3-8"
   ]
  },
  {
   "cell_type": "code",
   "execution_count": null,
   "metadata": {},
   "outputs": [],
   "source": [
    "product = Product('K01', 'cube', 1000)\n",
    "print(id(product), dir(product))"
   ]
  },
  {
   "cell_type": "markdown",
   "metadata": {},
   "source": [
    "### Listing 3-9"
   ]
  },
  {
   "cell_type": "code",
   "execution_count": null,
   "metadata": {},
   "outputs": [],
   "source": [
    "class Customer:\n",
    "    def __init__(self, name, email, phone, \n",
    "                 shipping_address, \n",
    "                 billing_address=None):\n",
    "        self.name = name\n",
    "        self.email = email\n",
    "        self.phone = phone\n",
    "        self.shipping_address = shipping_address\n",
    "        self.billing_address = billing_address"
   ]
  },
  {
   "cell_type": "markdown",
   "metadata": {},
   "source": [
    "### Listing 3-10"
   ]
  },
  {
   "cell_type": "code",
   "execution_count": null,
   "metadata": {},
   "outputs": [],
   "source": [
    "class Order:\n",
    "    def __init__(self, product, quantity, customer):\n",
    "        self.product = product\n",
    "        self.quantity = quantity\n",
    "        self.customer = customer\n",
    "        self.state = 'CREATED'\n",
    "        \n",
    "    def close(self):\n",
    "        self.state = 'READYTOPOST'\n",
    "        \n",
    "    def post(self):\n",
    "        self.state = 'SENT'"
   ]
  },
  {
   "cell_type": "markdown",
   "metadata": {
    "tags": []
   },
   "source": [
    "### Listing 3-11"
   ]
  },
  {
   "cell_type": "code",
   "execution_count": null,
   "metadata": {},
   "outputs": [],
   "source": [
    "address = Address(1020, 'Budapest', '1 Wombat Street', \"HUNGARY\")\n",
    "customer = Customer(\"Alice\", \"alice@wombatcorp.nowehere\", \"0123456789\", address)\n",
    "product = Product('C01', 'Chocolate', 1000)\n",
    "order = Order(product, 2, customer)\n",
    "print(order.state)\n",
    "order.post()\n",
    "print(order.state)\n",
    "order.close()\n",
    "print(order.state)"
   ]
  },
  {
   "cell_type": "markdown",
   "metadata": {},
   "source": [
    "### Listing 3-12"
   ]
  },
  {
   "cell_type": "code",
   "execution_count": null,
   "metadata": {},
   "outputs": [],
   "source": [
    "class Address:\n",
    "    def __init__(self, zip_code, city, address, country):\n",
    "        self._zip_code = zip_code\n",
    "        self.city = city\n",
    "        self.address = address\n",
    "        self.country = country\n",
    "\n",
    "    @property\n",
    "    def full_address(self):\n",
    "        return (f'{self.zip_code} {self.city}, '\n",
    "                + f'{self.address}, {self.country}')"
   ]
  },
  {
   "cell_type": "markdown",
   "metadata": {},
   "source": [
    "### Listing 3-13"
   ]
  },
  {
   "cell_type": "code",
   "execution_count": null,
   "metadata": {},
   "outputs": [],
   "source": [
    "class Address:\n",
    "    def __init__(self, zip_code, city, address, country):\n",
    "        self._zip_code = zip_code\n",
    "        self.city = city\n",
    "        self.address = address\n",
    "        self.country = country\n",
    "\n",
    "    @property\n",
    "    def full_address(self):\n",
    "        return (f'{self._zip_code} {self.city}, '\n",
    "                + f'{self.address}, {self.country}')\n",
    "    \n",
    "    @property\n",
    "    def zip_code(self):\n",
    "        return str(self._zip_code)\n",
    "    \n",
    "    @zip_code.setter\n",
    "    def zip_code(self, zip_code):\n",
    "        self._zip_code = int(zip_code)"
   ]
  },
  {
   "cell_type": "markdown",
   "metadata": {},
   "source": [
    "### Listing 3-14"
   ]
  },
  {
   "cell_type": "code",
   "execution_count": null,
   "metadata": {},
   "outputs": [],
   "source": [
    "address = Address(1020, 'Budapest', '1 Wombat Street', \"HUNGARY\")\n",
    "print(address.full_address)\n",
    "print(address.zip_code)\n",
    "address.zip_code='1011'\n",
    "print(address.zip_code)"
   ]
  },
  {
   "cell_type": "markdown",
   "metadata": {},
   "source": [
    "### Listing 3-15"
   ]
  },
  {
   "cell_type": "code",
   "execution_count": null,
   "metadata": {},
   "outputs": [],
   "source": [
    "class QuantifiableProduct(Product):\n",
    "    def __init__(self, code, name, price, \n",
    "                 amount, unit):\n",
    "        super().__init__(code, name, price)\n",
    "        self.amount = amount\n",
    "        self.unit = unit"
   ]
  },
  {
   "cell_type": "markdown",
   "metadata": {},
   "source": [
    "### Listing 3-16"
   ]
  },
  {
   "cell_type": "code",
   "execution_count": null,
   "metadata": {},
   "outputs": [],
   "source": [
    "m = QuantifiableProduct('C01', 'Chocolate', 1000, 500, 'g')\n",
    "print('The m is an instance of the QuantifiableProduct class:',\n",
    "      isinstance(m, QuantifiableProduct))\n",
    "print('The m is an instance of the Product class:',\n",
    "      isinstance(m, Product))\n",
    "print('The QuantifiableProduct is a subclass of the Product class:',\n",
    "      issubclass(QuantifiableProduct, Product))"
   ]
  },
  {
   "cell_type": "markdown",
   "metadata": {},
   "source": [
    "### Listing 3-17"
   ]
  },
  {
   "cell_type": "code",
   "execution_count": null,
   "metadata": {},
   "outputs": [],
   "source": [
    "class Order:\n",
    "    class Item:\n",
    "        def __init__(self, product, quantity):\n",
    "            self.product = product\n",
    "            self.quantity = quantity\n",
    "            \n",
    "    def __init__(self, product, \n",
    "                 quantity, customer):\n",
    "        self.item = self.Item(product, quantity)\n",
    "        self.customer = customer\n",
    "        self.state = 'CREATED'\n",
    "        \n",
    "    def close(self):\n",
    "        self.state = 'CLOSED'\n",
    "        \n",
    "    def post(self):\n",
    "        self.state = 'SENT'"
   ]
  },
  {
   "cell_type": "markdown",
   "metadata": {},
   "source": [
    "### Listing 3-18"
   ]
  },
  {
   "cell_type": "code",
   "execution_count": null,
   "metadata": {},
   "outputs": [],
   "source": [
    "product = Product('C01', 'Chocolate', 1000)\n",
    "item = Order.Item(product, 2)\n",
    "print(item.product, item.quantity)"
   ]
  },
  {
   "cell_type": "markdown",
   "metadata": {},
   "source": [
    "### Listing 3-19"
   ]
  },
  {
   "cell_type": "code",
   "execution_count": null,
   "metadata": {},
   "outputs": [],
   "source": [
    "class Product:\n",
    "    def __init__(self, code, nev, price):\n",
    "        self.code = code\n",
    "        self.name = nev\n",
    "        self.price = price\n",
    "        self.old_price = price\n",
    "        \n",
    "    def reduce_price(self, percentage):\n",
    "        self.old_price = self.price\n",
    "        new_price = self.price * (1 - percentage/100)\n",
    "        self.price = round(new_price)\n",
    "        \n",
    "    def __str__(self):\n",
    "        return (f'{self.name} ({self.code}): '\n",
    "                + f'{self.old_price}=>{self.price}')\n",
    "\n",
    "    def __repr__(self):\n",
    "        return (f'<Product code={self.code}, '\n",
    "                + f'name={self.name}, '\n",
    "                + f'price={self.price}, '\n",
    "                + f'old price={self.old_price}>')"
   ]
  },
  {
   "cell_type": "markdown",
   "metadata": {},
   "source": [
    "### Listing 3-20"
   ]
  },
  {
   "cell_type": "code",
   "execution_count": null,
   "metadata": {},
   "outputs": [],
   "source": [
    "class Product:\n",
    "    def __init__(self, code, name, price):\n",
    "        self.code = code\n",
    "        self.name = name\n",
    "        self.price = price\n",
    "        self.old_price = price\n",
    "        \n",
    "    def reduce_price(self, percentage):\n",
    "        self.old_price = self.price\n",
    "        new_price = self.price * (1 - percentage/100)\n",
    "        self.price = round(new_price)\n",
    "        \n",
    "    def __str__(self):\n",
    "        return (f'{self.name} ({self.code}): '\n",
    "                + f'{self.old_price}=>{self.price}')\n",
    "\n",
    "    def __repr__(self):\n",
    "        return (f'<Product code={self.code}, '\n",
    "                + f'name={self.name}, '\n",
    "                + f'price={self.price}, '\n",
    "                + f'old price={self.old_price}>')\n",
    "    \n",
    "    def __eq__(self, other):\n",
    "        if isinstance(other, self.__class__):\n",
    "            return (self.code == other.code)\n",
    "        return False"
   ]
  },
  {
   "cell_type": "markdown",
   "metadata": {},
   "source": [
    "### Listing 3-21"
   ]
  },
  {
   "cell_type": "code",
   "execution_count": null,
   "metadata": {},
   "outputs": [],
   "source": [
    "class Order:\n",
    "    \"\"\"The data and state belong to the Order\n",
    "    \n",
    "    This order contains only a single product.\n",
    "    \n",
    "    Attributes:\n",
    "        product: ordered product\n",
    "        quantity: the quantity of the product\n",
    "        customer: the customer\n",
    "        state: state of the order; 'CREATED', \n",
    "                 'SENT' or 'CLOSED'\n",
    "    \"\"\"\n",
    "    product: Product\n",
    "    quantity: int\n",
    "    customer: Customer\n",
    "    allapot: str\n",
    "\n",
    "    def __init__(self, product: Product, quantity: int, \n",
    "                 customer: Customer):\n",
    "        \"\"\"The state of the order is created\"\"\"\n",
    "        self.product = product\n",
    "        self.quantity = quantity\n",
    "        self.customer = customer\n",
    "        self.state = 'CREATED'\n",
    "                \n",
    "    def send(self) -> None:\n",
    "        \"\"\"The order sent by the supplier\"\"\"\n",
    "        self.state = 'SENT'\n",
    "        \n",
    "    def close(self) -> None:\n",
    "        \"\"\"The order closed by the supplier\"\"\"\n",
    "        self.state = 'CLOSED'\n"
   ]
  },
  {
   "cell_type": "markdown",
   "metadata": {},
   "source": [
    "### Listing 3-22"
   ]
  },
  {
   "cell_type": "code",
   "execution_count": null,
   "metadata": {},
   "outputs": [],
   "source": [
    "class Product:\n",
    "    counter = 1\n",
    "    \n",
    "    def __init__(self, code, name, price):\n",
    "        self.code = code\n",
    "        self.__class__.counter += 1\n",
    "        self.name = name\n",
    "        self.price = price\n",
    "        self.old_price = price\n",
    "        \n",
    "    def reduce_price(self, percentage):\n",
    "        self.old_price = self.price\n",
    "        new_price = self.price * (1 - percentage/100)\n",
    "        self.price = round(new_price)\n",
    "        \n",
    "    @classmethod\n",
    "    def product_count(cls):\n",
    "        return cls.counter\n",
    "\n",
    "    @staticmethod\n",
    "    def generate_str(code, name, price, old_price):\n",
    "        return f'{name} ({code}): {old_price}=>{price}'\n",
    "\n",
    "    def __str__(self):\n",
    "        product_str = self.generate_str(self.code, self.name, \n",
    "                self.price, self.old_price)\n",
    "        return f'{product_str}'\n",
    "\n",
    "    def __repr__(self):\n",
    "        product_str = self.generate_str(self.code, self.name, \n",
    "                self.price, self.old_price)\n",
    "        return f'<Product {product_str}>'\n",
    "    \n",
    "    def __eq__(self, other):\n",
    "        if isinstance(other, self.__class__):\n",
    "            return (self.price == other.price \n",
    "                    and self.code == other.code)\n",
    "        return False"
   ]
  },
  {
   "cell_type": "markdown",
   "metadata": {},
   "source": [
    "### Listing 3-23"
   ]
  },
  {
   "cell_type": "code",
   "execution_count": null,
   "metadata": {},
   "outputs": [],
   "source": [
    "from abc import ABC, abstractmethod\n",
    "\n",
    "\n",
    "class Discount(ABC):\n",
    "    @abstractmethod\n",
    "    def discount_calc(self, price, quantity):\n",
    "        ...\n",
    "    def reduced_price(self, price, quantity):\n",
    "        total_sum = price * quantity\n",
    "        discount = self.discount_calc(price, quantity)\n",
    "        return total_sum * (1-discount)\n",
    "\n",
    "class Discount4p1(Discount):\n",
    "    def discount_calc(price, quantity):\n",
    "        return ((quantity//5) / quantity)"
   ]
  },
  {
   "cell_type": "markdown",
   "metadata": {},
   "source": [
    "### Listing 3-24"
   ]
  },
  {
   "cell_type": "code",
   "execution_count": null,
   "metadata": {
    "tags": []
   },
   "outputs": [],
   "source": [
    "class Address:\n",
    "    def __init__(self, zip_code, city, address, country):\n",
    "        self._zip_code = zip_code\n",
    "        self._city = city\n",
    "        self._address = address\n",
    "        self._country = country\n",
    "\n",
    "    @property\n",
    "    def full_address(self):\n",
    "        return (f'{self._zip_code} {self.city}, '\n",
    "                + f'{self.address}, {self.country}')\n",
    "    \n",
    "    @property\n",
    "    def zip_code(self):\n",
    "        return str(self._zip_code)\n",
    "    \n",
    "    @property\n",
    "    def city(self):\n",
    "        return str(self._city)\n",
    "\n",
    "    @property\n",
    "    def address(self):\n",
    "        return str(self._address)\n",
    "    \n",
    "    @property\n",
    "    def country(self):\n",
    "        return str(self._country)\n",
    "    \n",
    "    def __eq__(self, other):\n",
    "        if isinstance(other, self.__class__):\n",
    "            return (self.zip_code == other.zip_code\n",
    "                    and self.city == other.city\n",
    "                    and self.address == self.address\n",
    "                    and self.country == self.country)\n",
    "        return False\n",
    "    \n",
    "    def __hash__(self):\n",
    "        return hash((self.zip_code, self.city, self.address, self.country))"
   ]
  },
  {
   "cell_type": "markdown",
   "metadata": {},
   "source": [
    "### Listing 3-25"
   ]
  },
  {
   "cell_type": "code",
   "execution_count": null,
   "metadata": {},
   "outputs": [],
   "source": [
    "from dataclasses import dataclass, field\n",
    "\n",
    "\n",
    "@dataclass(frozen=True)\n",
    "class Address:\n",
    "    zip_code: int\n",
    "    city: str\n",
    "    address: str\n",
    "    country: str = field(default='HUNGARY')\n",
    "    \n",
    "    @property\n",
    "    def full_address(self):\n",
    "        return (f'{self.zip_code} {self.city}, '\n",
    "                + f'{self.address}, {self.country}')\n",
    "\n",
    "address1 = Address(1020, 'Budapest', '1 Wombat Street')"
   ]
  },
  {
   "cell_type": "code",
   "execution_count": null,
   "metadata": {},
   "outputs": [],
   "source": []
  }
 ],
 "metadata": {
  "kernelspec": {
   "display_name": "Python 3 (ipykernel)",
   "language": "python",
   "name": "python3"
  },
  "language_info": {
   "codemirror_mode": {
    "name": "ipython",
    "version": 3
   },
   "file_extension": ".py",
   "mimetype": "text/x-python",
   "name": "python",
   "nbconvert_exporter": "python",
   "pygments_lexer": "ipython3",
   "version": "3.10.4"
  }
 },
 "nbformat": 4,
 "nbformat_minor": 4
}
