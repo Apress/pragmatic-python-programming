{
 "cells": [
  {
   "cell_type": "markdown",
   "metadata": {
    "tags": []
   },
   "source": [
    "# Pragmatic Python Programming\n",
    "\n",
    "2022 (C) Copyright, Gabor Guta"
   ]
  },
  {
   "cell_type": "markdown",
   "metadata": {},
   "source": [
    "The cell below is to check Python version."
   ]
  },
  {
   "cell_type": "code",
   "execution_count": null,
   "metadata": {
    "tags": []
   },
   "outputs": [],
   "source": [
    "import sys\n",
    "print(sys.version)"
   ]
  },
  {
   "cell_type": "markdown",
   "metadata": {},
   "source": [
    "## Binary data representation"
   ]
  },
  {
   "cell_type": "markdown",
   "metadata": {},
   "source": [
    "### Listing A-1"
   ]
  },
  {
   "cell_type": "code",
   "execution_count": null,
   "metadata": {},
   "outputs": [],
   "source": [
    "print(bin(42))\n",
    "print(0b101010, int('101010', 2))"
   ]
  },
  {
   "cell_type": "markdown",
   "metadata": {},
   "source": [
    "### Listing A-2"
   ]
  },
  {
   "cell_type": "code",
   "execution_count": null,
   "metadata": {},
   "outputs": [],
   "source": [
    "print('A:', bin(42), '~:', bin(~42%256), \n",
    "      '<<:', bin(42<<1), '>>:', bin(42>>1), )"
   ]
  },
  {
   "cell_type": "markdown",
   "metadata": {},
   "source": [
    "### Listing A-3"
   ]
  },
  {
   "cell_type": "code",
   "execution_count": null,
   "metadata": {},
   "outputs": [],
   "source": [
    "print('A:', bin(42), 'B:', bin(15), \n",
    "      '&:', bin(42&15),'|:',  bin(42|15),\n",
    "      '^:',  bin(42^15))"
   ]
  },
  {
   "cell_type": "markdown",
   "metadata": {},
   "source": [
    "### Listing A-4"
   ]
  },
  {
   "cell_type": "code",
   "execution_count": null,
   "metadata": {},
   "outputs": [],
   "source": [
    "DATA = b'temp'\n",
    "data_rw = bytearray()\n",
    "data_rw.extend(DATA)\n",
    "data_rw.append(5)\n",
    "print(DATA, data_rw)"
   ]
  },
  {
   "cell_type": "markdown",
   "metadata": {},
   "source": [
    "### Listing A-5"
   ]
  },
  {
   "cell_type": "code",
   "execution_count": null,
   "metadata": {},
   "outputs": [],
   "source": [
    "print(ord('t'), chr(116))"
   ]
  },
  {
   "cell_type": "markdown",
   "metadata": {},
   "source": [
    "### Listing A-6"
   ]
  },
  {
   "cell_type": "code",
   "execution_count": null,
   "metadata": {},
   "outputs": [],
   "source": [
    "print(b'temp'.decode())\n",
    "print('temp ÁÉÍÓÚ'.encode())"
   ]
  },
  {
   "cell_type": "markdown",
   "metadata": {},
   "source": [
    "### Listing A-7"
   ]
  },
  {
   "cell_type": "code",
   "execution_count": null,
   "metadata": {},
   "outputs": [],
   "source": [
    "INTEGER = 768\n",
    "byte_repr = INTEGER.to_bytes(2, byteorder='little')\n",
    "reverse = int.from_bytes(byte_repr, byteorder='little')\n",
    "print(byte_repr, reverse)"
   ]
  },
  {
   "cell_type": "markdown",
   "metadata": {},
   "source": [
    "### Listing A-8"
   ]
  },
  {
   "cell_type": "code",
   "execution_count": null,
   "metadata": {},
   "outputs": [],
   "source": [
    "from struct import pack, unpack\n",
    "print(pack('B', (42)), \n",
    "      pack('>H', (42)), pack('<H', (42)))\n",
    "print(unpack('>H', b'\\x00*'), \n",
    "      unpack('<H', b'\\x00*')) #42*256"
   ]
  },
  {
   "cell_type": "markdown",
   "metadata": {},
   "source": [
    "## Type hints"
   ]
  },
  {
   "cell_type": "markdown",
   "metadata": {},
   "source": [
    "### Listing B-1"
   ]
  },
  {
   "cell_type": "code",
   "execution_count": null,
   "metadata": {},
   "outputs": [],
   "source": [
    "from typing import (Optional, Union, Any)\n",
    "a: list[int] = [1, 2, 4, 8]\n",
    "b: set[str] = {'a', 'b', 'c'}\n",
    "c: dict[str, float] = {'a': 2.3, 'b': 5.5}\n",
    "d: tuple[str, int] = ('a', 1)\n",
    "e: Optional[int] = None\n",
    "e = 3\n",
    "f: Union[int, str] = 3\n",
    "f = 'hello'\n",
    "g: Any = 3\n",
    "g = 'hello'"
   ]
  },
  {
   "cell_type": "markdown",
   "metadata": {},
   "source": [
    "### Listing B-2"
   ]
  },
  {
   "cell_type": "code",
   "execution_count": null,
   "metadata": {},
   "outputs": [],
   "source": [
    "ProductRecord = tuple[str, str, int]"
   ]
  },
  {
   "cell_type": "markdown",
   "metadata": {},
   "source": [
    "### Listing B-3"
   ]
  },
  {
   "cell_type": "code",
   "execution_count": null,
   "metadata": {},
   "outputs": [],
   "source": [
    "from typing import NewType\n",
    "ProductId = NewType('ProductId', str)"
   ]
  },
  {
   "cell_type": "markdown",
   "metadata": {},
   "source": [
    "### Listing B-4"
   ]
  },
  {
   "cell_type": "code",
   "execution_count": null,
   "metadata": {},
   "outputs": [],
   "source": [
    "from typing import Protocol\n",
    "class Discountable(Protocol):\n",
    "    def discount(self, szazalek: int) -> int:\n",
    "        ..."
   ]
  },
  {
   "cell_type": "markdown",
   "metadata": {},
   "source": [
    "### Listing B-5"
   ]
  },
  {
   "cell_type": "code",
   "execution_count": null,
   "metadata": {},
   "outputs": [],
   "source": [
    "from decimal import Decimal\n",
    "from typing import TypeVar, Callable\n",
    "\n",
    "\n",
    "#Number for financle calculation\n",
    "FN = TypeVar('FN', int, Decimal)\n",
    "\n",
    "\n",
    "def discount_value(price: FN, quantity: int, \n",
    "        discount: Callable[[FN, int], FN]) -> FN:\n",
    "    value: FN = price * quantity\n",
    "    discount: FN = discount(price, quantity)\n",
    "    return value*(1-discount)\n",
    "\n",
    "print('Result of the example call of discount_value function:',\n",
    "      discount_value(1000, 10, lambda p, q: 0.1 if p*q > 5000 else 0))"
   ]
  },
  {
   "cell_type": "markdown",
   "metadata": {},
   "source": [
    "## Asynchronous programming overview"
   ]
  },
  {
   "cell_type": "markdown",
   "metadata": {},
   "source": [
    "### Listing C-1"
   ]
  },
  {
   "cell_type": "code",
   "execution_count": null,
   "metadata": {},
   "outputs": [],
   "source": [
    "import asyncio\n",
    "\n",
    "async def main():\n",
    "    print('Hello World!')\n",
    "    \n",
    "#asyncio.run(main())\n",
    "loop = asyncio.get_event_loop()\n",
    "loop.create_task(main())"
   ]
  },
  {
   "cell_type": "markdown",
   "metadata": {},
   "source": [
    "### Listing C-2"
   ]
  },
  {
   "cell_type": "code",
   "execution_count": null,
   "metadata": {},
   "outputs": [],
   "source": [
    "import asyncio\n",
    "\n",
    "async def hello(name, count=10):\n",
    "    for i in range(1, count+1):\n",
    "        print(f'Hello {name}! (x {i})')\n",
    "\n",
    "async def main():\n",
    "    await hello(\"World\", 1)\n",
    "\n",
    "\n",
    "#asyncio.run(main())\n",
    "loop = asyncio.get_event_loop()\n",
    "loop.create_task(main())"
   ]
  },
  {
   "cell_type": "markdown",
   "metadata": {},
   "source": [
    "### Listing C-3"
   ]
  },
  {
   "cell_type": "code",
   "execution_count": null,
   "metadata": {},
   "outputs": [],
   "source": [
    "import asyncio\n",
    "\n",
    "async def hello(name, count=10):\n",
    "    for i in range(1, count+1):\n",
    "        print(f'Hello {name}! (x {i})')\n",
    "\n",
    "async def main():\n",
    "    await asyncio.gather(hello(\"Alice\"), hello(\"Bob\"))\n",
    "\n",
    "\n",
    "#asyncio.run(main())\n",
    "loop = asyncio.get_event_loop()\n",
    "loop.create_task(main())"
   ]
  },
  {
   "cell_type": "markdown",
   "metadata": {},
   "source": [
    "### Listing C-4"
   ]
  },
  {
   "cell_type": "code",
   "execution_count": null,
   "metadata": {},
   "outputs": [],
   "source": [
    "import asyncio\n",
    "\n",
    "async def hello(name, count=10, delay=0):\n",
    "    for i in range(1, count+1):\n",
    "        print(f'Hello {name}! (x {i})')\n",
    "        await asyncio.sleep(delay)\n",
    "\n",
    "async def main():\n",
    "    await asyncio.gather(hello(\"Alice\"), hello(\"Bob\"))\n",
    "\n",
    "\n",
    "#asyncio.run(main())\n",
    "loop = asyncio.get_event_loop()\n",
    "loop.create_task(main())"
   ]
  },
  {
   "cell_type": "markdown",
   "metadata": {},
   "source": [
    "### Listing C-5"
   ]
  },
  {
   "cell_type": "code",
   "execution_count": null,
   "metadata": {},
   "outputs": [],
   "source": [
    "import asyncio\n",
    "\n",
    "async def hello(name, count=10, delay=0):\n",
    "    for i in range(1, count+1):\n",
    "        print(f'Hello {name}! (x {i})')\n",
    "        await asyncio.sleep(delay)\n",
    "\n",
    "        \n",
    "async def main():\n",
    "    task_a = asyncio.create_task(hello(\"Alice\", count=10, delay=1))\n",
    "    task_b = asyncio.create_task(hello(\"Bob\", count=5, delay=1))\n",
    "    print(task_a.done(), task_b.done())\n",
    "    await task_b # approx. 5 sec\n",
    "    print(task_a.done(), task_b.done())\n",
    "    await asyncio.sleep(10) # approx. 2+4 sec\n",
    "    print(task_a.done(), task_b.done())\n",
    "\n",
    "\n",
    "#asyncio.run(main())\n",
    "loop = asyncio.get_event_loop()\n",
    "loop.create_task(main())"
   ]
  },
  {
   "cell_type": "code",
   "execution_count": null,
   "metadata": {},
   "outputs": [],
   "source": [
    "import asyncio\n",
    "\n",
    "async def hello(name, count=10, delay=0):\n",
    "    for i in range(1, count+1):\n",
    "        print(f'Hello {name}! (x {i})')\n",
    "        await asyncio.sleep(delay)\n",
    "\n",
    "async def hello_gen(name, count=10, delay=0):\n",
    "    for i in range(1, count+1):\n",
    "        print('Returned a value {count} (x {i})')\n",
    "        yield f'Hello {name}! (x {i})'\n",
    "        await asyncio.sleep(delay)\n",
    "\n",
    "        \n",
    "async def main():\n",
    "    task_a = asyncio.create_task(hello(\"Alice\", 10, delay=1))\n",
    "    async for message_b in hello_gen(\"Bob\", 10, delay=1):\n",
    "        print(message_b)\n",
    "    await task_a\n",
    "\n",
    "#asyncio.run(main())\n",
    "loop = asyncio.get_event_loop()\n",
    "loop.create_task(main())"
   ]
  },
  {
   "cell_type": "code",
   "execution_count": null,
   "metadata": {},
   "outputs": [],
   "source": []
  }
 ],
 "metadata": {
  "kernelspec": {
   "display_name": "Python 3 (ipykernel)",
   "language": "python",
   "name": "python3"
  },
  "language_info": {
   "codemirror_mode": {
    "name": "ipython",
    "version": 3
   },
   "file_extension": ".py",
   "mimetype": "text/x-python",
   "name": "python",
   "nbconvert_exporter": "python",
   "pygments_lexer": "ipython3",
   "version": "3.10.4"
  }
 },
 "nbformat": 4,
 "nbformat_minor": 4
}
